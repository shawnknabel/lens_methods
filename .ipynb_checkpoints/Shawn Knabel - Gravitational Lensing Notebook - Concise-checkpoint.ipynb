{
 "cells": [
  {
   "cell_type": "code",
   "execution_count": 1,
   "metadata": {},
   "outputs": [],
   "source": [
    "%matplotlib inline\n",
    "import matplotlib.pyplot as plt\n",
    "import numpy as np\n",
    "import pandas as pd\n",
    "from astropy.io import fits\n",
    "from matplotlib_venn import venn3, venn3_circles"
   ]
  },
  {
   "cell_type": "markdown",
   "metadata": {},
   "source": [
    "## Fix this nonsense! File paths."
   ]
  },
  {
   "cell_type": "code",
   "execution_count": 2,
   "metadata": {},
   "outputs": [
    {
     "ename": "FileNotFoundError",
     "evalue": "[Errno 2] File b'/home/shawn/Downloads/final_sample.csv' does not exist: b'/home/shawn/Downloads/final_sample.csv'",
     "output_type": "error",
     "traceback": [
      "\u001b[0;31m---------------------------------------------------------------------------\u001b[0m",
      "\u001b[0;31mFileNotFoundError\u001b[0m                         Traceback (most recent call last)",
      "\u001b[0;32m<ipython-input-2-f4eece895817>\u001b[0m in \u001b[0;36m<module>\u001b[0;34m\u001b[0m\n\u001b[1;32m      1\u001b[0m \u001b[0;31m# Reading in Machine Learning and Spectroscopy Data\u001b[0m\u001b[0;34m\u001b[0m\u001b[0;34m\u001b[0m\u001b[0;34m\u001b[0m\u001b[0m\n\u001b[0;32m----> 2\u001b[0;31m \u001b[0mspec\u001b[0m \u001b[0;34m=\u001b[0m \u001b[0mpd\u001b[0m\u001b[0;34m.\u001b[0m\u001b[0mread_csv\u001b[0m\u001b[0;34m(\u001b[0m\u001b[0;34m'/home/shawn/Downloads/final_sample.csv'\u001b[0m\u001b[0;34m)\u001b[0m\u001b[0;34m\u001b[0m\u001b[0;34m\u001b[0m\u001b[0m\n\u001b[0m\u001b[1;32m      3\u001b[0m \u001b[0mspec_in_gama\u001b[0m \u001b[0;34m=\u001b[0m \u001b[0mpd\u001b[0m\u001b[0;34m.\u001b[0m\u001b[0mread_csv\u001b[0m\u001b[0;34m(\u001b[0m\u001b[0;34m'/home/shawn/Documents/Lens_Project_Files/spec_in_gama.csv'\u001b[0m\u001b[0;34m)\u001b[0m\u001b[0;34m\u001b[0m\u001b[0;34m\u001b[0m\u001b[0m\n\u001b[1;32m      4\u001b[0m \u001b[0mspec_with_mass\u001b[0m \u001b[0;34m=\u001b[0m \u001b[0mpd\u001b[0m\u001b[0;34m.\u001b[0m\u001b[0mread_csv\u001b[0m\u001b[0;34m(\u001b[0m\u001b[0;34m'/home/shawn/Documents/Lens_Project_Files/spec_with_mass.csv'\u001b[0m\u001b[0;34m)\u001b[0m\u001b[0;34m\u001b[0m\u001b[0;34m\u001b[0m\u001b[0m\n\u001b[1;32m      5\u001b[0m \u001b[0;34m\u001b[0m\u001b[0m\n",
      "\u001b[0;32m~/miniconda3/envs/astroconda/lib/python3.7/site-packages/pandas/io/parsers.py\u001b[0m in \u001b[0;36mparser_f\u001b[0;34m(filepath_or_buffer, sep, delimiter, header, names, index_col, usecols, squeeze, prefix, mangle_dupe_cols, dtype, engine, converters, true_values, false_values, skipinitialspace, skiprows, skipfooter, nrows, na_values, keep_default_na, na_filter, verbose, skip_blank_lines, parse_dates, infer_datetime_format, keep_date_col, date_parser, dayfirst, iterator, chunksize, compression, thousands, decimal, lineterminator, quotechar, quoting, doublequote, escapechar, comment, encoding, dialect, tupleize_cols, error_bad_lines, warn_bad_lines, delim_whitespace, low_memory, memory_map, float_precision)\u001b[0m\n\u001b[1;32m    700\u001b[0m                     skip_blank_lines=skip_blank_lines)\n\u001b[1;32m    701\u001b[0m \u001b[0;34m\u001b[0m\u001b[0m\n\u001b[0;32m--> 702\u001b[0;31m         \u001b[0;32mreturn\u001b[0m \u001b[0m_read\u001b[0m\u001b[0;34m(\u001b[0m\u001b[0mfilepath_or_buffer\u001b[0m\u001b[0;34m,\u001b[0m \u001b[0mkwds\u001b[0m\u001b[0;34m)\u001b[0m\u001b[0;34m\u001b[0m\u001b[0;34m\u001b[0m\u001b[0m\n\u001b[0m\u001b[1;32m    703\u001b[0m \u001b[0;34m\u001b[0m\u001b[0m\n\u001b[1;32m    704\u001b[0m     \u001b[0mparser_f\u001b[0m\u001b[0;34m.\u001b[0m\u001b[0m__name__\u001b[0m \u001b[0;34m=\u001b[0m \u001b[0mname\u001b[0m\u001b[0;34m\u001b[0m\u001b[0;34m\u001b[0m\u001b[0m\n",
      "\u001b[0;32m~/miniconda3/envs/astroconda/lib/python3.7/site-packages/pandas/io/parsers.py\u001b[0m in \u001b[0;36m_read\u001b[0;34m(filepath_or_buffer, kwds)\u001b[0m\n\u001b[1;32m    427\u001b[0m \u001b[0;34m\u001b[0m\u001b[0m\n\u001b[1;32m    428\u001b[0m     \u001b[0;31m# Create the parser.\u001b[0m\u001b[0;34m\u001b[0m\u001b[0;34m\u001b[0m\u001b[0;34m\u001b[0m\u001b[0m\n\u001b[0;32m--> 429\u001b[0;31m     \u001b[0mparser\u001b[0m \u001b[0;34m=\u001b[0m \u001b[0mTextFileReader\u001b[0m\u001b[0;34m(\u001b[0m\u001b[0mfilepath_or_buffer\u001b[0m\u001b[0;34m,\u001b[0m \u001b[0;34m**\u001b[0m\u001b[0mkwds\u001b[0m\u001b[0;34m)\u001b[0m\u001b[0;34m\u001b[0m\u001b[0;34m\u001b[0m\u001b[0m\n\u001b[0m\u001b[1;32m    430\u001b[0m \u001b[0;34m\u001b[0m\u001b[0m\n\u001b[1;32m    431\u001b[0m     \u001b[0;32mif\u001b[0m \u001b[0mchunksize\u001b[0m \u001b[0;32mor\u001b[0m \u001b[0miterator\u001b[0m\u001b[0;34m:\u001b[0m\u001b[0;34m\u001b[0m\u001b[0;34m\u001b[0m\u001b[0m\n",
      "\u001b[0;32m~/miniconda3/envs/astroconda/lib/python3.7/site-packages/pandas/io/parsers.py\u001b[0m in \u001b[0;36m__init__\u001b[0;34m(self, f, engine, **kwds)\u001b[0m\n\u001b[1;32m    893\u001b[0m             \u001b[0mself\u001b[0m\u001b[0;34m.\u001b[0m\u001b[0moptions\u001b[0m\u001b[0;34m[\u001b[0m\u001b[0;34m'has_index_names'\u001b[0m\u001b[0;34m]\u001b[0m \u001b[0;34m=\u001b[0m \u001b[0mkwds\u001b[0m\u001b[0;34m[\u001b[0m\u001b[0;34m'has_index_names'\u001b[0m\u001b[0;34m]\u001b[0m\u001b[0;34m\u001b[0m\u001b[0;34m\u001b[0m\u001b[0m\n\u001b[1;32m    894\u001b[0m \u001b[0;34m\u001b[0m\u001b[0m\n\u001b[0;32m--> 895\u001b[0;31m         \u001b[0mself\u001b[0m\u001b[0;34m.\u001b[0m\u001b[0m_make_engine\u001b[0m\u001b[0;34m(\u001b[0m\u001b[0mself\u001b[0m\u001b[0;34m.\u001b[0m\u001b[0mengine\u001b[0m\u001b[0;34m)\u001b[0m\u001b[0;34m\u001b[0m\u001b[0;34m\u001b[0m\u001b[0m\n\u001b[0m\u001b[1;32m    896\u001b[0m \u001b[0;34m\u001b[0m\u001b[0m\n\u001b[1;32m    897\u001b[0m     \u001b[0;32mdef\u001b[0m \u001b[0mclose\u001b[0m\u001b[0;34m(\u001b[0m\u001b[0mself\u001b[0m\u001b[0;34m)\u001b[0m\u001b[0;34m:\u001b[0m\u001b[0;34m\u001b[0m\u001b[0;34m\u001b[0m\u001b[0m\n",
      "\u001b[0;32m~/miniconda3/envs/astroconda/lib/python3.7/site-packages/pandas/io/parsers.py\u001b[0m in \u001b[0;36m_make_engine\u001b[0;34m(self, engine)\u001b[0m\n\u001b[1;32m   1120\u001b[0m     \u001b[0;32mdef\u001b[0m \u001b[0m_make_engine\u001b[0m\u001b[0;34m(\u001b[0m\u001b[0mself\u001b[0m\u001b[0;34m,\u001b[0m \u001b[0mengine\u001b[0m\u001b[0;34m=\u001b[0m\u001b[0;34m'c'\u001b[0m\u001b[0;34m)\u001b[0m\u001b[0;34m:\u001b[0m\u001b[0;34m\u001b[0m\u001b[0;34m\u001b[0m\u001b[0m\n\u001b[1;32m   1121\u001b[0m         \u001b[0;32mif\u001b[0m \u001b[0mengine\u001b[0m \u001b[0;34m==\u001b[0m \u001b[0;34m'c'\u001b[0m\u001b[0;34m:\u001b[0m\u001b[0;34m\u001b[0m\u001b[0;34m\u001b[0m\u001b[0m\n\u001b[0;32m-> 1122\u001b[0;31m             \u001b[0mself\u001b[0m\u001b[0;34m.\u001b[0m\u001b[0m_engine\u001b[0m \u001b[0;34m=\u001b[0m \u001b[0mCParserWrapper\u001b[0m\u001b[0;34m(\u001b[0m\u001b[0mself\u001b[0m\u001b[0;34m.\u001b[0m\u001b[0mf\u001b[0m\u001b[0;34m,\u001b[0m \u001b[0;34m**\u001b[0m\u001b[0mself\u001b[0m\u001b[0;34m.\u001b[0m\u001b[0moptions\u001b[0m\u001b[0;34m)\u001b[0m\u001b[0;34m\u001b[0m\u001b[0;34m\u001b[0m\u001b[0m\n\u001b[0m\u001b[1;32m   1123\u001b[0m         \u001b[0;32melse\u001b[0m\u001b[0;34m:\u001b[0m\u001b[0;34m\u001b[0m\u001b[0;34m\u001b[0m\u001b[0m\n\u001b[1;32m   1124\u001b[0m             \u001b[0;32mif\u001b[0m \u001b[0mengine\u001b[0m \u001b[0;34m==\u001b[0m \u001b[0;34m'python'\u001b[0m\u001b[0;34m:\u001b[0m\u001b[0;34m\u001b[0m\u001b[0;34m\u001b[0m\u001b[0m\n",
      "\u001b[0;32m~/miniconda3/envs/astroconda/lib/python3.7/site-packages/pandas/io/parsers.py\u001b[0m in \u001b[0;36m__init__\u001b[0;34m(self, src, **kwds)\u001b[0m\n\u001b[1;32m   1851\u001b[0m         \u001b[0mkwds\u001b[0m\u001b[0;34m[\u001b[0m\u001b[0;34m'usecols'\u001b[0m\u001b[0;34m]\u001b[0m \u001b[0;34m=\u001b[0m \u001b[0mself\u001b[0m\u001b[0;34m.\u001b[0m\u001b[0musecols\u001b[0m\u001b[0;34m\u001b[0m\u001b[0;34m\u001b[0m\u001b[0m\n\u001b[1;32m   1852\u001b[0m \u001b[0;34m\u001b[0m\u001b[0m\n\u001b[0;32m-> 1853\u001b[0;31m         \u001b[0mself\u001b[0m\u001b[0;34m.\u001b[0m\u001b[0m_reader\u001b[0m \u001b[0;34m=\u001b[0m \u001b[0mparsers\u001b[0m\u001b[0;34m.\u001b[0m\u001b[0mTextReader\u001b[0m\u001b[0;34m(\u001b[0m\u001b[0msrc\u001b[0m\u001b[0;34m,\u001b[0m \u001b[0;34m**\u001b[0m\u001b[0mkwds\u001b[0m\u001b[0;34m)\u001b[0m\u001b[0;34m\u001b[0m\u001b[0;34m\u001b[0m\u001b[0m\n\u001b[0m\u001b[1;32m   1854\u001b[0m         \u001b[0mself\u001b[0m\u001b[0;34m.\u001b[0m\u001b[0munnamed_cols\u001b[0m \u001b[0;34m=\u001b[0m \u001b[0mself\u001b[0m\u001b[0;34m.\u001b[0m\u001b[0m_reader\u001b[0m\u001b[0;34m.\u001b[0m\u001b[0munnamed_cols\u001b[0m\u001b[0;34m\u001b[0m\u001b[0;34m\u001b[0m\u001b[0m\n\u001b[1;32m   1855\u001b[0m \u001b[0;34m\u001b[0m\u001b[0m\n",
      "\u001b[0;32mpandas/_libs/parsers.pyx\u001b[0m in \u001b[0;36mpandas._libs.parsers.TextReader.__cinit__\u001b[0;34m()\u001b[0m\n",
      "\u001b[0;32mpandas/_libs/parsers.pyx\u001b[0m in \u001b[0;36mpandas._libs.parsers.TextReader._setup_parser_source\u001b[0;34m()\u001b[0m\n",
      "\u001b[0;31mFileNotFoundError\u001b[0m: [Errno 2] File b'/home/shawn/Downloads/final_sample.csv' does not exist: b'/home/shawn/Downloads/final_sample.csv'"
     ]
    }
   ],
   "source": [
    "# Reading in Machine Learning and Spectroscopy Data\n",
    "spec = pd.read_csv('/home/shawn/Downloads/final_sample.csv')\n",
    "spec_in_gama = pd.read_csv('/home/shawn/Documents/Lens_Project_Files/spec_in_gama.csv')\n",
    "spec_with_mass = pd.read_csv('/home/shawn/Documents/Lens_Project_Files/spec_with_mass.csv')\n",
    "\n",
    "mac = pd.read_csv('/home/shawn/Downloads/linkstable_trimmed.csv')\n",
    "mac_in_gama = pd.read_csv('/home/shawn/Documents/Lens_Project_Files/mac_in_gama.csv')\n",
    "mac_in_gama_withgamaid = pd.read_csv('/home/shawn/Documents/Lens_Project_Files/mac_in_gama_withgamaid.csv')\n",
    "mac_with_mass = pd.read_csv('/home/shawn/Documents/Lens_Project_Files/mac_with_mass.csv')\n",
    "\n",
    "zoo_in_gama = pd.read_csv('/home/shawn/Documents/Lens_Project_Files/zoo_in_gama.csv')\n",
    "zoo_in_gama_found_lens = pd.read_csv('/home/shawn/Documents/Lens_Project_Files/zoo_in_gama_found_lens.csv')\n",
    "zoo_20 = pd.read_csv('/home/shawn/Documents/Lens_Project_Files/zoo_20.csv')\n",
    "zoo_with_mass = pd.read_csv('/home/shawn/Documents/Lens_Project_Files/zoo_with_mass.csv')\n",
    "zoo_lens_with_mass = pd.read_csv('/home/shawn/Documents/Lens_Project_Files/zoo_lens_with_mass.csv')\n",
    "zoo_lens20_with_mass = pd.read_csv('/home/shawn/Documents/Lens_Project_Files/zoo_lens20_with_mass.csv')\n",
    "\n",
    "mac_and_spec_matches = pd.read_csv('/home/shawn/Documents/Lens_Project_Files/mac_and_spec_matches.csv')\n",
    "mac_and_zoo_matches = pd.read_csv('/home/shawn/Documents/Lens_Project_Files/mac_and_zoo_matches.csv')\n",
    "spec_and_zoo_matches = pd.read_csv('/home/shawn/Documents/Lens_Project_Files/spec_and_zoo_matches.csv')"
   ]
  },
  {
   "cell_type": "code",
   "execution_count": null,
   "metadata": {},
   "outputs": [],
   "source": [
    "# Spec shows 85 objects in G09, G12, and G15\n",
    "spec_in_gama"
   ]
  },
  {
   "cell_type": "code",
   "execution_count": null,
   "metadata": {},
   "outputs": [],
   "source": [
    "# Spec with mass for those objects which were measured (still no count)\n",
    "spec_with_mass"
   ]
  },
  {
   "cell_type": "code",
   "execution_count": null,
   "metadata": {},
   "outputs": [],
   "source": [
    "# Mac shows 421 objects in G09, G12, and G15\n",
    "mac_in_gama"
   ]
  },
  {
   "cell_type": "code",
   "execution_count": null,
   "metadata": {},
   "outputs": [],
   "source": [
    "# Mac with GAMA ID added\n",
    "mac_in_gama_withgamaid"
   ]
  },
  {
   "cell_type": "code",
   "execution_count": null,
   "metadata": {},
   "outputs": [],
   "source": [
    "# Mac with mass for thoseobjects which were measured (still no count)\n",
    "mac_with_mass"
   ]
  },
  {
   "cell_type": "code",
   "execution_count": null,
   "metadata": {},
   "outputs": [],
   "source": [
    "# 38769 total objects from Galaxy Zoo.\n",
    "zoo_in_gama"
   ]
  },
  {
   "cell_type": "code",
   "execution_count": null,
   "metadata": {},
   "outputs": [],
   "source": [
    "# Zoo identified 12933 lenses with score above 0.\n",
    "zoo_in_gama_found_lens"
   ]
  },
  {
   "cell_type": "code",
   "execution_count": null,
   "metadata": {},
   "outputs": [],
   "source": [
    "# Zoo identified 462 lenses with score above 20.\n",
    "zoo_20"
   ]
  },
  {
   "cell_type": "code",
   "execution_count": null,
   "metadata": {},
   "outputs": [],
   "source": [
    "# All Zoo objects with masses\n",
    "zoo_with_mass"
   ]
  },
  {
   "cell_type": "code",
   "execution_count": null,
   "metadata": {},
   "outputs": [],
   "source": [
    "# Zoo objects with score > 0 with masses\n",
    "zoo_lens_with_mass"
   ]
  },
  {
   "cell_type": "code",
   "execution_count": null,
   "metadata": {},
   "outputs": [],
   "source": [
    "# Zoo objects with score > 20 with masses\n",
    "zoo_lens20_with_mass"
   ]
  },
  {
   "cell_type": "code",
   "execution_count": null,
   "metadata": {},
   "outputs": [],
   "source": [
    "# Histogram of Lens Scores\n",
    "plt.xlabel(\"Fraction of Participants who Identified Lens Features\")\n",
    "plt.ylabel(\"Number of Candidate Samples\")\n",
    "plt.title(\"Galaxy Zoo Lens Selection Scores\")\n",
    "plt.hist(zoo_in_gama_found_lens.LENS_SCORE,range=[0.05,1],bins=200,color='wheat')"
   ]
  },
  {
   "cell_type": "code",
   "execution_count": null,
   "metadata": {},
   "outputs": [],
   "source": [
    "# Plot of three methods by location in three fields. Zoo data \n",
    "# is given for all objects that received score > 0\n",
    "plt.plot(zoo_in_gama_found_lens.RA,zoo_in_gama_found_lens.DEC,'yo',label='Galaxy Zoo')\n",
    "plt.plot(mac_in_gama.RA,mac_in_gama.DEC,'go',label='Machine Learning')\n",
    "plt.plot(spec_in_gama.RA,spec_in_gama.DEC,'bo',label='Spectroscopy')\n",
    "\n",
    "plt.xlabel(\"Right Ascension\")\n",
    "plt.ylabel(\"Declination\")\n",
    "plt.title(\"Three Methods by Location\")\n",
    "plt.legend(loc='best')\n",
    "\n",
    "plt.show()"
   ]
  },
  {
   "cell_type": "code",
   "execution_count": null,
   "metadata": {
    "scrolled": true
   },
   "outputs": [],
   "source": [
    "# Identifying the lenses found in GAMA Regions G09, G12, and G15 from\n",
    "\n",
    "spec_in_G09 = spec[(spec.ra >= 129.0) & (spec.ra <= 141.0) & (spec.dec >= -2) & (spec.dec <= 3)]\n",
    "spec_in_G12 = spec[(spec.ra >= 174.0) & (spec.ra <= 186.0) & (spec.dec >= -3) & (spec.dec <= 2)]                   \n",
    "spec_in_G15 = spec[(spec.ra >= 211.5) & (spec.ra <= 223.5) & (spec.dec >= -2) & (spec.dec <= 3)]\n",
    "\n",
    "mac_in_G09 = mac[(mac.RA >= 129.0) & (mac.RA <= 141.0) & (mac.DEC >= -2) & (mac.DEC <= 3)]\n",
    "mac_in_G12 = mac[(mac.RA >= 174.0) & (mac.RA <= 186.0) & (mac.DEC >= -3) & (mac.DEC <= 2)]\n",
    "mac_in_G15 = mac[(mac.RA >= 211.5) & (mac.RA <= 223.5) & (mac.DEC >= -2) & (mac.DEC <= 3)]\n",
    "\n",
    "zoo_20_in_G09 = zoo_20[(zoo_20.RA >= 129.0) & (zoo_20.RA <= 141.0) & (zoo_20.DEC >= -2) & (zoo_20.DEC <= 3)]\n",
    "zoo_20_in_G12 = zoo_20[(zoo_20.RA >= 174.0) & (zoo_20.RA <= 186.0) & (zoo_20.DEC >= -3) & (zoo_20.DEC <= 2)]\n",
    "zoo_20_in_G15 = zoo_20[(zoo_20.RA >= 211.5) & (zoo_20.RA <= 223.5) & (zoo_20.DEC >= -2) & (zoo_20.DEC <= 3)]\n",
    "\n",
    "\n",
    "# Plots of individual GAMA regions G09, G12, and G15 to show the distribution.\n",
    "# Plot of G09.\n",
    "plt.plot(zoo_20_in_G09.RA,zoo_20_in_G09.DEC,'yo',label='Galaxy Zoo')\n",
    "plt.plot(mac_in_G09.RA,mac_in_G09.DEC,'go',label='Machine Learning')\n",
    "plt.plot(spec_in_G09.ra,spec_in_G09.dec,'bo',label='GAMA Spectroscopy')\n",
    "\n",
    "plt.xlabel(\"Right Ascension\")\n",
    "plt.ylabel(\"Declination\")\n",
    "plt.title(\"GAMA Region G09\")\n",
    "plt.legend(loc='best')\n",
    "\n",
    "plt.show()\n",
    "\n",
    "# Plot of G12.\n",
    "plt.plot(zoo_20_in_G12.RA,zoo_20_in_G12.DEC,'yo',label='Galaxy Zoo')\n",
    "plt.plot(mac_in_G12.RA,mac_in_G12.DEC,'go',label='Machine Learning')\n",
    "plt.plot(spec_in_G12.ra,spec_in_G12.dec,'bo',label='GAMA Spectroscopy')\n",
    "\n",
    "plt.xlabel(\"Right Ascension\")\n",
    "plt.ylabel(\"Declination\")\n",
    "plt.title(\"GAMA Region G12\")\n",
    "plt.legend(loc='best')\n",
    "\n",
    "plt.show()\n",
    "\n",
    "# Plot of G15.\n",
    "plt.plot(zoo_20_in_G15.RA,zoo_20_in_G15.DEC,'yo',label='Galaxy Zoo')\n",
    "plt.plot(mac_in_G15.RA,mac_in_G15.DEC,'go',label='Machine Learning')\n",
    "plt.plot(spec_in_G15.ra,spec_in_G15.dec,'bo',label='GAMA Spectroscopy')\n",
    "\n",
    "plt.xlabel(\"Right Ascension\")\n",
    "plt.ylabel(\"Declination\")\n",
    "plt.title(\"GAMA Region G15\")\n",
    "plt.legend(loc='best')\n",
    "\n",
    "plt.show()"
   ]
  },
  {
   "cell_type": "code",
   "execution_count": null,
   "metadata": {},
   "outputs": [],
   "source": [
    "# Found 4 matches between Mac and Spec\n",
    "mac_and_spec_matches"
   ]
  },
  {
   "cell_type": "code",
   "execution_count": null,
   "metadata": {},
   "outputs": [],
   "source": [
    "# Found 11 matches between Mac and Zoo (1 duplicate)\n",
    "mac_and_zoo_matches"
   ]
  },
  {
   "cell_type": "code",
   "execution_count": null,
   "metadata": {},
   "outputs": [],
   "source": [
    "# Found 1 match between Spec and Zoo\n",
    "spec_and_zoo_matches"
   ]
  },
  {
   "cell_type": "code",
   "execution_count": null,
   "metadata": {},
   "outputs": [],
   "source": [
    "# Plot of Z to Stellar Mass using Zoo with Lens Score > 0.\n",
    "plt.plot(np.log10(zoo_lens_with_mass.STELLAR_MASS), zoo_lens_with_mass.Z,'y.',label='Galaxy Zoo')\n",
    "plt.plot(np.log10(mac_with_mass.STELLAR_MASS), mac_with_mass.Z, 'g.',label='Machine Learning')\n",
    "plt.plot(np.log10(spec_with_mass.STELLAR_MASS), spec_with_mass.Z, 'b.',label='Spectroscopy')\n",
    "\n",
    "plt.xlabel(\"Stellar Mass - log(M*)\")\n",
    "plt.ylabel(\"Z - Redshift\")\n",
    "plt.title(\"Stellar Mass and Redshift\")\n",
    "plt.legend(loc='best')\n",
    "\n",
    "plt.show()"
   ]
  },
  {
   "cell_type": "code",
   "execution_count": null,
   "metadata": {
    "scrolled": true
   },
   "outputs": [],
   "source": [
    "# Same plot as above, using Zoo with Lens Score above 20%\n",
    "plt.plot(np.log10(zoo_lens20_with_mass.STELLAR_MASS), zoo_lens20_with_mass.Z, 'y.',label='Galaxy Zoo')\n",
    "plt.plot(np.log10(mac_with_mass.STELLAR_MASS), mac_with_mass.Z, 'g.',label='Machine Learning')\n",
    "plt.plot(np.log10(spec_with_mass.STELLAR_MASS), spec_with_mass.Z, 'b.',label='GAMA Spectroscopy')\n",
    "\n",
    "plt.xlabel(r\"Stellar Mass - $log(M^*/M_\\odot)$\")\n",
    "plt.ylabel(\"Redshift - Z\")\n",
    "plt.title(\"Stellar Mass and Redshift\")\n",
    "plt.legend(loc='best')\n",
    "\n",
    "plt.show()"
   ]
  },
  {
   "cell_type": "code",
   "execution_count": null,
   "metadata": {},
   "outputs": [],
   "source": [
    "### 6/8 Next thing I need to do is get the masses on the matched dataframes."
   ]
  }
 ],
 "metadata": {
  "kernelspec": {
   "display_name": "Python 3",
   "language": "python",
   "name": "python3"
  },
  "language_info": {
   "codemirror_mode": {
    "name": "ipython",
    "version": 3
   },
   "file_extension": ".py",
   "mimetype": "text/x-python",
   "name": "python",
   "nbconvert_exporter": "python",
   "pygments_lexer": "ipython3",
   "version": "3.7.2"
  }
 },
 "nbformat": 4,
 "nbformat_minor": 2
}
