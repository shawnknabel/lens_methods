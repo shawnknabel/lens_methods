{
 "cells": [
  {
   "cell_type": "code",
   "execution_count": 24,
   "metadata": {
    "scrolled": true
   },
   "outputs": [
    {
     "name": "stdout",
     "output_type": "stream",
     "text": [
      "ColDefs(\n",
      "    name = 'region'; format = '6A'\n",
      "    name = 'subject_id'; format = '24A'\n",
      "    name = 'survey_id'; format = '7A'\n",
      "    name = 'zooniverse_id'; format = '10A'\n",
      "    name = 'features_total'; format = 'D'\n",
      "    name = 'edgeon_total'; format = 'D'\n",
      "    name = 'bar_total'; format = 'D'\n",
      "    name = 'spiral_total'; format = 'D'\n",
      "    name = 'bulge_total'; format = 'D'\n",
      "    name = 'spiralwinding_total'; format = 'D'\n",
      "    name = 'spiralnumber_total'; format = 'D'\n",
      "    name = 'bulgeshape_total'; format = 'D'\n",
      "    name = 'round_total'; format = 'D'\n",
      "    name = 'mergers_total'; format = 'D'\n",
      "    name = 'oddtype_total'; format = 'D'\n",
      "    name = 'discuss_total'; format = 'D'\n",
      "    name = 'odd_total'; format = 'D'\n",
      "    name = 'features_smooth_frac'; format = 'D'\n",
      "    name = 'features_features_frac'; format = 'D'\n",
      "    name = 'features_star_or_artifact_frac'; format = 'D'\n",
      "    name = 'edgeon_yes_frac'; format = 'D'\n",
      "    name = 'edgeon_no_frac'; format = 'D'\n",
      "    name = 'bar_bar_frac'; format = 'D'\n",
      "    name = 'bar_no_bar_frac'; format = 'D'\n",
      "    name = 'spiral_spiral_frac'; format = 'D'\n",
      "    name = 'spiral_no_spiral_frac'; format = 'D'\n",
      "    name = 'bulge_no_bulge_frac'; format = 'D'\n",
      "    name = 'bulge_obvious_frac'; format = 'D'\n",
      "    name = 'bulge_dominant_frac'; format = 'D'\n",
      "    name = 'spiralwinding_tight_frac'; format = 'D'\n",
      "    name = 'spiralwinding_medium_frac'; format = 'D'\n",
      "    name = 'spiralwinding_loose_frac'; format = 'D'\n",
      "    name = 'spiralnumber_1_frac'; format = 'D'\n",
      "    name = 'spiralnumber_2_frac'; format = 'D'\n",
      "    name = 'spiralnumber_3_frac'; format = 'D'\n",
      "    name = 'spiralnumber_4_frac'; format = 'D'\n",
      "    name = 'spiralnumber_more_than_4_frac'; format = 'D'\n",
      "    name = 'bulgeshape_rounded_frac'; format = 'D'\n",
      "    name = 'bulgeshape_boxy_frac'; format = 'D'\n",
      "    name = 'bulgeshape_no_bulge_frac'; format = 'D'\n",
      "    name = 'round_completely_round_frac'; format = 'D'\n",
      "    name = 'round_in_between_frac'; format = 'D'\n",
      "    name = 'round_cigar_shaped_frac'; format = 'D'\n",
      "    name = 'mergers_merging_frac'; format = 'D'\n",
      "    name = 'mergers_tidal_debris_frac'; format = 'D'\n",
      "    name = 'mergers_both_frac'; format = 'D'\n",
      "    name = 'mergers_neither_frac'; format = 'D'\n",
      "    name = 'oddtype_none_frac'; format = 'D'\n",
      "    name = 'oddtype_ring_frac'; format = 'D'\n",
      "    name = 'oddtype_lens_or_arc_frac'; format = 'D'\n",
      "    name = 'oddtype_irregular_frac'; format = 'D'\n",
      "    name = 'oddtype_other_frac'; format = 'D'\n",
      "    name = 'oddtype_dust_lane_frac'; format = 'D'\n",
      "    name = 'oddtype_overlapping_frac'; format = 'D'\n",
      "    name = 'discuss_yes_frac'; format = 'D'\n",
      "    name = 'discuss_no_frac'; format = 'D'\n",
      ")\n",
      "49851\n",
      "[2305327 2305316 1672022 ...,  491738  491619  463380]\n"
     ]
    },
    {
     "name": "stderr",
     "output_type": "stream",
     "text": [
      "/Users/holwerda/anaconda3/envs/astroconda3/lib/python3.5/site-packages/numpy/lib/function_base.py:748: RuntimeWarning: invalid value encountered in greater_equal\n",
      "  keep = (tmp_a >= mn)\n",
      "/Users/holwerda/anaconda3/envs/astroconda3/lib/python3.5/site-packages/numpy/lib/function_base.py:749: RuntimeWarning: invalid value encountered in less_equal\n",
      "  keep &= (tmp_a <= mx)\n"
     ]
    },
    {
     "data": {
      "text/plain": [
       "[<matplotlib.lines.Line2D at 0x10f3cc9e8>]"
      ]
     },
     "execution_count": 24,
     "metadata": {},
     "output_type": "execute_result"
    },
    {
     "data": {
      "image/png": "[encoded data removed]",
      "text/plain": [
       "<matplotlib.figure.Figure at 0x10ee7d278>"
      ]
     },
     "metadata": {},
     "output_type": "display_data"
    }
   ],
   "source": [
    "# Reading in the GAMA/KiDS Data\n",
    "\n",
    "from astropy.io import fits\n",
    "import numpy as np\n",
    "import matplotlib.pyplot as plt\n",
    "\n",
    "hdul = fits.open('galaxy_zoo_gama_cleaned.fits')  # open a FITS file\n",
    "data = hdul[1].data  # assume the first extension is a table\n",
    "print(hdul[1].columns)\n",
    "\n",
    "subj_id = data['subject_id']\n",
    "survey_id = data['survey_id'] # GAMA IDs\n",
    "zooniverse_id = data['zooniverse_id']\n",
    "\n",
    "# Total number of votes in features\n",
    "# features_total = data['features_total']\n",
    "# edgeon_total = data['edgeon_total']\n",
    "                 \n",
    "# features_smooth_frac = data['features_smooth_frac']\n",
    "# features_features_frac = data['features_features_frac']\n",
    "# features_star_or_artifact_frac = data['features_star_or_artifact_frac']\n",
    "\n",
    "# # fraction Edgeon==Y\n",
    "# edgeon_yes_frac = data['edgeon_yes_frac']\n",
    "# edgeon_no_frac = data['edgeon_no_frac']\n",
    "\n",
    "# # fraction of votes voting for lens or arc\n",
    "# oddtype_lens_or_arc_frac = data['oddtype_lens_or_arc_frac']\n",
    "# print(oddtype_lens_or_arc_frac)\n",
    "# oddtype_lens_or_arc_total = data['oddtype_lens_or_arc_total']\n",
    "\n",
    "\n",
    "\n",
    "# # Merging? Y/N\n",
    "# mergers_merging_frac      = data['mergers_merging_frac']\n",
    "# mergers_tidal_debris_frac = data['mergers_tidal_debris_frac']\n",
    "# mergers_both_frac         = data['mergers_both_frac']\n",
    "# mergers_neither_frac      = data['mergers_neither_frac']\n",
    "# bulgeshape_rounded_frac   = data['bulgeshape_rounded_frac']\n",
    "# bulgeshape_boxy_frac      = data['bulgeshape_boxy_frac']\n",
    "# bulgeshape_no_bulge_frac  = data['bulgeshape_no_bulge_frac']\n",
    "                 \n",
    "oddtype_lens_arc_frac    = data['oddtype_lens_or_arc_frac']\n",
    "\n",
    "hdul.close()\n",
    "\n",
    "print(len(oddtype_lens_arc_frac))\n",
    "\n",
    "plt.hist(oddtype_lens_arc_frac,range=[0.05,1],bins=20)\n",
    "\n",
    "\n",
    "hdul = fits.open('AATSpecAll.fits')  # open a FITS file\n",
    "gama = hdul[1].data  # assume the first extension is a table\n",
    "# print(hdul[1].columns)\n",
    "\n",
    "gama_id = gama['CATAID']\n",
    "gama_ra = gama['RA']\n",
    "gama_dec = gama['DEC']\n",
    "\n",
    "print(gama_id)\n",
    "\n",
    "# matching up RA DEC using the GAMA ID\n",
    "\n",
    "where_galaxyzoo = np.in1d(gama_id,survey_id)\n",
    "\n",
    "galaxyzoo_ra = gama_ra[where_galaxyzoo]\n",
    "galaxyzoo_dec = gama_dec[where_galaxyzoo]\n",
    "\n",
    "plt.plot(galaxyzoo_ra,galaxyzoo_dec,'ko')\n"
   ]
  },
  {
   "cell_type": "code",
   "execution_count": 1,
   "metadata": {},
   "outputs": [
    {
     "ename": "NameError",
     "evalue": "name 'fits' is not defined",
     "output_type": "error",
     "traceback": [
      "\u001b[0;31m---------------------------------------------------------------------------\u001b[0m",
      "\u001b[0;31mNameError\u001b[0m                                 Traceback (most recent call last)",
      "\u001b[0;32m<ipython-input-1-2a356b9088e2>\u001b[0m in \u001b[0;36m<module>\u001b[0;34m\u001b[0m\n\u001b[1;32m      1\u001b[0m \u001b[0;34m\u001b[0m\u001b[0m\n\u001b[0;32m----> 2\u001b[0;31m \u001b[0mhdul\u001b[0m \u001b[0;34m=\u001b[0m \u001b[0mfits\u001b[0m\u001b[0;34m.\u001b[0m\u001b[0mopen\u001b[0m\u001b[0;34m(\u001b[0m\u001b[0;34m'AATSpecAll.fits'\u001b[0m\u001b[0;34m)\u001b[0m  \u001b[0;31m# open a FITS file\u001b[0m\u001b[0;34m\u001b[0m\u001b[0;34m\u001b[0m\u001b[0m\n\u001b[0m\u001b[1;32m      3\u001b[0m \u001b[0mgama\u001b[0m \u001b[0;34m=\u001b[0m \u001b[0mhdul\u001b[0m\u001b[0;34m[\u001b[0m\u001b[0;36m1\u001b[0m\u001b[0;34m]\u001b[0m\u001b[0;34m.\u001b[0m\u001b[0mdata\u001b[0m  \u001b[0;31m# assume the first extension is a table\u001b[0m\u001b[0;34m\u001b[0m\u001b[0;34m\u001b[0m\u001b[0m\n\u001b[1;32m      4\u001b[0m \u001b[0;31m# print(hdul[1].columns)\u001b[0m\u001b[0;34m\u001b[0m\u001b[0;34m\u001b[0m\u001b[0;34m\u001b[0m\u001b[0m\n\u001b[1;32m      5\u001b[0m \u001b[0;34m\u001b[0m\u001b[0m\n",
      "\u001b[0;31mNameError\u001b[0m: name 'fits' is not defined"
     ]
    }
   ],
   "source": [
    "\n",
    "hdul = fits.open('AATSpecAll.fits')  # open a FITS file\n",
    "gama = hdul[1].data  # assume the first extension is a table\n",
    "# print(hdul[1].columns)\n",
    "\n",
    "gama_id = gama['CATAID']\n",
    "gama_ra = gama['RA']\n",
    "gama_dec = gama['DEC']\n",
    "\n",
    "print(gama_id)\n",
    "\n",
    "# matching up RA DEC using the GAMA ID\n",
    "\n",
    "where_galaxyzoo = np.in1d(gama_id,survey_id)\n",
    "\n",
    "galaxyzoo_ra = gama_ra[where_galaxyzoo]\n",
    "galaxyzoo_dec = gama_dec[where_galaxyzoo]\n",
    "\n",
    "print(\n",
    "    len(galaxyzoo_ra),\n",
    "    len(oddtype_lens_arc_frac)\n",
    ")\n",
    "wherelens = np.where(oddtype_lens_arc_frac>0.05)\n",
    "\n",
    "plt.plot(galaxyzoo_ra,galaxyzoo_dec,'k.')\n",
    "plt.plot(galaxyzoo_ra[wherelens],galaxyzoo_dec[wherelens],'bo')\n",
    "\n",
    "\n"
   ]
  },
  {
   "cell_type": "code",
   "execution_count": 10,
   "metadata": {},
   "outputs": [
    {
     "name": "stdout",
     "output_type": "stream",
     "text": [
      " ID  score   P1    P3      RA       DEC    DISC\n",
      "---- ----- ----- ----- --------- --------- ----\n",
      " 805    70   1.0 0.999 159.78072  -2.27497    0\n",
      "1588    70 0.999 0.999 333.41257 -33.19898    0\n",
      "2854    70   1.0   1.0  46.66543 -27.60745    0\n",
      "2075    70 0.957    -- 338.65674 -32.36358    0\n",
      "2251    64 0.887 0.901 131.33397  -0.91563    0\n",
      "3096    64    -- 0.937 357.76907 -32.88947    0\n",
      "2729    64   1.0   1.0  203.7478   0.27151    0\n",
      " 329    58    -- 0.929 200.23593   1.66408    0\n",
      " 738    58    -- 0.948  23.51542 -30.54075    0\n",
      "1078    58 0.987 0.953 356.83185 -33.50623    0\n",
      " ...   ...   ...   ...       ...       ...  ...\n",
      "2207    16 0.952 0.951 212.50432   1.49919    2\n",
      "3169    16 0.989 0.981 217.50757  -1.84587    2\n",
      " 593    14 0.834    -- 185.20137   0.36279    2\n",
      "2429    12 0.876 0.928 138.37955   0.65181    2\n",
      " 104     8 0.939 0.963  336.6181 -33.74481    2\n",
      "1521     4 0.931    -- 132.11688   2.37434    2\n",
      "2250     4 0.997    -- 176.70961  -1.43842    2\n",
      "1938    42 0.903 0.992 129.35904   1.94427    2\n",
      "2730    28 0.999   1.0 214.36708   1.99311    2\n",
      "1800     4    -- 0.909 129.35904   1.94428    2\n",
      "1852     4 0.824 0.961 214.63086  -0.01464    2\n",
      "Length = 1983 rows\n",
      "    RA   \n",
      "---------\n",
      "159.78072\n",
      "333.41257\n",
      " 46.66543\n",
      "338.65674\n",
      "131.33397\n",
      "357.76907\n",
      " 203.7478\n",
      "200.23593\n",
      " 23.51542\n",
      "356.83185\n",
      "      ...\n",
      "212.50432\n",
      "217.50757\n",
      "185.20137\n",
      "138.37955\n",
      " 336.6181\n",
      "132.11688\n",
      "176.70961\n",
      "129.35904\n",
      "214.36708\n",
      "129.35904\n",
      "214.63086\n",
      "Length = 1983 rows\n"
     ]
    }
   ],
   "source": [
    "# Petrillo et al Machine LEarning results \n",
    "from astropy.io import ascii\n",
    "\n",
    "\n",
    "ML = ascii.read(\"./linkstable.csv\") # ,names=['z','re'])\n",
    "print(ML)\n",
    "ml_ra = ML['RA']\n",
    "print(ml_ra)"
   ]
  },
  {
   "cell_type": "code",
   "execution_count": 13,
   "metadata": {},
   "outputs": [
    {
     "name": "stdout",
     "output_type": "stream",
     "text": [
      " id     ra      dec      z1     z2   spec_type  cataid\n",
      "--- --------- -------- ------ ------ --------- -------\n",
      "  0  138.2815 -0.66673  0.163  0.321    PG+ELG  198082\n",
      "  1 129.69546 -0.38179  0.418  0.738    PG+ELG  202448\n",
      "  2 136.63883 -0.35203  0.282  0.449    PG+ELG  204140\n",
      "  3 132.36771   0.1636  0.128  0.603    PG+ELG  209222\n",
      "  4 132.61013  0.11972  0.313  0.608    PG+ELG  209295\n",
      "  5 134.02979  0.15244  0.167  0.158    PG+ELG  209584\n",
      "  6 140.14187  0.97341  0.586  0.336    PG+ELG  279956\n",
      "  7 135.32929  1.22984  0.487  0.247    PG+ELG  301818\n",
      "  8 138.94058  1.33144  0.593  0.404    PG+ELG  302719\n",
      "  9 130.73717  1.55957  0.416   0.35    PG+ELG  323200\n",
      "...       ...      ...    ...    ...       ...     ...\n",
      "131    348.69  -31.531 0.1955 0.2438    PG+ELG 5327168\n",
      "142  340.2153  -30.458 0.2185 0.2602    PG+ELG 5205278\n",
      "143   345.708 -31.6132 0.1017 0.2789    PG+ELG 5278488\n",
      "144  344.9055 -31.1903 0.1835 0.6495    PG+ELG 5265318\n",
      "187  342.7772 -33.0433 0.3207 0.3278    PG+ELG 5137833\n",
      "188   343.978 -30.7589  0.359 0.7222    PG+ELG 5247328\n",
      "189  342.5759 -31.9096 0.3876 0.4254    PG+ELG 5229802\n",
      "190  345.6853 -33.3673 0.2208 0.3188    PG+ELG 5151434\n",
      "191  346.7303 -34.8736 0.2064 0.4942    PG+ELG 5287452\n",
      "192  340.0066 -34.1301  0.218 0.3009    PG+ELG 5196710\n",
      "198  344.0924 -34.8805 0.1993 0.3265    PG+ELG 5251563\n",
      "Length = 122 rows\n"
     ]
    }
   ],
   "source": [
    "# reading in the spectroscopic sample\n",
    "\n",
    "Spec = ascii.read(\"./final_sample.csv\",names=['id','ra','dec','z1','z2','spec_type','cataid'])\n",
    "print(Spec)"
   ]
  },
  {
   "cell_type": "code",
   "execution_count": 21,
   "metadata": {},
   "outputs": [
    {
     "name": "stdout",
     "output_type": "stream",
     "text": [
      "342.05453 -30.91587\n",
      "129.69547 -0.38179\n",
      "130.73718 1.55961\n",
      "215.069 2.22428\n",
      "182.74348 1.59789\n",
      "5\n"
     ]
    }
   ],
   "source": [
    "# crosscorrelating ML and Spec\n",
    "k =0 \n",
    "for i in range(len(ML['RA'])):\n",
    "    for j in range(len(Spec['dec'])):\n",
    "        if abs(ML['RA'][i] - Spec['ra'][j]) < 2./3600. and abs(ML['DEC'][i] - Spec['dec'][j]) < 2./3600. :\n",
    "            print(ML['RA'][i],ML['DEC'][i])\n",
    "            k +=1 \n",
    "print(k)"
   ]
  },
  {
   "cell_type": "code",
   "execution_count": null,
   "metadata": {},
   "outputs": [],
   "source": []
  }
 ],
 "metadata": {
  "kernelspec": {
   "display_name": "Python 3",
   "language": "python",
   "name": "python3"
  },
  "language_info": {
   "codemirror_mode": {
    "name": "ipython",
    "version": 3
   },
   "file_extension": ".py",
   "mimetype": "text/x-python",
   "name": "python",
   "nbconvert_exporter": "python",
   "pygments_lexer": "ipython3",
   "version": "3.7.2"
  }
 },
 "nbformat": 4,
 "nbformat_minor": 2
}
