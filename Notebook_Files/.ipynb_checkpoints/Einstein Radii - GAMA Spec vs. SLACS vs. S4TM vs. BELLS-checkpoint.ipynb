{
 "cells": [
  {
   "cell_type": "code",
   "execution_count": 128,
   "metadata": {},
   "outputs": [],
   "source": [
    "%matplotlib inline\n",
    "import matplotlib.pyplot as plt\n",
    "import numpy as np\n",
    "from numpy.polynomial.polynomial import polyfit\n",
    "import pandas as pd\n",
    "from astropy.io import fits\n",
    "from matplotlib_venn import venn3, venn3_circles\n",
    "import matplotlib.lines as lines\n",
    "from astropy import constants as const\n",
    "from astropy.io import fits\n",
    "import astropy.coordinates as coord\n",
    "import astropy.units as u\n",
    "from astropy.table import Table\n",
    "# import ephem\n",
    "from astropy.cosmology import FlatLambdaCDM"
   ]
  },
  {
   "cell_type": "code",
   "execution_count": 129,
   "metadata": {},
   "outputs": [],
   "source": [
    "#---------------------------------------------------------\n",
    "#Constants, taken from mass_SFR.py done by former students\n",
    "#---------------------------------------------------------\n",
    "Mag_sun_w1 = 3.254\n",
    "Mag_sun_error_w1 = np.sqrt(0.008**2+0.02**2) #extra 0!!\n",
    "Mag_sun_kt = 3.302\n",
    "Mag_sun_error_kt = np.sqrt(0.008**2+0.02**2)\n",
    "lum_sun = 3.828e26 #in W from NASA fact sheet\n",
    "c = const.c.to('km/s').value #c in km/s\n",
    "nu_3 = (c*1000)/(11.5608e-6) #in s^-1 from Table 1 in Jarrett et al. (2011) (link: http://iopscience.iop.org/article/10.1088/0004-637X/735/2/112/pdf)\n",
    "zp_3 = 31.674 #in Jy Table 1 this WISE guide: http://wise2.ipac.caltech.edu/docs/release/allsky/expsup/sec4_4h.html#example\n",
    "a_3 = [1.13, 10.24] #Cluver14\n",
    "a_4 = [0.82, 7.3] #Cluver14\n",
    "h0 = 73.8 #h0 in km/(Mpc*s) Riess2011\n",
    "h0_error = 2.4 # km/(Mpc*s)\n",
    "parsec = 3.08567758e16 #m\n",
    "jansky = 1e-26 #W/m^2/Hz\n",
    "cosmo = FlatLambdaCDM(h0, Om0=0.262) # Shawn: to match cosmology used by Becky"
   ]
  },
  {
   "cell_type": "code",
   "execution_count": 130,
   "metadata": {},
   "outputs": [],
   "source": [
    "spec_121519 = pd.read_csv('/home/shawn/Desktop/gravitational_lensing_research/Lens_Project_Files/spec_121519.csv')\n",
    "slacs_gama = pd.read_csv('/home/shawn/Desktop/gravitational_lensing_research/Lens_Project_Files/slacs_gama.csv')\n",
    "slacs = pd.read_csv('/home/shawn/Desktop/gravitational_lensing_research/Lens_Project_Files/slacs_lens_details.csv')"
   ]
  },
  {
   "cell_type": "code",
   "execution_count": 131,
   "metadata": {
    "scrolled": true
   },
   "outputs": [
    {
     "data": {
      "text/plain": [
       "Index(['Name', 'zlens', 'zsrc', 'rEin(kpc)', 'log_MEin_M_sun',\n",
       "       'fChab\\nstellarEin', 'f∗Ein', 'stellarEinfstellareff',\n",
       "       'log_Mstellar_M_sun_Chab', 'error_of_mass_chab',\n",
       "       'log_Mstellar_M_sun__Salpeter', 'error_of_mass_sal', 'MB', 'MV', 'MB0',\n",
       "       'MV0'],\n",
       "      dtype='object')"
      ]
     },
     "execution_count": 131,
     "metadata": {},
     "output_type": "execute_result"
    }
   ],
   "source": [
    "slacs.columns"
   ]
  },
  {
   "cell_type": "code",
   "execution_count": 132,
   "metadata": {},
   "outputs": [],
   "source": [
    "# assuming point mass for first approximation\n",
    "M = slacs.log_Mstellar_M_sun_Chab/0.39 #Chabrier,total mass, baryonic and dark matter, to be taken to 1/2 power\n",
    "\n",
    "z1 = slacs.zlens\n",
    "z2 = slacs.zsrc\n",
    "\n",
    "A = (M/(11.09))**(1/2) #A = (M/(10**11.09))**(1/2) # mass term considering log data\n",
    "B = ((c/(h0*1000))*(z1*z2/(z2-z1)))**(-1/2) # distances term, h0*1000 gives km/Gpc*s, removes all candidate where z2<z1\n",
    "\n",
    "slacs['theta_e_chabrier'] = A*B #gives arcsecs\n",
    "#theta_e_deg = theta_e/3600 # gives theta_e in degrees\n",
    "slacs['stellar_mass_chabrier'] = 10**slacs.log_Mstellar_M_sun_Chab"
   ]
  },
  {
   "cell_type": "code",
   "execution_count": 133,
   "metadata": {},
   "outputs": [
    {
     "data": {
      "text/plain": [
       "Index(['Name', 'zlens', 'zsrc', 'rEin(kpc)', 'log_MEin_M_sun',\n",
       "       'fChab\\nstellarEin', 'f∗Ein', 'stellarEinfstellareff',\n",
       "       'log_Mstellar_M_sun_Chab', 'error_of_mass_chab',\n",
       "       'log_Mstellar_M_sun__Salpeter', 'error_of_mass_sal', 'MB', 'MV', 'MB0',\n",
       "       'MV0', 'theta_e_chabrier', 'stellar_mass_chabrier'],\n",
       "      dtype='object')"
      ]
     },
     "execution_count": 133,
     "metadata": {},
     "output_type": "execute_result"
    }
   ],
   "source": [
    "#slacs = slacs.drop(columns = {'theta_e_salpeter'})\n",
    "#slacs.to_csv('/home/shawn/Desktop/gravitational_lensing_research/Lens_Project_Files/slacs.csv')\n",
    "slacs.columns"
   ]
  },
  {
   "cell_type": "code",
   "execution_count": 134,
   "metadata": {},
   "outputs": [
    {
     "name": "stdout",
     "output_type": "stream",
     "text": [
      "1.5317200066345678 1.4873854461516869 0.437636184265761\n"
     ]
    }
   ],
   "source": [
    "print(slacs.theta_e_chabrier.mean(),\n",
    "      slacs.theta_e_chabrier.median(),\n",
    "     slacs.theta_e_chabrier.std())"
   ]
  },
  {
   "cell_type": "markdown",
   "metadata": {},
   "source": [
    "## The mean and median Einstein radius for SLACS are 1.53 and 1.49"
   ]
  },
  {
   "cell_type": "markdown",
   "metadata": {},
   "source": [
    "# 12/23/19 Redoing SLACS analysis because Shu-17 doesn't agree with me. \n",
    "# I have the 62 grade-A lenses from Bolton 2008. Nobody can question this shit."
   ]
  },
  {
   "cell_type": "code",
   "execution_count": 137,
   "metadata": {},
   "outputs": [],
   "source": [
    "slacs_bolton_08 = pd.read_csv('/home/shawn/Desktop/gravitational_lensing_research/Lens_Project_Files/Bolton_2008_gradeA_lenses.csv')\n"
   ]
  },
  {
   "cell_type": "code",
   "execution_count": 141,
   "metadata": {},
   "outputs": [
    {
     "name": "stdout",
     "output_type": "stream",
     "text": [
      "1.196825396825397 1.17 0.25658945114983245\n"
     ]
    }
   ],
   "source": [
    "print(slacs_bolton_08.theta_e_sie.mean(),\n",
    "     slacs_bolton_08.theta_e_sie.median(),\n",
    "     slacs_bolton_08.theta_e_sie.std())"
   ]
  },
  {
   "cell_type": "markdown",
   "metadata": {},
   "source": [
    "# Loading in S4TM Grade A Lenses from Shu 2017"
   ]
  },
  {
   "cell_type": "code",
   "execution_count": 140,
   "metadata": {},
   "outputs": [],
   "source": [
    "s4tm_shu_17 = pd.read_csv('/home/shawn/Desktop/gravitational_lensing_research/Lens_Project_Files/S4TM_Shu_2017_gradaA_lenses.csv')\n"
   ]
  },
  {
   "cell_type": "code",
   "execution_count": 142,
   "metadata": {},
   "outputs": [
    {
     "name": "stdout",
     "output_type": "stream",
     "text": [
      "0.9775000000000003 1.0 0.27620830118051426\n"
     ]
    }
   ],
   "source": [
    "print(s4tm_shu_17.theta_e_sie.mean(),\n",
    "     s4tm_shu_17.theta_e_sie.median(),\n",
    "      s4tm_shu_17.theta_e_sie.std())"
   ]
  },
  {
   "cell_type": "markdown",
   "metadata": {},
   "source": [
    "# Loading in BELLS Grade A Lenses from Brownstein-2012"
   ]
  },
  {
   "cell_type": "code",
   "execution_count": 148,
   "metadata": {
    "scrolled": true
   },
   "outputs": [],
   "source": [
    "bells_brownstein_12 = pd.read_csv('/home/shawn/Desktop/gravitational_lensing_research/Lens_Project_Files/Brownstein_BELLS_GradeA_lenses.csv')\n",
    "#bells_brownstein_12"
   ]
  },
  {
   "cell_type": "code",
   "execution_count": 149,
   "metadata": {},
   "outputs": [
    {
     "name": "stdout",
     "output_type": "stream",
     "text": [
      "0.9387599999999998 0.75 0.3796722577873361\n"
     ]
    }
   ],
   "source": [
    "print(bells_brownstein_12.theta_e_sie.mean(),\n",
    "      bells_brownstein_12.theta_e_sie.median(),\n",
    "      bells_brownstein_12.theta_e_sie.std())"
   ]
  },
  {
   "cell_type": "markdown",
   "metadata": {},
   "source": [
    "# Now to redo the GAMA Spec Sample Einstein Radii and Max Masses because MagPhys used Chabrier IMF for Stellar Mass estimates"
   ]
  },
  {
   "cell_type": "code",
   "execution_count": 111,
   "metadata": {},
   "outputs": [],
   "source": [
    "# assuming point mass for first approximation\n",
    "M = spec_121519.STELLAR_MASS/0.39 #Chabrier,total mass, baryonic and dark matter, to be taken to 1/2 power\n",
    "\n",
    "z1 = spec_121519.z1\n",
    "z2 = spec_121519.z2\n",
    "\n",
    "A = (M/(10**11.09))**(1/2) # mass term considering log data\n",
    "B = ((c/(h0*1000))*(z1*z2/(z2-z1)))**(-1/2) # distances term, h0*1000 gives km/Gpc*s, removes all candidate where z2<z1\n",
    "\n",
    "spec_121519['theta_e_chabrier'] = A*B #gives arcsecs\n",
    "#theta_e_deg = theta_e/3600 # gives theta_e in degrees\n",
    "#spec['stellar_mass_chabrier'] = 10**slacs.log_Mstellar_M_sun_Chab"
   ]
  },
  {
   "cell_type": "code",
   "execution_count": 114,
   "metadata": {
    "scrolled": true
   },
   "outputs": [
    {
     "name": "stdout",
     "output_type": "stream",
     "text": [
      "0.6936539903976253 0.6910407935894434 0.25004865011873567\n"
     ]
    }
   ],
   "source": [
    "print(spec_121519.theta_e_chabrier.mean(),\n",
    "      spec_121519.theta_e_chabrier.median(),\n",
    "      spec_121519.theta_e_chabrier.std())"
   ]
  },
  {
   "cell_type": "code",
   "execution_count": 125,
   "metadata": {},
   "outputs": [],
   "source": [
    "#spec_121519.to_csv('/home/shawn/Desktop/gravitational_lensing_research/Lens_Project_Files/spec_121519.csv')"
   ]
  },
  {
   "cell_type": "markdown",
   "metadata": {},
   "source": [
    "# Table to compare GAMA and SLACS Einstein Radii"
   ]
  },
  {
   "cell_type": "code",
   "execution_count": 126,
   "metadata": {},
   "outputs": [],
   "source": [
    "gama_slacs_theta_e_chabrier = pd.DataFrame({'Mean' : [slacs.theta_e_chabrier.mean(),spec_121519.theta_e_chabrier.mean()],\n",
    "                           'Median' : [slacs.theta_e_chabrier.median(),spec_121519.theta_e_chabrier.median()],\n",
    "                            'Min' : [slacs.theta_e_chabrier.min(),spec_121519.theta_e_chabrier.min()],\n",
    "                            'Max' : [slacs.theta_e_chabrier.max(),spec_121519.theta_e_chabrier.max()],\n",
    "                            'Std' : [slacs.theta_e_chabrier.std(),spec_121519.theta_e_chabrier.std()]}, \n",
    "                                            index = ['SLACS', 'GAMA Spectroscopy']\n",
    "                                      )\n",
    "#gama_slacs_theta_e_chabrier.to_csv('/home/shawn/Desktop/gravitational_lensing_research/Lens_Project_Files/gama_slacs_theta_e_chabrier.csv')"
   ]
  },
  {
   "cell_type": "code",
   "execution_count": 127,
   "metadata": {},
   "outputs": [
    {
     "data": {
      "text/html": [
       "<div>\n",
       "<style scoped>\n",
       "    .dataframe tbody tr th:only-of-type {\n",
       "        vertical-align: middle;\n",
       "    }\n",
       "\n",
       "    .dataframe tbody tr th {\n",
       "        vertical-align: top;\n",
       "    }\n",
       "\n",
       "    .dataframe thead th {\n",
       "        text-align: right;\n",
       "    }\n",
       "</style>\n",
       "<table border=\"1\" class=\"dataframe\">\n",
       "  <thead>\n",
       "    <tr style=\"text-align: right;\">\n",
       "      <th></th>\n",
       "      <th>Mean</th>\n",
       "      <th>Median</th>\n",
       "      <th>Min</th>\n",
       "      <th>Max</th>\n",
       "      <th>Std</th>\n",
       "    </tr>\n",
       "  </thead>\n",
       "  <tbody>\n",
       "    <tr>\n",
       "      <th>SLACS</th>\n",
       "      <td>1.531720</td>\n",
       "      <td>1.487385</td>\n",
       "      <td>0.702831</td>\n",
       "      <td>2.951574</td>\n",
       "      <td>0.437636</td>\n",
       "    </tr>\n",
       "    <tr>\n",
       "      <th>GAMA Spectroscopy</th>\n",
       "      <td>0.693654</td>\n",
       "      <td>0.691041</td>\n",
       "      <td>0.341965</td>\n",
       "      <td>1.167035</td>\n",
       "      <td>0.250049</td>\n",
       "    </tr>\n",
       "  </tbody>\n",
       "</table>\n",
       "</div>"
      ],
      "text/plain": [
       "                       Mean    Median       Min       Max       Std\n",
       "SLACS              1.531720  1.487385  0.702831  2.951574  0.437636\n",
       "GAMA Spectroscopy  0.693654  0.691041  0.341965  1.167035  0.250049"
      ]
     },
     "execution_count": 127,
     "metadata": {},
     "output_type": "execute_result"
    }
   ],
   "source": [
    "gama_slacs_theta_e_chabrier"
   ]
  },
  {
   "cell_type": "markdown",
   "metadata": {},
   "source": [
    "# 12/23/19 Redoing Comparison of GAMA v SLACS v S4TM v BELLS with Grade A lenses from Bolton 2008, Shu 2017, and Brownstein 2012"
   ]
  },
  {
   "cell_type": "code",
   "execution_count": 153,
   "metadata": {},
   "outputs": [],
   "source": [
    "gama_slacs_s4tm_bells_theta_e = pd.DataFrame({'Mean' : [slacs_bolton_08.theta_e_sie.mean(),s4tm_shu_17.theta_e_sie.mean(),bells_brownstein_12.theta_e_sie.mean(),spec_121519.theta_e_chabrier.mean()],\n",
    "                           'Median' : [slacs_bolton_08.theta_e_sie.median(),s4tm_shu_17.theta_e_sie.median(),bells_brownstein_12.theta_e_sie.median(),spec_121519.theta_e_chabrier.median()],\n",
    "                            'Min' : [slacs_bolton_08.theta_e_sie.min(),s4tm_shu_17.theta_e_sie.min(),bells_brownstein_12.theta_e_sie.min(),spec_121519.theta_e_chabrier.min()],\n",
    "                            'Max' : [slacs_bolton_08.theta_e_sie.max(),s4tm_shu_17.theta_e_sie.max(),bells_brownstein_12.theta_e_sie.max(),spec_121519.theta_e_chabrier.max()],\n",
    "                            'Std' : [slacs_bolton_08.theta_e_sie.std(),s4tm_shu_17.theta_e_sie.std(),bells_brownstein_12.theta_e_sie.std(),spec_121519.theta_e_chabrier.std()]}, \n",
    "                                            index = ['SLACS Grade-A (Bolton-2008)','S4TM Grade-A (Shu-2017)','BELLS Grade-A (Brownstein-2012)','GAMA Spectroscopy']\n",
    "                                      )"
   ]
  },
  {
   "cell_type": "code",
   "execution_count": 154,
   "metadata": {},
   "outputs": [
    {
     "data": {
      "text/html": [
       "<div>\n",
       "<style scoped>\n",
       "    .dataframe tbody tr th:only-of-type {\n",
       "        vertical-align: middle;\n",
       "    }\n",
       "\n",
       "    .dataframe tbody tr th {\n",
       "        vertical-align: top;\n",
       "    }\n",
       "\n",
       "    .dataframe thead th {\n",
       "        text-align: right;\n",
       "    }\n",
       "</style>\n",
       "<table border=\"1\" class=\"dataframe\">\n",
       "  <thead>\n",
       "    <tr style=\"text-align: right;\">\n",
       "      <th></th>\n",
       "      <th>Mean</th>\n",
       "      <th>Median</th>\n",
       "      <th>Min</th>\n",
       "      <th>Max</th>\n",
       "      <th>Std</th>\n",
       "    </tr>\n",
       "  </thead>\n",
       "  <tbody>\n",
       "    <tr>\n",
       "      <th>SLACS Grade-A (Bolton-2008)</th>\n",
       "      <td>1.196825</td>\n",
       "      <td>1.170000</td>\n",
       "      <td>0.690000</td>\n",
       "      <td>1.780000</td>\n",
       "      <td>0.256589</td>\n",
       "    </tr>\n",
       "    <tr>\n",
       "      <th>S4TM Grade-A (Shu-2017)</th>\n",
       "      <td>0.977500</td>\n",
       "      <td>1.000000</td>\n",
       "      <td>0.540000</td>\n",
       "      <td>1.620000</td>\n",
       "      <td>0.276208</td>\n",
       "    </tr>\n",
       "    <tr>\n",
       "      <th>BELLS Grade-A (Brownstein-2012)</th>\n",
       "      <td>0.938760</td>\n",
       "      <td>0.750000</td>\n",
       "      <td>0.491000</td>\n",
       "      <td>1.823000</td>\n",
       "      <td>0.379672</td>\n",
       "    </tr>\n",
       "    <tr>\n",
       "      <th>GAMA Spectroscopy</th>\n",
       "      <td>0.693654</td>\n",
       "      <td>0.691041</td>\n",
       "      <td>0.341965</td>\n",
       "      <td>1.167035</td>\n",
       "      <td>0.250049</td>\n",
       "    </tr>\n",
       "  </tbody>\n",
       "</table>\n",
       "</div>"
      ],
      "text/plain": [
       "                                     Mean    Median       Min       Max  \\\n",
       "SLACS Grade-A (Bolton-2008)      1.196825  1.170000  0.690000  1.780000   \n",
       "S4TM Grade-A (Shu-2017)          0.977500  1.000000  0.540000  1.620000   \n",
       "BELLS Grade-A (Brownstein-2012)  0.938760  0.750000  0.491000  1.823000   \n",
       "GAMA Spectroscopy                0.693654  0.691041  0.341965  1.167035   \n",
       "\n",
       "                                      Std  \n",
       "SLACS Grade-A (Bolton-2008)      0.256589  \n",
       "S4TM Grade-A (Shu-2017)          0.276208  \n",
       "BELLS Grade-A (Brownstein-2012)  0.379672  \n",
       "GAMA Spectroscopy                0.250049  "
      ]
     },
     "execution_count": 154,
     "metadata": {},
     "output_type": "execute_result"
    }
   ],
   "source": [
    "gama_slacs_s4tm_bells_theta_e"
   ]
  },
  {
   "cell_type": "code",
   "execution_count": 161,
   "metadata": {},
   "outputs": [
    {
     "data": {
      "text/plain": [
       "(array([2., 4., 0., 1., 3., 2., 0., 2., 1., 1.]),\n",
       " array([0.34196472, 0.42447172, 0.50697872, 0.58948572, 0.67199272,\n",
       "        0.75449972, 0.83700673, 0.91951373, 1.00202073, 1.08452773,\n",
       "        1.16703473]),\n",
       " <a list of 1 Patch objects>)"
      ]
     },
     "execution_count": 161,
     "metadata": {},
     "output_type": "execute_result"
    },
    {
     "data": {
      "image/png": "[encoded data removed]",
      "text/plain": [
       "<Figure size 432x288 with 1 Axes>"
      ]
     },
     "metadata": {
      "needs_background": "light"
     },
     "output_type": "display_data"
    }
   ],
   "source": [
    "# Histogram of Einstein Radii\n",
    "plt.xlabel(\"Einstein Radius (arcsec)\")\n",
    "plt.ylabel(\"Count\")\n",
    "plt.title(\"Spectroscopic Identification Einstein Radii\")\n",
    "plt.hist(slacs_bolton_08.theta_e_sie,bins=10,color='r', histtype = 'step', linewidth=3)\n",
    "plt.hist(s4tm_shu_17.theta_e_sie,bins=10,color='c', histtype = 'step', linewidth=3)\n",
    "plt.hist(bells_brownstein_12.theta_e_sie,bins=10,color='k', histtype = 'step', linewidth=3)\n",
    "plt.hist(spec_121519.theta_e_chabrier,bins=10,color='b', histtype = 'step', linewidth=3)"
   ]
  },
  {
   "cell_type": "code",
   "execution_count": 194,
   "metadata": {},
   "outputs": [
    {
     "data": {
      "image/png": "[encoded data removed]",
      "text/plain": [
       "<Figure size 432x288 with 2 Axes>"
      ]
     },
     "metadata": {
      "needs_background": "light"
     },
     "output_type": "display_data"
    }
   ],
   "source": [
    "fig = plt.figure()\n",
    "ax = fig.add_subplot(111)\n",
    "#ax.set_xlim(1.6, 3.1)\n",
    "#ax.set_ylim(17, 21)\n",
    "\n",
    "x = np.log10(spec_121519.STELLAR_MASS)\n",
    "y = spec_121519.z1\n",
    "c = spec_121519.theta_e_chabrier\n",
    "v = spec_121519.theta_e_chabrier*500\n",
    "\n",
    "p = ax.scatter(x, y, s=v, c=c, cmap = \"PuBu\", edgecolors = \"k\")#, fillstyle = 'none')\n",
    "plt.cbar = plt.colorbar(p, shrink=1, orientation='vertical',ticks=[0.4,0.5,0.6,0.7,0.8,0.9,1.0,1.1,1.2,1.3,1.4], spacing='uniform') #, anchor=(0,1.5))\n",
    "plt.cbar.set_label('Einstein Radius - arcsec', fontsize=10)\n",
    "plt.xlabel(\"Stellar Mass - $log(M_*/M_\\odot)$\")\n",
    "plt.ylabel(\"Redshift - z\")\n",
    "plt.title(\"GAMA Spectroscopy\")\n",
    "\n",
    "plt.savefig('/home/shawn/Desktop/gravitational_lensing_research/Lens_Project_Visuals/121519_theta_e_redshift_mass.png')"
   ]
  },
  {
   "cell_type": "code",
   "execution_count": null,
   "metadata": {},
   "outputs": [],
   "source": []
  }
 ],
 "metadata": {
  "kernelspec": {
   "display_name": "Python 3",
   "language": "python",
   "name": "python3"
  },
  "language_info": {
   "codemirror_mode": {
    "name": "ipython",
    "version": 3
   },
   "file_extension": ".py",
   "mimetype": "text/x-python",
   "name": "python",
   "nbconvert_exporter": "python",
   "pygments_lexer": "ipython3",
   "version": "3.7.5"
  }
 },
 "nbformat": 4,
 "nbformat_minor": 2
}
