{
 "cells": [
  {
   "cell_type": "markdown",
   "metadata": {},
   "source": [
    "# This notebook plots the three methods in the GAMA equatorial fields."
   ]
  },
  {
   "cell_type": "code",
   "execution_count": 2,
   "metadata": {},
   "outputs": [],
   "source": [
    "%matplotlib inline\n",
    "import matplotlib.pyplot as plt\n",
    "import numpy as np\n",
    "import pandas as pd"
   ]
  },
  {
   "cell_type": "code",
   "execution_count": 3,
   "metadata": {},
   "outputs": [],
   "source": [
    "spec = pd.read_csv(\n",
    "    '/home/shawn/Desktop/gravitational_lensing_research/Lens_Project_Files/spec_041220.csv')\n",
    "mac = pd.read_csv(\n",
    "    '/home/shawn/Desktop/gravitational_lensing_research/Lens_Project_Files/mac_candidates_041520.csv')\n",
    "zoo = pd.read_csv(\n",
    "    '/home/shawn/Desktop/gravitational_lensing_research/Lens_Project_Files/zoo_candidates_032020.csv')"
   ]
  },
  {
   "cell_type": "code",
   "execution_count": 8,
   "metadata": {},
   "outputs": [],
   "source": [
    "#spec.to_csv('/home/shawn/Desktop/gravitational_lensing_research/Lens_Project_Files/spec_latest.csv')"
   ]
  },
  {
   "cell_type": "code",
   "execution_count": 11,
   "metadata": {},
   "outputs": [],
   "source": [
    "#mac.to_csv('/home/shawn/Desktop/gravitational_lensing_research/Lens_Project_Files/mac_latest.csv')"
   ]
  },
  {
   "cell_type": "code",
   "execution_count": 15,
   "metadata": {},
   "outputs": [],
   "source": [
    "#zoo.to_csv('/home/shawn/Desktop/gravitational_lensing_research/Lens_Project_Files/zoo_latest.csv')"
   ]
  },
  {
   "cell_type": "code",
   "execution_count": 99,
   "metadata": {},
   "outputs": [
    {
     "data": {
      "image/png": "[encoded data removed]",
      "text/plain": [
       "<Figure size 720x252 with 3 Axes>"
      ]
     },
     "metadata": {
      "needs_background": "light"
     },
     "output_type": "display_data"
    }
   ],
   "source": [
    "# start figure\n",
    "fig = plt.figure(figsize=(10,3.5))\n",
    "# create three plots that share y-axis (DEC)\n",
    "ax1, ax2, ax3 = fig.subplots(ncols=3, sharey=True)\n",
    "\n",
    "# set aspect ratio (h/w)\n",
    "ax1.set_aspect(1)\n",
    "ax2.set_aspect(1)\n",
    "ax3.set_aspect(1)\n",
    "\n",
    "# set axis size and tick locations\n",
    "ax1.set_xlim(128.5, 141.5)\n",
    "ax1.set_xticks([129, 131, 133, 135, 137, 139, 141])\n",
    "ax1.set_ylim(-3.5, 3.5)\n",
    "ax1.set_yticks([-3, -2, -1, 0, 1, 2, 3])\n",
    "ax2.set_xlim(173.5, 186.5)\n",
    "ax2.set_xticks([174, 176, 178, 180, 182, 184, 186])\n",
    "ax3.set_xlim(211, 224)\n",
    "ax3.set_xticks([212, 214, 216, 218, 220, 222, 224])\n",
    "\n",
    "# create three datasets for each of three regions\n",
    "# G09\n",
    "spec_g09 = spec[(spec.RA > 129.0) & (spec.RA < 141.0)]\n",
    "mac_g09 = mac[(mac.RA > 129.0) & (mac.RA < 141.0)]\n",
    "zoo_g09 = zoo[(zoo.RA > 129.0) & (zoo.RA < 141.0)]\n",
    "# G12\n",
    "spec_g12 = spec[(spec.RA > 174.0) & (spec.RA < 186.0)]\n",
    "mac_g12 = mac[(mac.RA > 174.0) & (mac.RA < 186.0)]\n",
    "zoo_g12 = zoo[(zoo.RA > 174.0) & (zoo.RA < 186.0)]\n",
    "# G15\n",
    "spec_g15 = spec[(spec.RA > 211.5) & (spec.RA < 223.5)]\n",
    "mac_g15 = mac[(mac.RA > 211.5) & (mac.RA < 223.5)]\n",
    "zoo_g15 = zoo[(zoo.RA > 211.5) & (zoo.RA < 223.5)]\n",
    "\n",
    "# plot each axis\n",
    "# G09\n",
    "ax1.plot(spec_g09.RA, spec_g09.DEC, 'bo', alpha = 0.75)\n",
    "ax1.plot(mac_g09.RA, mac_g09.DEC, 'go', alpha = 0.75)\n",
    "ax1.plot(zoo_g09.RA, zoo_g09.DEC, 'yo', alpha = 0.75)\n",
    "# G12\n",
    "ax2.plot(spec_g12.RA, spec_g12.DEC, 'bo', alpha = 0.75)\n",
    "ax2.plot(mac_g12.RA, mac_g12.DEC, 'go', alpha = 0.75)\n",
    "ax2.plot(zoo_g12.RA, zoo_g12.DEC, 'yo', alpha = 0.75)\n",
    "# plot each axis\n",
    "ax3.plot(spec_g15.RA, spec_g15.DEC, 'bo', alpha = 0.75)\n",
    "ax3.plot(mac_g15.RA, mac_g15.DEC, 'go', alpha = 0.75)\n",
    "ax3.plot(zoo_g15.RA, zoo_g15.DEC, 'yo', alpha = 0.75)\n",
    "\n",
    "# label plots and add legend\n",
    "ax1.set_title('G09')\n",
    "ax2.set_title('G12')\n",
    "ax3.set_title('G15')\n",
    "#ax1.set_xlabel('RA - degrees')\n",
    "ax2.set_xlabel('RA - degrees')\n",
    "#ax3.set_xlabel('RA - degrees')\n",
    "ax1.set_ylabel('DEC - degrees')\n",
    "fig.legend(('GAMA Spectroscopy','LinKS Machine Learning','GalaxyZoo Citizen Science'), \n",
    "           loc=(0.12,0.085), ncol=3)\n",
    "\n",
    "#plt.savefig('/home/shawn/Desktop/gravitational_lensing_research/Lens_Project_Visuals/gama_equatorial_fields.png')"
   ]
  },
  {
   "cell_type": "code",
   "execution_count": 12,
   "metadata": {},
   "outputs": [
    {
     "data": {
      "text/plain": [
       "0     138.28150\n",
       "1     129.69546\n",
       "2     136.63883\n",
       "3     132.36771\n",
       "4     132.61013\n",
       "5     140.14187\n",
       "6     135.32929\n",
       "7     138.94058\n",
       "8     130.50925\n",
       "9     137.90642\n",
       "10    140.65750\n",
       "11    138.99892\n",
       "12    132.51888\n",
       "13    129.41362\n",
       "14    140.77658\n",
       "15    140.42683\n",
       "16    139.63437\n",
       "17    134.23367\n",
       "18    138.10708\n",
       "19    137.37821\n",
       "Name: RA, dtype: float64"
      ]
     },
     "execution_count": 12,
     "metadata": {},
     "output_type": "execute_result"
    }
   ],
   "source": [
    "spec_g09.RA"
   ]
  },
  {
   "cell_type": "code",
   "execution_count": null,
   "metadata": {},
   "outputs": [],
   "source": []
  }
 ],
 "metadata": {
  "kernelspec": {
   "display_name": "Python 3",
   "language": "python",
   "name": "python3"
  },
  "language_info": {
   "codemirror_mode": {
    "name": "ipython",
    "version": 3
   },
   "file_extension": ".py",
   "mimetype": "text/x-python",
   "name": "python",
   "nbconvert_exporter": "python",
   "pygments_lexer": "ipython3",
   "version": "3.7.5"
  }
 },
 "nbformat": 4,
 "nbformat_minor": 2
}
