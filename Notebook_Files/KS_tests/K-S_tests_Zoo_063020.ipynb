{
 "cells": [
  {
   "cell_type": "markdown",
   "metadata": {},
   "source": [
    "# This notebook analyzes the Zoo sample against galaxies with z < 0.15"
   ]
  },
  {
   "cell_type": "code",
   "execution_count": 2,
   "metadata": {},
   "outputs": [],
   "source": [
    "%matplotlib inline\n",
    "import matplotlib.pyplot as plt\n",
    "import numpy as np\n",
    "from numpy.polynomial.polynomial import polyfit\n",
    "import pandas as pd\n",
    "#from matplotlib_venn import venn3, venn3_circles\n",
    "import matplotlib.lines as lines\n",
    "from astropy import constants as const\n",
    "from astropy.io import fits\n",
    "import astropy.coordinates as coord\n",
    "import astropy.units as u\n",
    "from astropy.table import Table\n",
    "# import ephem\n",
    "from astropy.cosmology import FlatLambdaCDM\n",
    "from scipy import stats as sci"
   ]
  },
  {
   "cell_type": "code",
   "execution_count": 3,
   "metadata": {},
   "outputs": [],
   "source": [
    "# create datapaths for files and figures\n",
    "fits_path = '/home/shawn/Desktop/gravitational_lensing_research/FITS_Files/'\n",
    "csv_path = '/home/shawn/Desktop/gravitational_lensing_research/Lens_Project_Files/'\n",
    "png_path = '/home/shawn/Desktop/gravitational_lensing_research/Lens_Project_Visuals/PNGs/'\n",
    "pdf_path = '/home/shawn/Desktop/gravitational_lensing_research/Lens_Project_Visuals/Final_PDFs_for_Paper/lambdar_revisions/'"
   ]
  },
  {
   "cell_type": "code",
   "execution_count": 6,
   "metadata": {},
   "outputs": [],
   "source": [
    "### Samples 02/18/20\n",
    "#zoo = pd.read_csv('/home/shawn/Desktop/gravitational_lensing_research/Lens_Project_Files/zoo_candidates_032020.csv')\n",
    "#zoo_30 = pd.read_csv('/home/shawn/Desktop/gravitational_lensing_research/Lens_Project_Files/zoo_30_021920.csv')\n",
    "zoo = pd.read_csv(f'{csv_path}zoo_lambdar_revisions_063020.csv')"
   ]
  },
  {
   "cell_type": "code",
   "execution_count": 7,
   "metadata": {},
   "outputs": [
    {
     "data": {
      "text/plain": [
       "13"
      ]
     },
     "execution_count": 7,
     "metadata": {},
     "output_type": "execute_result"
    }
   ],
   "source": [
    "len(zoo)"
   ]
  },
  {
   "cell_type": "markdown",
   "metadata": {},
   "source": [
    "## Load in Lambdar masses"
   ]
  },
  {
   "cell_type": "code",
   "execution_count": 9,
   "metadata": {},
   "outputs": [
    {
     "data": {
      "text/html": [
       "<div>\n",
       "<style scoped>\n",
       "    .dataframe tbody tr th:only-of-type {\n",
       "        vertical-align: middle;\n",
       "    }\n",
       "\n",
       "    .dataframe tbody tr th {\n",
       "        vertical-align: top;\n",
       "    }\n",
       "\n",
       "    .dataframe thead th {\n",
       "        text-align: right;\n",
       "    }\n",
       "</style>\n",
       "<table border=\"1\" class=\"dataframe\">\n",
       "  <thead>\n",
       "    <tr style=\"text-align: right;\">\n",
       "      <th></th>\n",
       "      <th>GAMA_ID</th>\n",
       "      <th>lambdar_log_mstar</th>\n",
       "      <th>z</th>\n",
       "    </tr>\n",
       "  </thead>\n",
       "  <tbody>\n",
       "    <tr>\n",
       "      <th>0</th>\n",
       "      <td>6802</td>\n",
       "      <td>9.295552</td>\n",
       "      <td>0.05054</td>\n",
       "    </tr>\n",
       "    <tr>\n",
       "      <th>1</th>\n",
       "      <td>6806</td>\n",
       "      <td>11.251878</td>\n",
       "      <td>0.33124</td>\n",
       "    </tr>\n",
       "    <tr>\n",
       "      <th>2</th>\n",
       "      <td>6808</td>\n",
       "      <td>11.069718</td>\n",
       "      <td>0.22936</td>\n",
       "    </tr>\n",
       "    <tr>\n",
       "      <th>3</th>\n",
       "      <td>6810</td>\n",
       "      <td>11.397855</td>\n",
       "      <td>0.32630</td>\n",
       "    </tr>\n",
       "    <tr>\n",
       "      <th>4</th>\n",
       "      <td>6813</td>\n",
       "      <td>11.291913</td>\n",
       "      <td>0.48457</td>\n",
       "    </tr>\n",
       "    <tr>\n",
       "      <th>...</th>\n",
       "      <td>...</td>\n",
       "      <td>...</td>\n",
       "      <td>...</td>\n",
       "    </tr>\n",
       "    <tr>\n",
       "      <th>120614</th>\n",
       "      <td>4341320</td>\n",
       "      <td>10.162766</td>\n",
       "      <td>0.22847</td>\n",
       "    </tr>\n",
       "    <tr>\n",
       "      <th>120615</th>\n",
       "      <td>4342359</td>\n",
       "      <td>11.015234</td>\n",
       "      <td>0.64610</td>\n",
       "    </tr>\n",
       "    <tr>\n",
       "      <th>120616</th>\n",
       "      <td>4345978</td>\n",
       "      <td>11.303544</td>\n",
       "      <td>0.61111</td>\n",
       "    </tr>\n",
       "    <tr>\n",
       "      <th>120617</th>\n",
       "      <td>4347483</td>\n",
       "      <td>11.363264</td>\n",
       "      <td>0.59604</td>\n",
       "    </tr>\n",
       "    <tr>\n",
       "      <th>120618</th>\n",
       "      <td>4348349</td>\n",
       "      <td>10.072199</td>\n",
       "      <td>0.12256</td>\n",
       "    </tr>\n",
       "  </tbody>\n",
       "</table>\n",
       "<p>120619 rows × 3 columns</p>\n",
       "</div>"
      ],
      "text/plain": [
       "        GAMA_ID  lambdar_log_mstar        z\n",
       "0          6802           9.295552  0.05054\n",
       "1          6806          11.251878  0.33124\n",
       "2          6808          11.069718  0.22936\n",
       "3          6810          11.397855  0.32630\n",
       "4          6813          11.291913  0.48457\n",
       "...         ...                ...      ...\n",
       "120614  4341320          10.162766  0.22847\n",
       "120615  4342359          11.015234  0.64610\n",
       "120616  4345978          11.303544  0.61111\n",
       "120617  4347483          11.363264  0.59604\n",
       "120618  4348349          10.072199  0.12256\n",
       "\n",
       "[120619 rows x 3 columns]"
      ]
     },
     "execution_count": 9,
     "metadata": {},
     "output_type": "execute_result"
    }
   ],
   "source": [
    "# Opening GAMA MagPhys data from G09, G12, and G15 (DR3)\n",
    "hdul = fits.open(f'{fits_path}StellarMassesLambdar.fits')  # open a FITS file\n",
    "hdul.verify('fix')\n",
    "lambdar_data = hdul[1].data  # assume the first extension is a table\n",
    "#print(gama_data.columns)\n",
    "\n",
    "# take ID and templates/z from first and second fit\n",
    "GAMA_ID = lambdar_data.CATAID.byteswap().newbyteorder()\n",
    "lambdar_log_mstar = lambdar_data.logmintsfh.byteswap().newbyteorder()\n",
    "lambdar_z = lambdar_data.Z.byteswap().newbyteorder()\n",
    "\n",
    "\n",
    "lambdar_masses = pd.DataFrame(\n",
    "    {'GAMA_ID' : GAMA_ID,\n",
    "     'lambdar_log_mstar' : lambdar_log_mstar,\n",
    "    'z' : lambdar_z}\n",
    ") \n",
    "#     'logmremnants' : logmremnants, \n",
    "#     'fluxscale' : fluxscale})\n",
    "lambdar_masses.GAMA_ID = lambdar_masses.GAMA_ID.astype(int)\n",
    "lambdar_masses"
   ]
  },
  {
   "cell_type": "markdown",
   "metadata": {},
   "source": [
    "## GalaxyZoo takes galaxies at z < 0.15"
   ]
  },
  {
   "cell_type": "code",
   "execution_count": 11,
   "metadata": {
    "scrolled": true
   },
   "outputs": [
    {
     "name": "stderr",
     "output_type": "stream",
     "text": [
      "/home/shawn/miniconda3/envs/astroconda/lib/python3.6/site-packages/ipykernel_launcher.py:4: SettingWithCopyWarning: \n",
      "A value is trying to be set on a copy of a slice from a DataFrame\n",
      "\n",
      "See the caveats in the documentation: https://pandas.pydata.org/pandas-docs/stable/user_guide/indexing.html#returning-a-view-versus-a-copy\n",
      "  after removing the cwd from sys.path.\n"
     ]
    },
    {
     "data": {
      "text/plain": [
       "40903"
      ]
     },
     "execution_count": 11,
     "metadata": {},
     "output_type": "execute_result"
    }
   ],
   "source": [
    "gama_zcut = lambdar_masses[lambdar_masses.z < 0.15]\n",
    "gama_zcut.drop_duplicates(subset = 'GAMA_ID',\n",
    "                       keep = 'first',\n",
    "                        inplace = True)\n",
    "len(gama_zcut)"
   ]
  },
  {
   "cell_type": "code",
   "execution_count": 13,
   "metadata": {
    "scrolled": true
   },
   "outputs": [],
   "source": [
    "#gama_zcut.to_csv('/home/shawn/Desktop/gravitational_lensing_research/Lens_Project_Files/gama_zoo_cut.csv')"
   ]
  },
  {
   "cell_type": "markdown",
   "metadata": {},
   "source": [
    "## Plot pg z to log(M*)"
   ]
  },
  {
   "cell_type": "code",
   "execution_count": 14,
   "metadata": {
    "scrolled": false
   },
   "outputs": [
    {
     "data": {
      "text/plain": [
       "Text(0, 0.5, 'Redshift (z)')"
      ]
     },
     "execution_count": 14,
     "metadata": {},
     "output_type": "execute_result"
    },
    {
     "data": {
      "image/png": "[encoded data removed]",
      "text/plain": [
       "<Figure size 576x576 with 1 Axes>"
      ]
     },
     "metadata": {
      "needs_background": "light"
     },
     "output_type": "display_data"
    }
   ],
   "source": [
    "# Three-panel plot\n",
    "from matplotlib.ticker import NullFormatter\n",
    "nullfmt   = NullFormatter()         # no labels\n",
    "# definitions for the axes\n",
    "left, width = 0.1, 0.65\n",
    "lower, height = 0.1, 0.65\n",
    "lower_h = left_h = left+width+0.02\n",
    "    \n",
    "rect_scatter = [left, lower, width, height]\n",
    "#rect_histx = [left, lower_h, width, 0.2]\n",
    "#rect_histy = [left_h, lower, 0.2, height]\n",
    "    \n",
    "    # start with a rectangular Figure\n",
    "plt.figure(1, figsize=(8,8))\n",
    "    \n",
    "axScatter = plt.axes(rect_scatter)\n",
    "#axHistx = plt.axes(rect_histx)\n",
    "#axHisty = plt.axes(rect_histy)\n",
    "\n",
    "binwidth = 0.5\n",
    "bins=20\n",
    "\n",
    "    # no labels\n",
    "#axHistx.xaxis.set_major_formatter(nullfmt)\n",
    "#axHisty.yaxis.set_major_formatter(nullfmt)\n",
    "\n",
    "axScatter.plot(gama_zcut.lambdar_log_mstar, gama_zcut.z, 'co', fillstyle = 'none')\n",
    "axScatter.plot(zoo.lambdar_log_mstar, zoo.z, 'bo')\n",
    "\n",
    "axScatter.set_xlabel(r'Stellar Mass $log(M_*/M_\\odot)$', fontsize=20)\n",
    "axScatter.set_ylabel(r'Redshift (z)', fontsize=20)\n",
    "\n",
    "#axHisty.hist(spec.Z, orientation='horizontal', range=[0,0.8], bins=bins,color='b', histtype = 'step', linewidth=3)\n",
    "#axHisty.hist(pg_sample.Z, orientation='horizontal', range=[0,0.8], bins=bins,color='c', histtype = 'step', linewidth=3)\n",
    "\n",
    "#axHistx.hist(np.log10(spec.STELLAR_MASS), range=[7,12], bins=bins,color='b', histtype = 'step', linewidth=3)\n",
    "#axHistx.hist(np.log10(pg_sample.STELLAR_MASS), range=[7,12], bins=bins,color='c', histtype = 'step', linewidth=3)\n",
    "#plt.savefig('/home/shawn/Desktop/gravitational_lensing_research/Lens_Project_Visuals/PNGs/spec_gama_pg_zmass.png')"
   ]
  },
  {
   "cell_type": "markdown",
   "metadata": {},
   "source": [
    "# K-S tests of z and M*"
   ]
  },
  {
   "cell_type": "code",
   "execution_count": 15,
   "metadata": {},
   "outputs": [
    {
     "data": {
      "text/plain": [
       "Ks_2sampResult(statistic=0.1746928474307884, pvalue=0.8225955046819942)"
      ]
     },
     "execution_count": 15,
     "metadata": {},
     "output_type": "execute_result"
    }
   ],
   "source": [
    "sci.ks_2samp(zoo.z, gama_zcut.z)"
   ]
  },
  {
   "cell_type": "code",
   "execution_count": 16,
   "metadata": {},
   "outputs": [
    {
     "data": {
      "text/plain": [
       "Ks_2sampResult(statistic=0.78148302080532, pvalue=2.554047463476346e-07)"
      ]
     },
     "execution_count": 16,
     "metadata": {},
     "output_type": "execute_result"
    }
   ],
   "source": [
    "sci.ks_2samp(zoo.lambdar_mstar, 10**(gama_zcut.lambdar_log_mstar))"
   ]
  },
  {
   "cell_type": "markdown",
   "metadata": {},
   "source": [
    "# AD tests of z and M*"
   ]
  },
  {
   "cell_type": "code",
   "execution_count": 55,
   "metadata": {},
   "outputs": [
    {
     "name": "stderr",
     "output_type": "stream",
     "text": [
      "/home/shawn/miniconda3/envs/astroconda/lib/python3.7/site-packages/ipykernel_launcher.py:1: UserWarning: p-value floored: true value smaller than 0.001\n",
      "  \"\"\"Entry point for launching an IPython kernel.\n"
     ]
    },
    {
     "data": {
      "text/plain": [
       "Anderson_ksampResult(statistic=177.37253002455355, critical_values=array([0.325, 1.226, 1.961, 2.718, 3.752, 4.592, 6.546]), significance_level=0.001)"
      ]
     },
     "execution_count": 55,
     "metadata": {},
     "output_type": "execute_result"
    }
   ],
   "source": [
    "sci.anderson_ksamp([.Z, pg.Z])"
   ]
  },
  {
   "cell_type": "code",
   "execution_count": 54,
   "metadata": {},
   "outputs": [
    {
     "name": "stderr",
     "output_type": "stream",
     "text": [
      "/home/shawn/miniconda3/envs/astroconda/lib/python3.7/site-packages/ipykernel_launcher.py:1: UserWarning: p-value floored: true value smaller than 0.001\n",
      "  \"\"\"Entry point for launching an IPython kernel.\n"
     ]
    },
    {
     "data": {
      "text/plain": [
       "Anderson_ksampResult(statistic=161.47716684141713, critical_values=array([0.325, 1.226, 1.961, 2.718, 3.752, 4.592, 6.546]), significance_level=0.001)"
      ]
     },
     "execution_count": 54,
     "metadata": {},
     "output_type": "execute_result"
    }
   ],
   "source": [
    "sci.anderson_ksamp([spec.STELLAR_MASS, pg.STELLAR_MASS])"
   ]
  },
  {
   "cell_type": "markdown",
   "metadata": {},
   "source": [
    "## K-S Test of Zoo_30 sample"
   ]
  },
  {
   "cell_type": "code",
   "execution_count": 11,
   "metadata": {},
   "outputs": [
    {
     "data": {
      "text/plain": [
       "Ks_2sampResult(statistic=0.12601611640184907, pvalue=0.10659703280856753)"
      ]
     },
     "execution_count": 11,
     "metadata": {},
     "output_type": "execute_result"
    }
   ],
   "source": [
    "sci.ks_2samp(zoo_30.Z, gama_zcut.Z)"
   ]
  },
  {
   "cell_type": "code",
   "execution_count": 12,
   "metadata": {},
   "outputs": [
    {
     "data": {
      "text/plain": [
       "Ks_2sampResult(statistic=0.2077424407002299, pvalue=0.0006931516645853038)"
      ]
     },
     "execution_count": 12,
     "metadata": {},
     "output_type": "execute_result"
    }
   ],
   "source": [
    "sci.ks_2samp(zoo_30.STELLAR_MASS, gama_zcut.STELLAR_MASS)"
   ]
  },
  {
   "cell_type": "code",
   "execution_count": null,
   "metadata": {},
   "outputs": [],
   "source": []
  }
 ],
 "metadata": {
  "kernelspec": {
   "display_name": "Python 3",
   "language": "python",
   "name": "python3"
  },
  "language_info": {
   "codemirror_mode": {
    "name": "ipython",
    "version": 3
   },
   "file_extension": ".py",
   "mimetype": "text/x-python",
   "name": "python",
   "nbconvert_exporter": "python",
   "pygments_lexer": "ipython3",
   "version": "3.6.10"
  }
 },
 "nbformat": 4,
 "nbformat_minor": 2
}
