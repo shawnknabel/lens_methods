{
 "cells": [
  {
   "cell_type": "markdown",
   "metadata": {},
   "source": [
    "# This notebook analyzes the Zoo sample against galaxies with z < 0.15\n",
    "# EDIT 06/09/20 - New final catalog of 16 candidates."
   ]
  },
  {
   "cell_type": "code",
   "execution_count": 2,
   "metadata": {},
   "outputs": [],
   "source": [
    "%matplotlib inline\n",
    "import matplotlib.pyplot as plt\n",
    "import numpy as np\n",
    "from numpy.polynomial.polynomial import polyfit\n",
    "import pandas as pd\n",
    "#from matplotlib_venn import venn3, venn3_circles\n",
    "import matplotlib.lines as lines\n",
    "from astropy import constants as const\n",
    "from astropy.io import fits\n",
    "import astropy.coordinates as coord\n",
    "import astropy.units as u\n",
    "from astropy.table import Table\n",
    "# import ephem\n",
    "from astropy.cosmology import FlatLambdaCDM\n",
    "from scipy import stats as sci"
   ]
  },
  {
   "cell_type": "code",
   "execution_count": 3,
   "metadata": {},
   "outputs": [],
   "source": [
    "### Samples 02/18/20\n",
    "#zoo = pd.read_csv('/home/shawn/Desktop/gravitational_lensing_research/Lens_Project_Files/zoo_candidates_032020.csv')\n",
    "#zoo_30 = pd.read_csv('/home/shawn/Desktop/gravitational_lensing_research/Lens_Project_Files/zoo_30_021920.csv')\n",
    "zoo = pd.read_csv('/home/shawn/Desktop/gravitational_lensing_research/Lens_Project_Files/zoo_latest.csv')"
   ]
  },
  {
   "cell_type": "code",
   "execution_count": 4,
   "metadata": {},
   "outputs": [
    {
     "data": {
      "text/plain": [
       "16"
      ]
     },
     "execution_count": 4,
     "metadata": {},
     "output_type": "execute_result"
    }
   ],
   "source": [
    "len(zoo)"
   ]
  },
  {
   "cell_type": "markdown",
   "metadata": {},
   "source": [
    "## Load in MagPhys,"
   ]
  },
  {
   "cell_type": "code",
   "execution_count": 5,
   "metadata": {},
   "outputs": [
    {
     "data": {
      "text/html": [
       "<div>\n",
       "<style scoped>\n",
       "    .dataframe tbody tr th:only-of-type {\n",
       "        vertical-align: middle;\n",
       "    }\n",
       "\n",
       "    .dataframe tbody tr th {\n",
       "        vertical-align: top;\n",
       "    }\n",
       "\n",
       "    .dataframe thead th {\n",
       "        text-align: right;\n",
       "    }\n",
       "</style>\n",
       "<table border=\"1\" class=\"dataframe\">\n",
       "  <thead>\n",
       "    <tr style=\"text-align: right;\">\n",
       "      <th></th>\n",
       "      <th>GAMA_ID</th>\n",
       "      <th>STELLAR_MASS</th>\n",
       "      <th>Z</th>\n",
       "    </tr>\n",
       "  </thead>\n",
       "  <tbody>\n",
       "    <tr>\n",
       "      <th>0</th>\n",
       "      <td>6802</td>\n",
       "      <td>1.117000e+09</td>\n",
       "      <td>0.0505</td>\n",
       "    </tr>\n",
       "    <tr>\n",
       "      <th>1</th>\n",
       "      <td>6806</td>\n",
       "      <td>8.560000e+10</td>\n",
       "      <td>0.3312</td>\n",
       "    </tr>\n",
       "    <tr>\n",
       "      <th>2</th>\n",
       "      <td>6808</td>\n",
       "      <td>5.503000e+10</td>\n",
       "      <td>0.2294</td>\n",
       "    </tr>\n",
       "    <tr>\n",
       "      <th>3</th>\n",
       "      <td>6810</td>\n",
       "      <td>1.204000e+11</td>\n",
       "      <td>0.3263</td>\n",
       "    </tr>\n",
       "    <tr>\n",
       "      <th>4</th>\n",
       "      <td>6813</td>\n",
       "      <td>1.025000e+11</td>\n",
       "      <td>0.4846</td>\n",
       "    </tr>\n",
       "    <tr>\n",
       "      <th>...</th>\n",
       "      <td>...</td>\n",
       "      <td>...</td>\n",
       "      <td>...</td>\n",
       "    </tr>\n",
       "    <tr>\n",
       "      <th>120109</th>\n",
       "      <td>4342359</td>\n",
       "      <td>9.486000e+10</td>\n",
       "      <td>0.6461</td>\n",
       "    </tr>\n",
       "    <tr>\n",
       "      <th>120110</th>\n",
       "      <td>4345057</td>\n",
       "      <td>4.293000e+11</td>\n",
       "      <td>0.7930</td>\n",
       "    </tr>\n",
       "    <tr>\n",
       "      <th>120111</th>\n",
       "      <td>4345978</td>\n",
       "      <td>1.251000e+11</td>\n",
       "      <td>0.6111</td>\n",
       "    </tr>\n",
       "    <tr>\n",
       "      <th>120112</th>\n",
       "      <td>4347483</td>\n",
       "      <td>1.335000e+11</td>\n",
       "      <td>0.5960</td>\n",
       "    </tr>\n",
       "    <tr>\n",
       "      <th>120113</th>\n",
       "      <td>4348349</td>\n",
       "      <td>5.619000e+09</td>\n",
       "      <td>0.1226</td>\n",
       "    </tr>\n",
       "  </tbody>\n",
       "</table>\n",
       "<p>120114 rows × 3 columns</p>\n",
       "</div>"
      ],
      "text/plain": [
       "        GAMA_ID  STELLAR_MASS       Z\n",
       "0          6802  1.117000e+09  0.0505\n",
       "1          6806  8.560000e+10  0.3312\n",
       "2          6808  5.503000e+10  0.2294\n",
       "3          6810  1.204000e+11  0.3263\n",
       "4          6813  1.025000e+11  0.4846\n",
       "...         ...           ...     ...\n",
       "120109  4342359  9.486000e+10  0.6461\n",
       "120110  4345057  4.293000e+11  0.7930\n",
       "120111  4345978  1.251000e+11  0.6111\n",
       "120112  4347483  1.335000e+11  0.5960\n",
       "120113  4348349  5.619000e+09  0.1226\n",
       "\n",
       "[120114 rows x 3 columns]"
      ]
     },
     "execution_count": 5,
     "metadata": {},
     "output_type": "execute_result"
    }
   ],
   "source": [
    "# Opening GAMA MagPhys data from G09, G12, and G15 (DR3)\n",
    "hdul = fits.open('/home/shawn/Desktop/gravitational_lensing_research/FITS_Files/MagPhys.fits')  # open a FITS file\n",
    "hdul.verify('fix')\n",
    "magphys_data = hdul[1].data  # assume the first extension is a table\n",
    "#print(gama_data.columns)\n",
    "\n",
    "# take ID and templates/z from first and second fit\n",
    "magphys_id = magphys_data.CATAID\n",
    "magphys_mass = magphys_data.mass_stellar_best_fit\n",
    "magphys_z = magphys_data.Z\n",
    "\n",
    "#zip to list\n",
    "magphys_list = list(zip(magphys_id, magphys_mass, magphys_z))\n",
    "\n",
    "# create dataframe\n",
    "magphys = pd.DataFrame(magphys_list, columns = ['GAMA_ID','STELLAR_MASS','Z'])\n",
    "magphys"
   ]
  },
  {
   "cell_type": "markdown",
   "metadata": {},
   "source": [
    "## GalaxyZoo takes galaxies at z < 0.15"
   ]
  },
  {
   "cell_type": "code",
   "execution_count": 6,
   "metadata": {
    "scrolled": true
   },
   "outputs": [
    {
     "name": "stderr",
     "output_type": "stream",
     "text": [
      "/home/shawn/miniconda3/envs/astroconda/lib/python3.6/site-packages/ipykernel_launcher.py:4: SettingWithCopyWarning: \n",
      "A value is trying to be set on a copy of a slice from a DataFrame\n",
      "\n",
      "See the caveats in the documentation: https://pandas.pydata.org/pandas-docs/stable/user_guide/indexing.html#returning-a-view-versus-a-copy\n",
      "  after removing the cwd from sys.path.\n"
     ]
    },
    {
     "data": {
      "text/html": [
       "<div>\n",
       "<style scoped>\n",
       "    .dataframe tbody tr th:only-of-type {\n",
       "        vertical-align: middle;\n",
       "    }\n",
       "\n",
       "    .dataframe tbody tr th {\n",
       "        vertical-align: top;\n",
       "    }\n",
       "\n",
       "    .dataframe thead th {\n",
       "        text-align: right;\n",
       "    }\n",
       "</style>\n",
       "<table border=\"1\" class=\"dataframe\">\n",
       "  <thead>\n",
       "    <tr style=\"text-align: right;\">\n",
       "      <th></th>\n",
       "      <th>GAMA_ID</th>\n",
       "      <th>STELLAR_MASS</th>\n",
       "      <th>Z</th>\n",
       "    </tr>\n",
       "  </thead>\n",
       "  <tbody>\n",
       "    <tr>\n",
       "      <th>0</th>\n",
       "      <td>6802</td>\n",
       "      <td>1.117000e+09</td>\n",
       "      <td>0.0505</td>\n",
       "    </tr>\n",
       "    <tr>\n",
       "      <th>5</th>\n",
       "      <td>6816</td>\n",
       "      <td>2.230000e+09</td>\n",
       "      <td>0.0764</td>\n",
       "    </tr>\n",
       "    <tr>\n",
       "      <th>7</th>\n",
       "      <td>6821</td>\n",
       "      <td>3.167000e+07</td>\n",
       "      <td>0.0038</td>\n",
       "    </tr>\n",
       "    <tr>\n",
       "      <th>8</th>\n",
       "      <td>6826</td>\n",
       "      <td>5.397000e+09</td>\n",
       "      <td>0.0728</td>\n",
       "    </tr>\n",
       "    <tr>\n",
       "      <th>9</th>\n",
       "      <td>6830</td>\n",
       "      <td>3.006000e+09</td>\n",
       "      <td>0.1140</td>\n",
       "    </tr>\n",
       "    <tr>\n",
       "      <th>...</th>\n",
       "      <td>...</td>\n",
       "      <td>...</td>\n",
       "      <td>...</td>\n",
       "    </tr>\n",
       "    <tr>\n",
       "      <th>120088</th>\n",
       "      <td>4318311</td>\n",
       "      <td>3.644000e+09</td>\n",
       "      <td>0.1336</td>\n",
       "    </tr>\n",
       "    <tr>\n",
       "      <th>120102</th>\n",
       "      <td>4327300</td>\n",
       "      <td>2.112000e+09</td>\n",
       "      <td>0.1248</td>\n",
       "    </tr>\n",
       "    <tr>\n",
       "      <th>120104</th>\n",
       "      <td>4327434</td>\n",
       "      <td>3.403000e+03</td>\n",
       "      <td>0.0017</td>\n",
       "    </tr>\n",
       "    <tr>\n",
       "      <th>120107</th>\n",
       "      <td>4340553</td>\n",
       "      <td>2.201000e+08</td>\n",
       "      <td>0.0133</td>\n",
       "    </tr>\n",
       "    <tr>\n",
       "      <th>120113</th>\n",
       "      <td>4348349</td>\n",
       "      <td>5.619000e+09</td>\n",
       "      <td>0.1226</td>\n",
       "    </tr>\n",
       "  </tbody>\n",
       "</table>\n",
       "<p>39587 rows × 3 columns</p>\n",
       "</div>"
      ],
      "text/plain": [
       "        GAMA_ID  STELLAR_MASS       Z\n",
       "0          6802  1.117000e+09  0.0505\n",
       "5          6816  2.230000e+09  0.0764\n",
       "7          6821  3.167000e+07  0.0038\n",
       "8          6826  5.397000e+09  0.0728\n",
       "9          6830  3.006000e+09  0.1140\n",
       "...         ...           ...     ...\n",
       "120088  4318311  3.644000e+09  0.1336\n",
       "120102  4327300  2.112000e+09  0.1248\n",
       "120104  4327434  3.403000e+03  0.0017\n",
       "120107  4340553  2.201000e+08  0.0133\n",
       "120113  4348349  5.619000e+09  0.1226\n",
       "\n",
       "[39587 rows x 3 columns]"
      ]
     },
     "execution_count": 6,
     "metadata": {},
     "output_type": "execute_result"
    }
   ],
   "source": [
    "gama_zcut = magphys[magphys.Z < 0.15]\n",
    "gama_zcut.drop_duplicates(subset = 'GAMA_ID',\n",
    "                       keep = 'first',\n",
    "                        inplace = True)\n",
    "gama_zcut"
   ]
  },
  {
   "cell_type": "code",
   "execution_count": 11,
   "metadata": {
    "scrolled": true
   },
   "outputs": [],
   "source": [
    "#gama_zcut.to_csv('/home/shawn/Desktop/gravitational_lensing_research/Lens_Project_Files/gama_zoo_cut.csv')"
   ]
  },
  {
   "cell_type": "markdown",
   "metadata": {},
   "source": [
    "## Plot pg z to log(M*)"
   ]
  },
  {
   "cell_type": "code",
   "execution_count": 7,
   "metadata": {
    "scrolled": true
   },
   "outputs": [
    {
     "data": {
      "text/plain": [
       "Text(0, 0.5, 'Redshift (z)')"
      ]
     },
     "execution_count": 7,
     "metadata": {},
     "output_type": "execute_result"
    },
    {
     "data": {
      "image/png": "[encoded data removed]",
      "text/plain": [
       "<Figure size 576x576 with 1 Axes>"
      ]
     },
     "metadata": {
      "needs_background": "light"
     },
     "output_type": "display_data"
    }
   ],
   "source": [
    "# Three-panel plot\n",
    "from matplotlib.ticker import NullFormatter\n",
    "nullfmt   = NullFormatter()         # no labels\n",
    "# definitions for the axes\n",
    "left, width = 0.1, 0.65\n",
    "lower, height = 0.1, 0.65\n",
    "lower_h = left_h = left+width+0.02\n",
    "    \n",
    "rect_scatter = [left, lower, width, height]\n",
    "#rect_histx = [left, lower_h, width, 0.2]\n",
    "#rect_histy = [left_h, lower, 0.2, height]\n",
    "    \n",
    "    # start with a rectangular Figure\n",
    "plt.figure(1, figsize=(8,8))\n",
    "    \n",
    "axScatter = plt.axes(rect_scatter)\n",
    "#axHistx = plt.axes(rect_histx)\n",
    "#axHisty = plt.axes(rect_histy)\n",
    "\n",
    "binwidth = 0.5\n",
    "bins=20\n",
    "\n",
    "    # no labels\n",
    "#axHistx.xaxis.set_major_formatter(nullfmt)\n",
    "#axHisty.yaxis.set_major_formatter(nullfmt)\n",
    "\n",
    "axScatter.plot(np.log10(gama_zcut.STELLAR_MASS), gama_zcut.Z, 'co', fillstyle = 'none')\n",
    "axScatter.plot(np.log10(zoo.STELLAR_MASS), zoo.Z, 'bo')\n",
    "\n",
    "axScatter.set_xlabel(r'Stellar Mass $log(M_*/M_\\odot)$', fontsize=20)\n",
    "axScatter.set_ylabel(r'Redshift (z)', fontsize=20)\n",
    "\n",
    "#axHisty.hist(spec.Z, orientation='horizontal', range=[0,0.8], bins=bins,color='b', histtype = 'step', linewidth=3)\n",
    "#axHisty.hist(pg_sample.Z, orientation='horizontal', range=[0,0.8], bins=bins,color='c', histtype = 'step', linewidth=3)\n",
    "\n",
    "#axHistx.hist(np.log10(spec.STELLAR_MASS), range=[7,12], bins=bins,color='b', histtype = 'step', linewidth=3)\n",
    "#axHistx.hist(np.log10(pg_sample.STELLAR_MASS), range=[7,12], bins=bins,color='c', histtype = 'step', linewidth=3)\n",
    "#plt.savefig('/home/shawn/Desktop/gravitational_lensing_research/Lens_Project_Visuals/PNGs/spec_gama_pg_zmass.png')"
   ]
  },
  {
   "cell_type": "markdown",
   "metadata": {},
   "source": [
    "# K-S tests of z and M*"
   ]
  },
  {
   "cell_type": "code",
   "execution_count": 8,
   "metadata": {},
   "outputs": [
    {
     "data": {
      "text/plain": [
       "Ks_2sampResult(statistic=0.16216024199863593, pvalue=0.7943169162532364)"
      ]
     },
     "execution_count": 8,
     "metadata": {},
     "output_type": "execute_result"
    }
   ],
   "source": [
    "sci.ks_2samp(zoo.Z, gama_zcut.Z)"
   ]
  },
  {
   "cell_type": "code",
   "execution_count": 9,
   "metadata": {},
   "outputs": [
    {
     "data": {
      "text/plain": [
       "Ks_2sampResult(statistic=0.7430469598605602, pvalue=4.2766277211164784e-08)"
      ]
     },
     "execution_count": 9,
     "metadata": {},
     "output_type": "execute_result"
    }
   ],
   "source": [
    "sci.ks_2samp(zoo.STELLAR_MASS, gama_zcut.STELLAR_MASS)"
   ]
  },
  {
   "cell_type": "markdown",
   "metadata": {},
   "source": [
    "# AD tests of z and M*"
   ]
  },
  {
   "cell_type": "code",
   "execution_count": 55,
   "metadata": {},
   "outputs": [
    {
     "name": "stderr",
     "output_type": "stream",
     "text": [
      "/home/shawn/miniconda3/envs/astroconda/lib/python3.7/site-packages/ipykernel_launcher.py:1: UserWarning: p-value floored: true value smaller than 0.001\n",
      "  \"\"\"Entry point for launching an IPython kernel.\n"
     ]
    },
    {
     "data": {
      "text/plain": [
       "Anderson_ksampResult(statistic=177.37253002455355, critical_values=array([0.325, 1.226, 1.961, 2.718, 3.752, 4.592, 6.546]), significance_level=0.001)"
      ]
     },
     "execution_count": 55,
     "metadata": {},
     "output_type": "execute_result"
    }
   ],
   "source": [
    "sci.anderson_ksamp([.Z, pg.Z])"
   ]
  },
  {
   "cell_type": "code",
   "execution_count": 54,
   "metadata": {},
   "outputs": [
    {
     "name": "stderr",
     "output_type": "stream",
     "text": [
      "/home/shawn/miniconda3/envs/astroconda/lib/python3.7/site-packages/ipykernel_launcher.py:1: UserWarning: p-value floored: true value smaller than 0.001\n",
      "  \"\"\"Entry point for launching an IPython kernel.\n"
     ]
    },
    {
     "data": {
      "text/plain": [
       "Anderson_ksampResult(statistic=161.47716684141713, critical_values=array([0.325, 1.226, 1.961, 2.718, 3.752, 4.592, 6.546]), significance_level=0.001)"
      ]
     },
     "execution_count": 54,
     "metadata": {},
     "output_type": "execute_result"
    }
   ],
   "source": [
    "sci.anderson_ksamp([spec.STELLAR_MASS, pg.STELLAR_MASS])"
   ]
  },
  {
   "cell_type": "markdown",
   "metadata": {},
   "source": [
    "## K-S Test of Zoo_30 sample"
   ]
  },
  {
   "cell_type": "code",
   "execution_count": 11,
   "metadata": {},
   "outputs": [
    {
     "data": {
      "text/plain": [
       "Ks_2sampResult(statistic=0.12601611640184907, pvalue=0.10659703280856753)"
      ]
     },
     "execution_count": 11,
     "metadata": {},
     "output_type": "execute_result"
    }
   ],
   "source": [
    "sci.ks_2samp(zoo_30.Z, gama_zcut.Z)"
   ]
  },
  {
   "cell_type": "code",
   "execution_count": 12,
   "metadata": {},
   "outputs": [
    {
     "data": {
      "text/plain": [
       "Ks_2sampResult(statistic=0.2077424407002299, pvalue=0.0006931516645853038)"
      ]
     },
     "execution_count": 12,
     "metadata": {},
     "output_type": "execute_result"
    }
   ],
   "source": [
    "sci.ks_2samp(zoo_30.STELLAR_MASS, gama_zcut.STELLAR_MASS)"
   ]
  },
  {
   "cell_type": "code",
   "execution_count": null,
   "metadata": {},
   "outputs": [],
   "source": []
  }
 ],
 "metadata": {
  "kernelspec": {
   "display_name": "Python 3",
   "language": "python",
   "name": "python3"
  },
  "language_info": {
   "codemirror_mode": {
    "name": "ipython",
    "version": 3
   },
   "file_extension": ".py",
   "mimetype": "text/x-python",
   "name": "python",
   "nbconvert_exporter": "python",
   "pygments_lexer": "ipython3",
   "version": "3.6.10"
  }
 },
 "nbformat": 4,
 "nbformat_minor": 2
}
