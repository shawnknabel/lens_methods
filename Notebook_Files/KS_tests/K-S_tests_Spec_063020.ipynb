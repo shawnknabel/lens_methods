{
 "cells": [
  {
   "cell_type": "markdown",
   "metadata": {},
   "source": [
    "# 06/30/20 - This notebook analyzes the Spec sample against galaxies with a PG template fit from autoz, using Lambdar masses.\n",
    "# Edit 08/12/20 - Making histograms to show bias."
   ]
  },
  {
   "cell_type": "code",
   "execution_count": 1,
   "metadata": {},
   "outputs": [],
   "source": [
    "%matplotlib inline\n",
    "import matplotlib.pyplot as plt\n",
    "import numpy as np\n",
    "import pandas as pd\n",
    "from astropy import constants as const\n",
    "from astropy.io import fits\n",
    "import astropy.coordinates as coord\n",
    "import astropy.units as u\n",
    "from astropy.cosmology import FlatLambdaCDM\n",
    "from scipy import stats as sci"
   ]
  },
  {
   "cell_type": "code",
   "execution_count": 2,
   "metadata": {},
   "outputs": [],
   "source": [
    "# create datapaths for files and figures\n",
    "fits_path = '/home/shawn/Desktop/gravitational_lensing_research/FITS_Files/'\n",
    "csv_path = '/home/shawn/Desktop/gravitational_lensing_research/Lens_Project_Files/'\n",
    "png_path = '/home/shawn/Desktop/gravitational_lensing_research/Lens_Project_Visuals/PNGs/'\n",
    "pdf_path = '/home/shawn/Desktop/gravitational_lensing_research/Lens_Project_Visuals/Final_PDFs_for_Paper/lambdar_revisions/'"
   ]
  },
  {
   "cell_type": "code",
   "execution_count": 3,
   "metadata": {},
   "outputs": [
    {
     "data": {
      "text/plain": [
       "Index(['Unnamed: 0', 'GAMA_ID', 'RA', 'DEC', 'z_lens', 'D_lens', 'D_source',\n",
       "       'magphys_mstar', 'lambdar_log_mstar', 'lambdar_mstar',\n",
       "       'lambdar_log_mstar_error', 'm_half_re', 'sigma_star', 'theta_e_pm',\n",
       "       'theta_e_sis'],\n",
       "      dtype='object')"
      ]
     },
     "execution_count": 3,
     "metadata": {},
     "output_type": "execute_result"
    }
   ],
   "source": [
    "spec = pd.read_csv(f'{csv_path}spec_lambdar_revisions_063020.csv')\n",
    "#mac_121519 = pd.read_csv('/home/shawn/Desktop/gravitational_lensing_research/Lens_Project_Files/mac_candidates_021320.csv')\n",
    "#zoo_121519 = pd.read_csv('/home/shawn/Desktop/gravitational_lensing_research/Lens_Project_Files/zoo_candidates_021320.csv.csv')\n",
    "spec.columns"
   ]
  },
  {
   "cell_type": "code",
   "execution_count": 4,
   "metadata": {
    "scrolled": false
   },
   "outputs": [
    {
     "data": {
      "text/html": [
       "<div>\n",
       "<style scoped>\n",
       "    .dataframe tbody tr th:only-of-type {\n",
       "        vertical-align: middle;\n",
       "    }\n",
       "\n",
       "    .dataframe tbody tr th {\n",
       "        vertical-align: top;\n",
       "    }\n",
       "\n",
       "    .dataframe thead th {\n",
       "        text-align: right;\n",
       "    }\n",
       "</style>\n",
       "<table border=\"1\" class=\"dataframe\">\n",
       "  <thead>\n",
       "    <tr style=\"text-align: right;\">\n",
       "      <th></th>\n",
       "      <th>GAMA_ID</th>\n",
       "      <th>TEMP_1</th>\n",
       "      <th>Z1</th>\n",
       "      <th>PROB</th>\n",
       "      <th>TEMP_2</th>\n",
       "      <th>Z2</th>\n",
       "    </tr>\n",
       "  </thead>\n",
       "  <tbody>\n",
       "    <tr>\n",
       "      <th>0</th>\n",
       "      <td>2305327</td>\n",
       "      <td>45</td>\n",
       "      <td>0.223963</td>\n",
       "      <td>0.999655</td>\n",
       "      <td>46</td>\n",
       "      <td>0.196395</td>\n",
       "    </tr>\n",
       "    <tr>\n",
       "      <th>1</th>\n",
       "      <td>2305316</td>\n",
       "      <td>44</td>\n",
       "      <td>0.152189</td>\n",
       "      <td>0.997251</td>\n",
       "      <td>46</td>\n",
       "      <td>0.510282</td>\n",
       "    </tr>\n",
       "    <tr>\n",
       "      <th>2</th>\n",
       "      <td>1672022</td>\n",
       "      <td>46</td>\n",
       "      <td>0.198623</td>\n",
       "      <td>0.999759</td>\n",
       "      <td>40</td>\n",
       "      <td>0.236384</td>\n",
       "    </tr>\n",
       "    <tr>\n",
       "      <th>3</th>\n",
       "      <td>1671853</td>\n",
       "      <td>40</td>\n",
       "      <td>0.236388</td>\n",
       "      <td>0.386042</td>\n",
       "      <td>45</td>\n",
       "      <td>0.137846</td>\n",
       "    </tr>\n",
       "    <tr>\n",
       "      <th>4</th>\n",
       "      <td>1671921</td>\n",
       "      <td>42</td>\n",
       "      <td>0.321190</td>\n",
       "      <td>0.873768</td>\n",
       "      <td>40</td>\n",
       "      <td>0.693042</td>\n",
       "    </tr>\n",
       "    <tr>\n",
       "      <th>...</th>\n",
       "      <td>...</td>\n",
       "      <td>...</td>\n",
       "      <td>...</td>\n",
       "      <td>...</td>\n",
       "      <td>...</td>\n",
       "      <td>...</td>\n",
       "    </tr>\n",
       "    <tr>\n",
       "      <th>166327</th>\n",
       "      <td>463445</td>\n",
       "      <td>45</td>\n",
       "      <td>0.311994</td>\n",
       "      <td>0.999987</td>\n",
       "      <td>47</td>\n",
       "      <td>0.771116</td>\n",
       "    </tr>\n",
       "    <tr>\n",
       "      <th>166328</th>\n",
       "      <td>463462</td>\n",
       "      <td>46</td>\n",
       "      <td>0.180759</td>\n",
       "      <td>1.000000</td>\n",
       "      <td>47</td>\n",
       "      <td>0.183662</td>\n",
       "    </tr>\n",
       "    <tr>\n",
       "      <th>166329</th>\n",
       "      <td>491738</td>\n",
       "      <td>47</td>\n",
       "      <td>0.181603</td>\n",
       "      <td>0.999883</td>\n",
       "      <td>47</td>\n",
       "      <td>0.184570</td>\n",
       "    </tr>\n",
       "    <tr>\n",
       "      <th>166330</th>\n",
       "      <td>491619</td>\n",
       "      <td>40</td>\n",
       "      <td>0.265164</td>\n",
       "      <td>0.999957</td>\n",
       "      <td>43</td>\n",
       "      <td>0.818685</td>\n",
       "    </tr>\n",
       "    <tr>\n",
       "      <th>166331</th>\n",
       "      <td>463380</td>\n",
       "      <td>44</td>\n",
       "      <td>0.137593</td>\n",
       "      <td>0.999974</td>\n",
       "      <td>47</td>\n",
       "      <td>0.134046</td>\n",
       "    </tr>\n",
       "  </tbody>\n",
       "</table>\n",
       "<p>166332 rows × 6 columns</p>\n",
       "</div>"
      ],
      "text/plain": [
       "        GAMA_ID  TEMP_1        Z1      PROB  TEMP_2        Z2\n",
       "0       2305327      45  0.223963  0.999655      46  0.196395\n",
       "1       2305316      44  0.152189  0.997251      46  0.510282\n",
       "2       1672022      46  0.198623  0.999759      40  0.236384\n",
       "3       1671853      40  0.236388  0.386042      45  0.137846\n",
       "4       1671921      42  0.321190  0.873768      40  0.693042\n",
       "...         ...     ...       ...       ...     ...       ...\n",
       "166327   463445      45  0.311994  0.999987      47  0.771116\n",
       "166328   463462      46  0.180759  1.000000      47  0.183662\n",
       "166329   491738      47  0.181603  0.999883      47  0.184570\n",
       "166330   491619      40  0.265164  0.999957      43  0.818685\n",
       "166331   463380      44  0.137593  0.999974      47  0.134046\n",
       "\n",
       "[166332 rows x 6 columns]"
      ]
     },
     "execution_count": 4,
     "metadata": {},
     "output_type": "execute_result"
    }
   ],
   "source": [
    "# Opening GAMA AATSpecAutozAll data from G09, G12, and G15 (DR3)\n",
    "hdul = fits.open(f'{fits_path}AATSpecAutozAll.fits')  # open a FITS file\n",
    "hdul.verify('fix')\n",
    "autoz_data = hdul[1].data  # assume the first extension is a table\n",
    "#print(gama_data.columns)\n",
    "\n",
    "# take ID and templates/z from first and second fit\n",
    "autoz_id = autoz_data.CATAID\n",
    "autoz_template1 = autoz_data.TEMPLATE\n",
    "autoz_z1 = autoz_data.Z\n",
    "autoz_prob = autoz_data.PROB\n",
    "autoz_template2 = autoz_data.TEMPLATE2\n",
    "autoz_z2 = autoz_data.Z2\n",
    "\n",
    "#zip to list\n",
    "autoz_list = list(zip(autoz_id, autoz_template1, autoz_z1, autoz_prob, autoz_template2, autoz_z2))\n",
    "\n",
    "# create dataframe\n",
    "autoz = pd.DataFrame(autoz_list, columns = ['GAMA_ID','TEMP_1','Z1','PROB','TEMP_2','Z2'])\n",
    "autoz"
   ]
  },
  {
   "cell_type": "markdown",
   "metadata": {},
   "source": [
    "## Galaxy templates are 40-47 in order of increasing strength of emission lines. 40-42 are considered PG by Holwerda-15, while 43-47 are considered ELG.\n",
    "## For a first pass, the GAMA PG sample will include only those whose first or second template fit is 40-42, and whose probability is > 90%"
   ]
  },
  {
   "cell_type": "code",
   "execution_count": 5,
   "metadata": {
    "scrolled": false
   },
   "outputs": [
    {
     "name": "stderr",
     "output_type": "stream",
     "text": [
      "/home/shawn/miniconda3/envs/astroconda/lib/python3.6/site-packages/ipykernel_launcher.py:7: SettingWithCopyWarning: \n",
      "A value is trying to be set on a copy of a slice from a DataFrame\n",
      "\n",
      "See the caveats in the documentation: https://pandas.pydata.org/pandas-docs/stable/user_guide/indexing.html#returning-a-view-versus-a-copy\n",
      "  import sys\n"
     ]
    },
    {
     "data": {
      "text/html": [
       "<div>\n",
       "<style scoped>\n",
       "    .dataframe tbody tr th:only-of-type {\n",
       "        vertical-align: middle;\n",
       "    }\n",
       "\n",
       "    .dataframe tbody tr th {\n",
       "        vertical-align: top;\n",
       "    }\n",
       "\n",
       "    .dataframe thead th {\n",
       "        text-align: right;\n",
       "    }\n",
       "</style>\n",
       "<table border=\"1\" class=\"dataframe\">\n",
       "  <thead>\n",
       "    <tr style=\"text-align: right;\">\n",
       "      <th></th>\n",
       "      <th>GAMA_ID</th>\n",
       "      <th>TEMP_1</th>\n",
       "      <th>Z1</th>\n",
       "      <th>PROB</th>\n",
       "      <th>TEMP_2</th>\n",
       "      <th>Z2</th>\n",
       "    </tr>\n",
       "  </thead>\n",
       "  <tbody>\n",
       "    <tr>\n",
       "      <th>2</th>\n",
       "      <td>1672022</td>\n",
       "      <td>46</td>\n",
       "      <td>0.198623</td>\n",
       "      <td>0.999759</td>\n",
       "      <td>40</td>\n",
       "      <td>0.236384</td>\n",
       "    </tr>\n",
       "    <tr>\n",
       "      <th>3</th>\n",
       "      <td>1671853</td>\n",
       "      <td>40</td>\n",
       "      <td>0.236388</td>\n",
       "      <td>0.386042</td>\n",
       "      <td>45</td>\n",
       "      <td>0.137846</td>\n",
       "    </tr>\n",
       "    <tr>\n",
       "      <th>4</th>\n",
       "      <td>1671921</td>\n",
       "      <td>42</td>\n",
       "      <td>0.321190</td>\n",
       "      <td>0.873768</td>\n",
       "      <td>40</td>\n",
       "      <td>0.693042</td>\n",
       "    </tr>\n",
       "    <tr>\n",
       "      <th>8</th>\n",
       "      <td>1670446</td>\n",
       "      <td>47</td>\n",
       "      <td>0.152914</td>\n",
       "      <td>0.959838</td>\n",
       "      <td>42</td>\n",
       "      <td>0.835282</td>\n",
       "    </tr>\n",
       "    <tr>\n",
       "      <th>11</th>\n",
       "      <td>1097325</td>\n",
       "      <td>40</td>\n",
       "      <td>0.253010</td>\n",
       "      <td>1.000000</td>\n",
       "      <td>43</td>\n",
       "      <td>0.800070</td>\n",
       "    </tr>\n",
       "    <tr>\n",
       "      <th>...</th>\n",
       "      <td>...</td>\n",
       "      <td>...</td>\n",
       "      <td>...</td>\n",
       "      <td>...</td>\n",
       "      <td>...</td>\n",
       "      <td>...</td>\n",
       "    </tr>\n",
       "    <tr>\n",
       "      <th>166253</th>\n",
       "      <td>898945</td>\n",
       "      <td>44</td>\n",
       "      <td>0.056605</td>\n",
       "      <td>0.318074</td>\n",
       "      <td>40</td>\n",
       "      <td>0.754685</td>\n",
       "    </tr>\n",
       "    <tr>\n",
       "      <th>166264</th>\n",
       "      <td>567501</td>\n",
       "      <td>42</td>\n",
       "      <td>0.468212</td>\n",
       "      <td>0.307539</td>\n",
       "      <td>40</td>\n",
       "      <td>0.403509</td>\n",
       "    </tr>\n",
       "    <tr>\n",
       "      <th>166266</th>\n",
       "      <td>567535</td>\n",
       "      <td>45</td>\n",
       "      <td>0.190249</td>\n",
       "      <td>0.980413</td>\n",
       "      <td>42</td>\n",
       "      <td>0.320867</td>\n",
       "    </tr>\n",
       "    <tr>\n",
       "      <th>166287</th>\n",
       "      <td>47350</td>\n",
       "      <td>42</td>\n",
       "      <td>0.470263</td>\n",
       "      <td>0.106134</td>\n",
       "      <td>40</td>\n",
       "      <td>-0.000408</td>\n",
       "    </tr>\n",
       "    <tr>\n",
       "      <th>166297</th>\n",
       "      <td>463293</td>\n",
       "      <td>40</td>\n",
       "      <td>0.139201</td>\n",
       "      <td>0.999998</td>\n",
       "      <td>43</td>\n",
       "      <td>0.690092</td>\n",
       "    </tr>\n",
       "  </tbody>\n",
       "</table>\n",
       "<p>61477 rows × 6 columns</p>\n",
       "</div>"
      ],
      "text/plain": [
       "        GAMA_ID  TEMP_1        Z1      PROB  TEMP_2        Z2\n",
       "2       1672022      46  0.198623  0.999759      40  0.236384\n",
       "3       1671853      40  0.236388  0.386042      45  0.137846\n",
       "4       1671921      42  0.321190  0.873768      40  0.693042\n",
       "8       1670446      47  0.152914  0.959838      42  0.835282\n",
       "11      1097325      40  0.253010  1.000000      43  0.800070\n",
       "...         ...     ...       ...       ...     ...       ...\n",
       "166253   898945      44  0.056605  0.318074      40  0.754685\n",
       "166264   567501      42  0.468212  0.307539      40  0.403509\n",
       "166266   567535      45  0.190249  0.980413      42  0.320867\n",
       "166287    47350      42  0.470263  0.106134      40 -0.000408\n",
       "166297   463293      40  0.139201  0.999998      43  0.690092\n",
       "\n",
       "[61477 rows x 6 columns]"
      ]
     },
     "execution_count": 5,
     "metadata": {},
     "output_type": "execute_result"
    }
   ],
   "source": [
    "gama_pg = autoz[(autoz.TEMP_1 == 40) | (autoz.TEMP_2 == 40) |\n",
    "                (autoz.TEMP_1 == 41) | (autoz.TEMP_2 <= 41) |\n",
    "                (autoz.TEMP_1 == 42) | (autoz.TEMP_2 == 42)\n",
    "                & (autoz.PROB > 0.9)]\n",
    "gama_pg.drop_duplicates(subset = 'GAMA_ID',\n",
    "                       keep = 'first',\n",
    "                        inplace = True)\n",
    "gama_pg"
   ]
  },
  {
   "cell_type": "code",
   "execution_count": 6,
   "metadata": {},
   "outputs": [],
   "source": [
    "#gama_pg['z_lens'] = np.zeros(len(gama_pg))\n",
    "#gama_pg.reset_index(inplace = True)"
   ]
  },
  {
   "cell_type": "code",
   "execution_count": 7,
   "metadata": {
    "scrolled": true
   },
   "outputs": [],
   "source": [
    "#for i in range(len(gama_pg.z_lens)):\n",
    " #   if gama_pg.Z1[i] > gama_pg.Z2[i]:\n",
    "  #      gama_pg.z_lens[i] = gama_pg.Z2[i]\n",
    "   # else:\n",
    "    #    gama_pg.z_lens[i] = gama_pg.Z1[i]\n",
    "     #   print('meeeseeeks')\n",
    "\n",
    "\n",
    "#for i in range(len(gama_pg)):\n",
    " #   if gama_pg.Z1[i] > gama_pg.Z2[i]:\n",
    "  #      gama_pg['z_lens'][i] = gama_pg.Z2[i]\n",
    "   # else:\n",
    "    #    gama_pg['z_lens'][i] = gama_pg.Z1[i]\n",
    "    #print('heyoo')"
   ]
  },
  {
   "cell_type": "markdown",
   "metadata": {},
   "source": [
    "## Load in Lambdar masses to combine M* and z"
   ]
  },
  {
   "cell_type": "code",
   "execution_count": 8,
   "metadata": {},
   "outputs": [
    {
     "data": {
      "text/html": [
       "<div>\n",
       "<style scoped>\n",
       "    .dataframe tbody tr th:only-of-type {\n",
       "        vertical-align: middle;\n",
       "    }\n",
       "\n",
       "    .dataframe tbody tr th {\n",
       "        vertical-align: top;\n",
       "    }\n",
       "\n",
       "    .dataframe thead th {\n",
       "        text-align: right;\n",
       "    }\n",
       "</style>\n",
       "<table border=\"1\" class=\"dataframe\">\n",
       "  <thead>\n",
       "    <tr style=\"text-align: right;\">\n",
       "      <th></th>\n",
       "      <th>GAMA_ID</th>\n",
       "      <th>lambdar_log_mstar</th>\n",
       "      <th>z</th>\n",
       "    </tr>\n",
       "  </thead>\n",
       "  <tbody>\n",
       "    <tr>\n",
       "      <th>0</th>\n",
       "      <td>6802</td>\n",
       "      <td>9.295552</td>\n",
       "      <td>0.05054</td>\n",
       "    </tr>\n",
       "    <tr>\n",
       "      <th>1</th>\n",
       "      <td>6806</td>\n",
       "      <td>11.251878</td>\n",
       "      <td>0.33124</td>\n",
       "    </tr>\n",
       "    <tr>\n",
       "      <th>2</th>\n",
       "      <td>6808</td>\n",
       "      <td>11.069718</td>\n",
       "      <td>0.22936</td>\n",
       "    </tr>\n",
       "    <tr>\n",
       "      <th>3</th>\n",
       "      <td>6810</td>\n",
       "      <td>11.397855</td>\n",
       "      <td>0.32630</td>\n",
       "    </tr>\n",
       "    <tr>\n",
       "      <th>4</th>\n",
       "      <td>6813</td>\n",
       "      <td>11.291913</td>\n",
       "      <td>0.48457</td>\n",
       "    </tr>\n",
       "    <tr>\n",
       "      <th>...</th>\n",
       "      <td>...</td>\n",
       "      <td>...</td>\n",
       "      <td>...</td>\n",
       "    </tr>\n",
       "    <tr>\n",
       "      <th>120614</th>\n",
       "      <td>4341320</td>\n",
       "      <td>10.162766</td>\n",
       "      <td>0.22847</td>\n",
       "    </tr>\n",
       "    <tr>\n",
       "      <th>120615</th>\n",
       "      <td>4342359</td>\n",
       "      <td>11.015234</td>\n",
       "      <td>0.64610</td>\n",
       "    </tr>\n",
       "    <tr>\n",
       "      <th>120616</th>\n",
       "      <td>4345978</td>\n",
       "      <td>11.303544</td>\n",
       "      <td>0.61111</td>\n",
       "    </tr>\n",
       "    <tr>\n",
       "      <th>120617</th>\n",
       "      <td>4347483</td>\n",
       "      <td>11.363264</td>\n",
       "      <td>0.59604</td>\n",
       "    </tr>\n",
       "    <tr>\n",
       "      <th>120618</th>\n",
       "      <td>4348349</td>\n",
       "      <td>10.072199</td>\n",
       "      <td>0.12256</td>\n",
       "    </tr>\n",
       "  </tbody>\n",
       "</table>\n",
       "<p>120619 rows × 3 columns</p>\n",
       "</div>"
      ],
      "text/plain": [
       "        GAMA_ID  lambdar_log_mstar        z\n",
       "0          6802           9.295552  0.05054\n",
       "1          6806          11.251878  0.33124\n",
       "2          6808          11.069718  0.22936\n",
       "3          6810          11.397855  0.32630\n",
       "4          6813          11.291913  0.48457\n",
       "...         ...                ...      ...\n",
       "120614  4341320          10.162766  0.22847\n",
       "120615  4342359          11.015234  0.64610\n",
       "120616  4345978          11.303544  0.61111\n",
       "120617  4347483          11.363264  0.59604\n",
       "120618  4348349          10.072199  0.12256\n",
       "\n",
       "[120619 rows x 3 columns]"
      ]
     },
     "execution_count": 8,
     "metadata": {},
     "output_type": "execute_result"
    }
   ],
   "source": [
    "# Opening GAMA MagPhys data from G09, G12, and G15 (DR3)\n",
    "hdul = fits.open(f'{fits_path}StellarMassesLambdar.fits')  # open a FITS file\n",
    "hdul.verify('fix')\n",
    "lambdar_data = hdul[1].data  # assume the first extension is a table\n",
    "#print(gama_data.columns)\n",
    "\n",
    "# take ID and templates/z from first and second fit\n",
    "GAMA_ID = lambdar_data.CATAID.byteswap().newbyteorder()\n",
    "lambdar_log_mstar = lambdar_data.logmintsfh.byteswap().newbyteorder()\n",
    "lambdar_z = lambdar_data.Z.byteswap().newbyteorder()\n",
    "\n",
    "\n",
    "lambdar_masses = pd.DataFrame(\n",
    "    {'GAMA_ID' : GAMA_ID,\n",
    "     'lambdar_log_mstar' : lambdar_log_mstar,\n",
    "    'z' : lambdar_z}\n",
    ") \n",
    "#     'logmremnants' : logmremnants, \n",
    "#     'fluxscale' : fluxscale})\n",
    "lambdar_masses.GAMA_ID = lambdar_masses.GAMA_ID.astype(int)\n",
    "lambdar_masses"
   ]
  },
  {
   "cell_type": "markdown",
   "metadata": {},
   "source": [
    "## Merge gama_pg and magphys to have stellar mass and z of all PG. Keep those whose MagPhys z matches one of the autoz z within 0.01."
   ]
  },
  {
   "cell_type": "code",
   "execution_count": 9,
   "metadata": {
    "scrolled": false
   },
   "outputs": [
    {
     "data": {
      "text/html": [
       "<div>\n",
       "<style scoped>\n",
       "    .dataframe tbody tr th:only-of-type {\n",
       "        vertical-align: middle;\n",
       "    }\n",
       "\n",
       "    .dataframe tbody tr th {\n",
       "        vertical-align: top;\n",
       "    }\n",
       "\n",
       "    .dataframe thead th {\n",
       "        text-align: right;\n",
       "    }\n",
       "</style>\n",
       "<table border=\"1\" class=\"dataframe\">\n",
       "  <thead>\n",
       "    <tr style=\"text-align: right;\">\n",
       "      <th></th>\n",
       "      <th>GAMA_ID</th>\n",
       "      <th>TEMP_1</th>\n",
       "      <th>Z1</th>\n",
       "      <th>PROB</th>\n",
       "      <th>TEMP_2</th>\n",
       "      <th>Z2</th>\n",
       "      <th>lambdar_log_mstar</th>\n",
       "      <th>z</th>\n",
       "    </tr>\n",
       "  </thead>\n",
       "  <tbody>\n",
       "    <tr>\n",
       "      <th>0</th>\n",
       "      <td>375611</td>\n",
       "      <td>40</td>\n",
       "      <td>0.208838</td>\n",
       "      <td>1.000000</td>\n",
       "      <td>12</td>\n",
       "      <td>-0.001423</td>\n",
       "      <td>11.599271</td>\n",
       "      <td>0.20880</td>\n",
       "    </tr>\n",
       "    <tr>\n",
       "      <th>1</th>\n",
       "      <td>300625</td>\n",
       "      <td>42</td>\n",
       "      <td>0.296332</td>\n",
       "      <td>0.986496</td>\n",
       "      <td>43</td>\n",
       "      <td>0.223840</td>\n",
       "      <td>11.412663</td>\n",
       "      <td>0.29639</td>\n",
       "    </tr>\n",
       "    <tr>\n",
       "      <th>2</th>\n",
       "      <td>300609</td>\n",
       "      <td>40</td>\n",
       "      <td>0.112758</td>\n",
       "      <td>0.999998</td>\n",
       "      <td>42</td>\n",
       "      <td>0.835271</td>\n",
       "      <td>10.928915</td>\n",
       "      <td>0.11276</td>\n",
       "    </tr>\n",
       "    <tr>\n",
       "      <th>3</th>\n",
       "      <td>375659</td>\n",
       "      <td>40</td>\n",
       "      <td>0.147295</td>\n",
       "      <td>1.000000</td>\n",
       "      <td>47</td>\n",
       "      <td>0.554020</td>\n",
       "      <td>10.671004</td>\n",
       "      <td>0.14729</td>\n",
       "    </tr>\n",
       "    <tr>\n",
       "      <th>4</th>\n",
       "      <td>300656</td>\n",
       "      <td>42</td>\n",
       "      <td>0.110471</td>\n",
       "      <td>1.000000</td>\n",
       "      <td>43</td>\n",
       "      <td>0.135040</td>\n",
       "      <td>10.668649</td>\n",
       "      <td>0.11047</td>\n",
       "    </tr>\n",
       "    <tr>\n",
       "      <th>...</th>\n",
       "      <td>...</td>\n",
       "      <td>...</td>\n",
       "      <td>...</td>\n",
       "      <td>...</td>\n",
       "      <td>...</td>\n",
       "      <td>...</td>\n",
       "      <td>...</td>\n",
       "      <td>...</td>\n",
       "    </tr>\n",
       "    <tr>\n",
       "      <th>44833</th>\n",
       "      <td>263192</td>\n",
       "      <td>42</td>\n",
       "      <td>0.505277</td>\n",
       "      <td>0.221257</td>\n",
       "      <td>47</td>\n",
       "      <td>0.419933</td>\n",
       "      <td>10.988874</td>\n",
       "      <td>0.42066</td>\n",
       "    </tr>\n",
       "    <tr>\n",
       "      <th>44959</th>\n",
       "      <td>228835</td>\n",
       "      <td>42</td>\n",
       "      <td>0.803575</td>\n",
       "      <td>0.105130</td>\n",
       "      <td>43</td>\n",
       "      <td>0.491171</td>\n",
       "      <td>11.260679</td>\n",
       "      <td>0.49113</td>\n",
       "    </tr>\n",
       "    <tr>\n",
       "      <th>45108</th>\n",
       "      <td>814292</td>\n",
       "      <td>42</td>\n",
       "      <td>0.790276</td>\n",
       "      <td>0.197519</td>\n",
       "      <td>44</td>\n",
       "      <td>0.375328</td>\n",
       "      <td>11.021035</td>\n",
       "      <td>0.37629</td>\n",
       "    </tr>\n",
       "    <tr>\n",
       "      <th>45114</th>\n",
       "      <td>17425</td>\n",
       "      <td>40</td>\n",
       "      <td>0.310895</td>\n",
       "      <td>1.000000</td>\n",
       "      <td>44</td>\n",
       "      <td>0.307942</td>\n",
       "      <td>11.647150</td>\n",
       "      <td>0.31090</td>\n",
       "    </tr>\n",
       "    <tr>\n",
       "      <th>45395</th>\n",
       "      <td>47350</td>\n",
       "      <td>42</td>\n",
       "      <td>0.470263</td>\n",
       "      <td>0.106134</td>\n",
       "      <td>40</td>\n",
       "      <td>-0.000408</td>\n",
       "      <td>-0.340261</td>\n",
       "      <td>0.00008</td>\n",
       "    </tr>\n",
       "  </tbody>\n",
       "</table>\n",
       "<p>38350 rows × 8 columns</p>\n",
       "</div>"
      ],
      "text/plain": [
       "       GAMA_ID  TEMP_1        Z1      PROB  TEMP_2        Z2  \\\n",
       "0       375611      40  0.208838  1.000000      12 -0.001423   \n",
       "1       300625      42  0.296332  0.986496      43  0.223840   \n",
       "2       300609      40  0.112758  0.999998      42  0.835271   \n",
       "3       375659      40  0.147295  1.000000      47  0.554020   \n",
       "4       300656      42  0.110471  1.000000      43  0.135040   \n",
       "...        ...     ...       ...       ...     ...       ...   \n",
       "44833   263192      42  0.505277  0.221257      47  0.419933   \n",
       "44959   228835      42  0.803575  0.105130      43  0.491171   \n",
       "45108   814292      42  0.790276  0.197519      44  0.375328   \n",
       "45114    17425      40  0.310895  1.000000      44  0.307942   \n",
       "45395    47350      42  0.470263  0.106134      40 -0.000408   \n",
       "\n",
       "       lambdar_log_mstar        z  \n",
       "0              11.599271  0.20880  \n",
       "1              11.412663  0.29639  \n",
       "2              10.928915  0.11276  \n",
       "3              10.671004  0.14729  \n",
       "4              10.668649  0.11047  \n",
       "...                  ...      ...  \n",
       "44833          10.988874  0.42066  \n",
       "44959          11.260679  0.49113  \n",
       "45108          11.021035  0.37629  \n",
       "45114          11.647150  0.31090  \n",
       "45395          -0.340261  0.00008  \n",
       "\n",
       "[38350 rows x 8 columns]"
      ]
     },
     "execution_count": 9,
     "metadata": {},
     "output_type": "execute_result"
    }
   ],
   "source": [
    "pg_sample = pd.merge(gama_pg, lambdar_masses, on = 'GAMA_ID', how = 'inner')\n",
    "\n",
    "pg_sample1 = pg_sample[(abs(pg_sample.Z1 - pg_sample.z) < 0.01)]\n",
    "pg_sample1 = pg_sample1[(pg_sample1.TEMP_1 == 40) |\n",
    "                       (pg_sample1.TEMP_1 == 41) |\n",
    "                       (pg_sample1.TEMP_1 == 42) ]\n",
    "pg_sample1\n",
    "pg_sample2 = pg_sample[(abs(pg_sample.Z2 - pg_sample.z) < 0.01)]\n",
    "pg_sample2 = pg_sample2[(pg_sample2.TEMP_1 == 40) |\n",
    "                       (pg_sample2.TEMP_1 == 41) |\n",
    "                       (pg_sample2.TEMP_1 == 42)]\n",
    "pg_sample2\n",
    "pg = pd.concat([pg_sample1, pg_sample2])\n",
    "pg"
   ]
  },
  {
   "cell_type": "code",
   "execution_count": 10,
   "metadata": {
    "scrolled": true
   },
   "outputs": [
    {
     "data": {
      "text/plain": [
       "38278"
      ]
     },
     "execution_count": 10,
     "metadata": {},
     "output_type": "execute_result"
    }
   ],
   "source": [
    "pg_parent_sample = pg[pg.z > 0.01]\n",
    "len(pg_parent_sample)"
   ]
  },
  {
   "cell_type": "markdown",
   "metadata": {},
   "source": [
    "## Plot pg z to log(M*)"
   ]
  },
  {
   "cell_type": "code",
   "execution_count": 11,
   "metadata": {
    "scrolled": false
   },
   "outputs": [
    {
     "data": {
      "text/plain": [
       "Text(0, 0.5, 'Redshift (z)')"
      ]
     },
     "execution_count": 11,
     "metadata": {},
     "output_type": "execute_result"
    },
    {
     "data": {
      "image/png": "[encoded data removed]",
      "text/plain": [
       "<Figure size 576x576 with 1 Axes>"
      ]
     },
     "metadata": {
      "needs_background": "light"
     },
     "output_type": "display_data"
    }
   ],
   "source": [
    "# Three-panel plot\n",
    "from matplotlib.ticker import NullFormatter\n",
    "nullfmt   = NullFormatter()         # no labels\n",
    "# definitions for the axes\n",
    "left, width = 0.1, 0.65\n",
    "lower, height = 0.1, 0.65\n",
    "lower_h = left_h = left+width+0.02\n",
    "    \n",
    "rect_scatter = [left, lower, width, height]\n",
    "#rect_histx = [left, lower_h, width, 0.2]\n",
    "#rect_histy = [left_h, lower, 0.2, height]\n",
    "    \n",
    "    # start with a rectangular Figure\n",
    "plt.figure(1, figsize=(8,8))\n",
    "    \n",
    "axScatter = plt.axes(rect_scatter)\n",
    "#axHistx = plt.axes(rect_histx)\n",
    "#axHisty = plt.axes(rect_histy)\n",
    "\n",
    "binwidth = 0.5\n",
    "bins=20\n",
    "\n",
    "    # no labels\n",
    "#axHistx.xaxis.set_major_formatter(nullfmt)\n",
    "#axHisty.yaxis.set_major_formatter(nullfmt)\n",
    "\n",
    "axScatter.plot(pg_parent_sample.lambdar_log_mstar, pg_parent_sample.z, 'co', fillstyle = 'none')\n",
    "axScatter.plot(spec.lambdar_log_mstar, spec.z_lens, 'bo')\n",
    "\n",
    "axScatter.set_xlabel(r'Stellar Mass $log(M_*/M_\\odot)$', fontsize=20)\n",
    "axScatter.set_ylabel(r'Redshift (z)', fontsize=20)\n",
    "\n",
    "#axHisty.hist(spec.Z, orientation='horizontal', range=[0,0.8], bins=bins,color='b', histtype = 'step', linewidth=3)\n",
    "#axHisty.hist(pg_sample.Z, orientation='horizontal', range=[0,0.8], bins=bins,color='c', histtype = 'step', linewidth=3)\n",
    "\n",
    "#axHistx.hist(np.log10(spec.STELLAR_MASS), range=[7,12], bins=bins,color='b', histtype = 'step', linewidth=3)\n",
    "#axHistx.hist(np.log10(pg_sample.STELLAR_MASS), range=[7,12], bins=bins,color='c', histtype = 'step', linewidth=3)\n",
    "#plt.savefig('/home/shawn/Desktop/gravitational_lensing_research/Lens_Project_Visuals/PNGs/spec_gama_pg_zmass.png')"
   ]
  },
  {
   "cell_type": "markdown",
   "metadata": {},
   "source": [
    "# K-S tests of z and M*"
   ]
  },
  {
   "cell_type": "code",
   "execution_count": 12,
   "metadata": {},
   "outputs": [
    {
     "data": {
      "text/plain": [
       "Ks_2sampResult(statistic=0.07986366258936584, pvalue=0.9256189311198815)"
      ]
     },
     "execution_count": 12,
     "metadata": {},
     "output_type": "execute_result"
    }
   ],
   "source": [
    "sci.ks_2samp(spec.z_lens, pg_parent_sample.z)"
   ]
  },
  {
   "cell_type": "code",
   "execution_count": 13,
   "metadata": {},
   "outputs": [
    {
     "data": {
      "text/plain": [
       "Ks_2sampResult(statistic=0.3738234172620682, pvalue=4.010179440909193e-06)"
      ]
     },
     "execution_count": 13,
     "metadata": {},
     "output_type": "execute_result"
    }
   ],
   "source": [
    "sci.ks_2samp(spec.lambdar_mstar, 10**(pg_parent_sample.lambdar_log_mstar))"
   ]
  },
  {
   "cell_type": "markdown",
   "metadata": {},
   "source": [
    "# AD tests of z and M*"
   ]
  },
  {
   "cell_type": "code",
   "execution_count": 55,
   "metadata": {},
   "outputs": [
    {
     "name": "stderr",
     "output_type": "stream",
     "text": [
      "/home/shawn/miniconda3/envs/astroconda/lib/python3.7/site-packages/ipykernel_launcher.py:1: UserWarning: p-value floored: true value smaller than 0.001\n",
      "  \"\"\"Entry point for launching an IPython kernel.\n"
     ]
    },
    {
     "data": {
      "text/plain": [
       "Anderson_ksampResult(statistic=177.37253002455355, critical_values=array([0.325, 1.226, 1.961, 2.718, 3.752, 4.592, 6.546]), significance_level=0.001)"
      ]
     },
     "execution_count": 55,
     "metadata": {},
     "output_type": "execute_result"
    }
   ],
   "source": [
    "sci.anderson_ksamp([spec.Z, pg.Z])"
   ]
  },
  {
   "cell_type": "code",
   "execution_count": 54,
   "metadata": {},
   "outputs": [
    {
     "name": "stderr",
     "output_type": "stream",
     "text": [
      "/home/shawn/miniconda3/envs/astroconda/lib/python3.7/site-packages/ipykernel_launcher.py:1: UserWarning: p-value floored: true value smaller than 0.001\n",
      "  \"\"\"Entry point for launching an IPython kernel.\n"
     ]
    },
    {
     "data": {
      "text/plain": [
       "Anderson_ksampResult(statistic=161.47716684141713, critical_values=array([0.325, 1.226, 1.961, 2.718, 3.752, 4.592, 6.546]), significance_level=0.001)"
      ]
     },
     "execution_count": 54,
     "metadata": {},
     "output_type": "execute_result"
    }
   ],
   "source": [
    "sci.anderson_ksamp([spec.STELLAR_MASS, pg.STELLAR_MASS])"
   ]
  },
  {
   "cell_type": "markdown",
   "metadata": {},
   "source": [
    "# Edit 08/12/20 - Histograms"
   ]
  },
  {
   "cell_type": "code",
   "execution_count": 33,
   "metadata": {},
   "outputs": [
    {
     "data": {
      "image/png": "[encoded data removed]",
      "text/plain": [
       "<Figure size 432x288 with 1 Axes>"
      ]
     },
     "metadata": {
      "needs_background": "light"
     },
     "output_type": "display_data"
    }
   ],
   "source": [
    "plt.hist(spec.z_lens, \n",
    "         histtype='step',\n",
    "         density=True,\n",
    "        color='b',\n",
    "         range=(0, 0.8),\n",
    "        bins=8,\n",
    "        label='GAMA Spectroscopy Candidates')\n",
    "plt.hist(pg.z,\n",
    "        histtype='step',\n",
    "         density=True,\n",
    "        color='red',\n",
    "        range=(0, 0.8),\n",
    "        bins=8,\n",
    "        label='GAMA PG Sample')\n",
    "plt.legend(fontsize=8)\n",
    "plt.xlabel('Redshift - z')\n",
    "plt.title('GAMA Spectroscopy - Normalized Distribution in Terms of Redshift')\n",
    "\n",
    "#plt.savefig(f'{png_path}spec_ks_histogram_z.png')\n",
    "#plt.savefig(f'{pdf_path}spec_ks_histogram_z.pdf')"
   ]
  },
  {
   "cell_type": "code",
   "execution_count": 14,
   "metadata": {},
   "outputs": [
    {
     "name": "stderr",
     "output_type": "stream",
     "text": [
      "/home/shawn/miniconda3/envs/astroconda/lib/python3.6/site-packages/numpy/lib/histograms.py:839: RuntimeWarning: invalid value encountered in greater_equal\n",
      "  keep = (tmp_a >= first_edge)\n",
      "/home/shawn/miniconda3/envs/astroconda/lib/python3.6/site-packages/numpy/lib/histograms.py:840: RuntimeWarning: invalid value encountered in less_equal\n",
      "  keep &= (tmp_a <= last_edge)\n"
     ]
    },
    {
     "data": {
      "image/png": "[encoded data removed]",
      "text/plain": [
       "<Figure size 432x288 with 1 Axes>"
      ]
     },
     "metadata": {
      "needs_background": "light"
     },
     "output_type": "display_data"
    }
   ],
   "source": [
    "plt.hist(spec.lambdar_log_mstar, \n",
    "         histtype='step',\n",
    "         density=True,\n",
    "        color='b',\n",
    "         range=(8.5, 12.5),\n",
    "        bins=8,\n",
    "        label='GAMA Spectroscopy Candidates')\n",
    "plt.hist(pg.lambdar_log_mstar,\n",
    "        histtype='step',\n",
    "         density=True,\n",
    "        color='red',\n",
    "        range=(8.5, 12.5),\n",
    "        bins=8,\n",
    "        label='GAMA PG Sample')\n",
    "plt.legend(fontsize=8, loc='upper left')\n",
    "plt.xlabel('Stellar Mass - $log(M_*/M_{\\odot})$')\n",
    "plt.title('GAMA Spectroscopy - Normalized Distribution in Terms of Stellar Mass')\n",
    "\n",
    "#plt.savefig(f'{png_path}spec_ks_histogram_mass.png')\n",
    "#plt.savefig(f'{pdf_path}spec_ks_histogram_mass.pdf')"
   ]
  },
  {
   "cell_type": "code",
   "execution_count": 23,
   "metadata": {},
   "outputs": [
    {
     "data": {
      "text/plain": [
       "12.91013"
      ]
     },
     "execution_count": 23,
     "metadata": {},
     "output_type": "execute_result"
    }
   ],
   "source": [
    "pg.lambdar_log_mstar.max()"
   ]
  },
  {
   "cell_type": "code",
   "execution_count": 26,
   "metadata": {},
   "outputs": [
    {
     "ename": "SyntaxError",
     "evalue": "invalid syntax (<ipython-input-26-de603c91038f>, line 1)",
     "output_type": "error",
     "traceback": [
      "\u001b[0;36m  File \u001b[0;32m\"<ipython-input-26-de603c91038f>\"\u001b[0;36m, line \u001b[0;32m1\u001b[0m\n\u001b[0;31m    ]\u001b[0m\n\u001b[0m    ^\u001b[0m\n\u001b[0;31mSyntaxError\u001b[0m\u001b[0;31m:\u001b[0m invalid syntax\n"
     ]
    }
   ],
   "source": [
    "\n"
   ]
  },
  {
   "cell_type": "code",
   "execution_count": null,
   "metadata": {},
   "outputs": [],
   "source": []
  }
 ],
 "metadata": {
  "kernelspec": {
   "display_name": "Python 3",
   "language": "python",
   "name": "python3"
  },
  "language_info": {
   "codemirror_mode": {
    "name": "ipython",
    "version": 3
   },
   "file_extension": ".py",
   "mimetype": "text/x-python",
   "name": "python",
   "nbconvert_exporter": "python",
   "pygments_lexer": "ipython3",
   "version": "3.6.10"
  }
 },
 "nbformat": 4,
 "nbformat_minor": 2
}
