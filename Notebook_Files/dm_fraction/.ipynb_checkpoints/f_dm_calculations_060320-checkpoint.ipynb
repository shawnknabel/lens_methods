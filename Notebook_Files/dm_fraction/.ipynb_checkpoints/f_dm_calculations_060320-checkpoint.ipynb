{
 "cells": [
  {
   "cell_type": "markdown",
   "metadata": {},
   "source": [
    "# 06/03/20\n",
    "# This notebook investigates an alternative calculation for dark matter fraction using SLACS X's analysis of 73 SLACS elliptical galaxies.\n",
    "### They use a mass at half the effective radius $M_{r_e/2}$ to approximate the mass enclosed within the Einstein radius.\n",
    "### The relationship of logs of $M_*$ to $M_{r_e/2}$ is linear:\n",
    "### $log(M_*/(10^{10})) = 0.81*log(M_{r_e/2}/(10^{10})) + 0.35$\n",
    "### $log(M_{r_e/2}) = (log(M_*) - 2.25)/(0.81)$\n",
    "\n",
    "## I don't think this works correctly the way I have set this up. Total mass estimates are two orders of magnitude greater. I will have to try this again.\n",
    "\n",
    "# Other relation used (which I probably should have done in the first place) is this:\n",
    "### $f_{dm} = 0.13 * log(M_*/(10^{11} M_{sol}))+ 0.54$\n",
    "### Mean is 0.55 +/- 0.10"
   ]
  },
  {
   "cell_type": "code",
   "execution_count": 14,
   "metadata": {},
   "outputs": [],
   "source": [
    "import numpy as np\n",
    "import pandas as pd\n",
    "import matplotlib.pyplot as plt\n",
    "%matplotlib inline\n",
    "from astropy import constants as const\n",
    "c = const.c.to('km/s').value #c in km/s\n",
    "h0 = 73.8 #h0 in km/(Mpc*s) Riess2011"
   ]
  },
  {
   "cell_type": "code",
   "execution_count": 15,
   "metadata": {},
   "outputs": [],
   "source": [
    "spec = pd.read_csv('/home/shawn/Desktop/gravitational_lensing_research/Lens_Project_Files/spec_latest.csv')\n",
    "mac = pd.read_csv('/home/shawn/Desktop/gravitational_lensing_research/Lens_Project_Files/mac_latest.csv')\n",
    "zoo = pd.read_csv('/home/shawn/Desktop/gravitational_lensing_research/Lens_Project_Files/zoo_latest.csv')"
   ]
  },
  {
   "cell_type": "code",
   "execution_count": 9,
   "metadata": {},
   "outputs": [
    {
     "data": {
      "text/plain": [
       "0     7.756410e+10\n",
       "1              NaN\n",
       "2     2.199487e+11\n",
       "3     3.653846e+10\n",
       "4     2.168205e+11\n",
       "5              NaN\n",
       "6     3.115385e+11\n",
       "7     3.779487e+11\n",
       "8     1.233846e+10\n",
       "9              NaN\n",
       "10    1.096154e+11\n",
       "11    9.351282e+10\n",
       "12    2.173333e+10\n",
       "13             NaN\n",
       "14    3.392308e+11\n",
       "15    2.102051e+11\n",
       "16    6.887180e+11\n",
       "17             NaN\n",
       "18    3.697436e+11\n",
       "19    2.009231e+11\n",
       "20             NaN\n",
       "21             NaN\n",
       "22             NaN\n",
       "23    3.830769e+09\n",
       "24             NaN\n",
       "25    1.323590e+11\n",
       "26    3.582051e+11\n",
       "27    2.221026e+11\n",
       "28             NaN\n",
       "29             NaN\n",
       "30             NaN\n",
       "31             NaN\n",
       "32             NaN\n",
       "33    3.687179e+11\n",
       "34             NaN\n",
       "35             NaN\n",
       "36    2.653846e+11\n",
       "37    2.331795e+11\n",
       "38    1.566923e+11\n",
       "39    2.756410e+10\n",
       "40    3.202564e+11\n",
       "41    2.245898e+09\n",
       "42    8.017949e+10\n",
       "43    4.428205e+11\n",
       "44    6.330769e+10\n",
       "45    7.156410e+10\n",
       "46    2.351026e+11\n",
       "Name: STELLAR_MASS, dtype: float64"
      ]
     },
     "execution_count": 9,
     "metadata": {},
     "output_type": "execute_result"
    }
   ],
   "source": [
    "# total mass taken from f_dm = 0.61\n",
    "(1/0.39 * spec.STELLAR_MASS)"
   ]
  },
  {
   "cell_type": "code",
   "execution_count": 166,
   "metadata": {},
   "outputs": [
    {
     "name": "stdout",
     "output_type": "stream",
     "text": [
      "count    47.000000\n",
      "mean     11.206164\n",
      "std       0.332154\n",
      "min      10.088603\n",
      "25%      11.020544\n",
      "50%      11.215127\n",
      "75%      11.447510\n",
      "max      11.935646\n",
      "Name: log_enclosed_mass, dtype: float64 count     1.672098\n",
      "mean     11.399159\n",
      "std      11.159722\n",
      "min      10.421768\n",
      "25%      11.176814\n",
      "50%      11.334253\n",
      "75%      11.522509\n",
      "max      11.917873\n",
      "Name: STELLAR_MASS, dtype: float64\n"
     ]
    }
   ],
   "source": [
    "# total mass within half the effective radius taken from Auger09 relation\n",
    "spec['log_enclosed_mass'] = ((np.log10(spec.STELLAR_MASS) - 2.25)/0.81)\n",
    "mac['log_enclosed_mass'] = ((np.log10(mac.STELLAR_MASS) - 2.25)/0.81)\n",
    "zoo['log_enclosed_mass'] = ((np.log10(zoo.STELLAR_MASS) - 2.25)/0.81)\n",
    "print(mac.log_enclosed_mass.describe(),\n",
    "      np.log10(mac.STELLAR_MASS.describe()))"
   ]
  },
  {
   "cell_type": "code",
   "execution_count": 115,
   "metadata": {},
   "outputs": [
    {
     "data": {
      "text/plain": [
       "(10, 14)"
      ]
     },
     "execution_count": 115,
     "metadata": {},
     "output_type": "execute_result"
    },
    {
     "data": {
      "image/png": "[encoded data removed]",
      "text/plain": [
       "<Figure size 576x576 with 1 Axes>"
      ]
     },
     "metadata": {
      "needs_background": "light"
     },
     "output_type": "display_data"
    }
   ],
   "source": [
    "x = np.linspace(8, 12, 1000)\n",
    "\n",
    "fig = plt.figure(figsize = (8, 8))\n",
    "ax = plt.subplot()\n",
    "ax.scatter(np.log10(spec.STELLAR_MASS), spec.log_enclosed_mass)\n",
    "ax.plot(x, (x-0.35)/(0.81))\n",
    "ax.set_xlim(8, 12)\n",
    "ax.set_ylim(10, 14)"
   ]
  },
  {
   "cell_type": "code",
   "execution_count": 134,
   "metadata": {},
   "outputs": [],
   "source": [
    "# Okay... so if I estimate theta_E with this, what does that look like?\n",
    "\n",
    "from astropy import constants as const\n",
    "c = const.c.to('km/s').value #c in km/s\n",
    "h0 = 73.8 #h0 in km/(Mpc*s) Riess2011\n",
    "\n",
    "M = 10**(spec.log_enclosed_mass) # total mass assuming theta_E ~ 1/2 effective radius\n",
    "Z1 = spec.z1\n",
    "Z2 = spec.z2\n",
    "\n",
    "# mass term\n",
    "A = (M/(10**11.09))**(1/2)\n",
    "# distances term, h0*1000 gives km/Gpc*s\n",
    "# if Zsource = 2*Zlens... Zsource*Zlens/(Zsource-Zlens) becomes 2*Zlens\n",
    "B = ((c/(h0*1000))*((Z1 * Z2 / abs(Z1 - Z2))))**(-1.2)#(2*Z))**(-1/2)\n",
    "spec['theta_e_auger'] = A*B #gives arcsecs"
   ]
  },
  {
   "cell_type": "code",
   "execution_count": 135,
   "metadata": {},
   "outputs": [
    {
     "data": {
      "text/plain": [
       "count    31.000000\n",
       "mean      0.250252\n",
       "std       0.162126\n",
       "min       0.057005\n",
       "25%       0.166322\n",
       "50%       0.203801\n",
       "75%       0.324751\n",
       "max       0.866412\n",
       "Name: theta_e_auger, dtype: float64"
      ]
     },
     "execution_count": 135,
     "metadata": {},
     "output_type": "execute_result"
    }
   ],
   "source": [
    "spec.theta_e_auger.describe()"
   ]
  },
  {
   "cell_type": "code",
   "execution_count": 136,
   "metadata": {},
   "outputs": [],
   "source": [
    "# estimate einstein radius\n",
    "M = 10**(mac.log_enclosed_mass)\n",
    "Z = mac.Z\n",
    "#Z2 = spec.z2\n",
    "\n",
    "# mass term\n",
    "A = (M/(10**11.09))**(1/2)\n",
    "# distances term, h0*1000 gives km/Gpc*s\n",
    "# if Zsource = 2*Zlens... Zsource*Zlens/(Zsource-Zlens) becomes 2*Zlens\n",
    "B = ((c/(h0*1000))*(2*Z))**(-1/2)\n",
    "mac['theta_e_auger'] = A*B #gives arcsecs"
   ]
  },
  {
   "cell_type": "code",
   "execution_count": 137,
   "metadata": {},
   "outputs": [
    {
     "data": {
      "text/plain": [
       "count    47.000000\n",
       "mean      0.773480\n",
       "std       0.204511\n",
       "min       0.436939\n",
       "25%       0.617558\n",
       "50%       0.782913\n",
       "75%       0.887969\n",
       "max       1.482360\n",
       "Name: theta_e_auger, dtype: float64"
      ]
     },
     "execution_count": 137,
     "metadata": {},
     "output_type": "execute_result"
    }
   ],
   "source": [
    "mac.theta_e_auger.describe()"
   ]
  },
  {
   "cell_type": "code",
   "execution_count": 138,
   "metadata": {},
   "outputs": [],
   "source": [
    "# estimate einstein radius\n",
    "M = 10**zoo.log_enclosed_mass\n",
    "Z = zoo.Z\n",
    "#Z2 = spec.z2\n",
    "\n",
    "# mass term\n",
    "A = (M/(10**11.09))**(1/2)\n",
    "# distances term, h0*1000 gives km/Gpc*s\n",
    "# if Zsource = 2*Zlens... Zsource*Zlens/(Zsource-Zlens) becomes 2*Zlens\n",
    "B = ((c/(h0*1000))*(2*Z))**(-1/2)\n",
    "zoo['theta_e_auger'] = A*B #gives arcsecs"
   ]
  },
  {
   "cell_type": "code",
   "execution_count": 140,
   "metadata": {},
   "outputs": [
    {
     "data": {
      "text/plain": [
       "count    36.000000\n",
       "mean      0.586612\n",
       "std       0.298236\n",
       "min       0.256589\n",
       "25%       0.375443\n",
       "50%       0.497379\n",
       "75%       0.684663\n",
       "max       1.482360\n",
       "Name: theta_e_auger, dtype: float64"
      ]
     },
     "execution_count": 140,
     "metadata": {},
     "output_type": "execute_result"
    }
   ],
   "source": [
    "zoo.theta_e_auger.describe()"
   ]
  },
  {
   "cell_type": "markdown",
   "metadata": {},
   "source": [
    "## Calculate dark matter fraction from stellar mass."
   ]
  },
  {
   "cell_type": "code",
   "execution_count": 16,
   "metadata": {},
   "outputs": [],
   "source": [
    "spec['f_dm'] = 0.13 * np.log10(spec.STELLAR_MASS/(10**11)) + 0.54\n",
    "mac['f_dm'] =  0.13 * np.log10(mac.STELLAR_MASS/(10**11)) + 0.54\n",
    "zoo['f_dm'] =  0.13 * np.log10(zoo.STELLAR_MASS/(10**11)) + 0.54\n",
    "\n",
    "all_dm = pd.concat([spec,mac,zoo])"
   ]
  },
  {
   "cell_type": "code",
   "execution_count": 17,
   "metadata": {},
   "outputs": [
    {
     "name": "stdout",
     "output_type": "stream",
     "text": [
      "count    31.000000\n",
      "mean      0.496219\n",
      "std       0.077470\n",
      "min       0.272519\n",
      "25%       0.470222\n",
      "50%       0.528782\n",
      "75%       0.551774\n",
      "max       0.595784\n",
      "Name: f_dm, dtype: float64 count    47.000000\n",
      "mean      0.582509\n",
      "std       0.034976\n",
      "min       0.464830\n",
      "25%       0.562963\n",
      "50%       0.583453\n",
      "75%       0.607923\n",
      "max       0.659323\n",
      "Name: f_dm, dtype: float64 count    36.000000\n",
      "mean      0.501054\n",
      "std       0.041657\n",
      "min       0.424943\n",
      "25%       0.468991\n",
      "50%       0.498834\n",
      "75%       0.529484\n",
      "max       0.599446\n",
      "Name: f_dm, dtype: float64 count    114.000000\n",
      "mean       0.533322\n",
      "std        0.065913\n",
      "min        0.272519\n",
      "25%        0.494525\n",
      "50%        0.536903\n",
      "75%        0.582881\n",
      "max        0.659323\n",
      "Name: f_dm, dtype: float64\n"
     ]
    }
   ],
   "source": [
    "print(spec.f_dm.describe(),\n",
    "mac.f_dm.describe(),\n",
    "zoo.f_dm.describe(),\n",
    "     all_dm.f_dm.describe())"
   ]
  },
  {
   "cell_type": "code",
   "execution_count": 18,
   "metadata": {},
   "outputs": [
    {
     "data": {
      "text/plain": [
       "<matplotlib.collections.PathCollection at 0x7f3664e42278>"
      ]
     },
     "execution_count": 18,
     "metadata": {},
     "output_type": "execute_result"
    },
    {
     "data": {
      "image/png": "[encoded data removed]",
      "text/plain": [
       "<Figure size 432x288 with 1 Axes>"
      ]
     },
     "metadata": {
      "needs_background": "light"
     },
     "output_type": "display_data"
    }
   ],
   "source": [
    "fig, ax = plt.subplots()\n",
    "ax.scatter(spec.STELLAR_MASS, spec.f_dm)\n",
    "ax.scatter(mac.STELLAR_MASS, mac.f_dm, color = 'g', alpha = 0.5)\n",
    "ax.scatter(zoo.STELLAR_MASS, zoo.f_dm, color = 'y', alpha = 0.5)"
   ]
  },
  {
   "cell_type": "code",
   "execution_count": 19,
   "metadata": {},
   "outputs": [],
   "source": [
    "M = spec.STELLAR_MASS/(1 - spec.f_dm) \n",
    "Z1 = spec.z1\n",
    "Z2 = spec.z2\n",
    "\n",
    "# mass term\n",
    "A = (M/(10**11.09))**(1/2)\n",
    "# distances term, h0*1000 gives km/Gpc*s\n",
    "# if Zsource = 2*Zlens... Zsource*Zlens/(Zsource-Zlens) becomes 2*Zlens\n",
    "B = ((c/(h0*1000))*((Z1 * Z2 / abs(Z1 - Z2))))**(-1.2)#(2*Z))**(-1/2)\n",
    "spec['theta_e_auger'] = A*B #gives arcsecs"
   ]
  },
  {
   "cell_type": "code",
   "execution_count": 20,
   "metadata": {},
   "outputs": [
    {
     "name": "stdout",
     "output_type": "stream",
     "text": [
      "count    31.000000\n",
      "mean      0.486546\n",
      "std       0.308161\n",
      "min       0.138951\n",
      "25%       0.304045\n",
      "50%       0.402855\n",
      "75%       0.632412\n",
      "max       1.574635\n",
      "Name: theta_e_auger, dtype: float64 count    31.000000\n",
      "mean      0.552863\n",
      "std       0.349082\n",
      "min       0.141461\n",
      "25%       0.321726\n",
      "50%       0.469898\n",
      "75%       0.676612\n",
      "max       1.674666\n",
      "Name: theta_e2, dtype: float64\n"
     ]
    }
   ],
   "source": [
    "print(spec.theta_e_auger.describe(),\n",
    "     spec.theta_e2.describe())\n",
    "# small differences worth checking out, but they're still close. This is better."
   ]
  },
  {
   "cell_type": "code",
   "execution_count": 21,
   "metadata": {},
   "outputs": [],
   "source": [
    "# estimate einstein radius\n",
    "M = mac.STELLAR_MASS / (1 - mac.f_dm) \n",
    "Z = mac.Z\n",
    "#Z2 = spec.z2\n",
    "\n",
    "# mass term\n",
    "A = (M/(10**11.09))**(1/2)\n",
    "# distances term, h0*1000 gives km/Gpc*s\n",
    "# if Zsource = 2*Zlens... Zsource*Zlens/(Zsource-Zlens) becomes 2*Zlens\n",
    "B = ((c/(h0*1000))*(2*Z))**(-1/2)\n",
    "mac['theta_e_auger'] = A*B #gives arcsecs"
   ]
  },
  {
   "cell_type": "code",
   "execution_count": 22,
   "metadata": {},
   "outputs": [
    {
     "name": "stdout",
     "output_type": "stream",
     "text": [
      "count    47.000000\n",
      "mean      1.371313\n",
      "std       0.336329\n",
      "min       0.823132\n",
      "25%       1.120858\n",
      "50%       1.370122\n",
      "75%       1.570149\n",
      "max       2.598708\n",
      "Name: theta_e_auger, dtype: float64 count    47.000000\n",
      "mean      1.408854\n",
      "std       0.314145\n",
      "min       0.907575\n",
      "25%       1.185279\n",
      "50%       1.387197\n",
      "75%       1.560006\n",
      "max       2.633636\n",
      "Name: theta_e, dtype: float64\n"
     ]
    }
   ],
   "source": [
    "print(mac.theta_e_auger.describe(),\n",
    "     mac.theta_e.describe())"
   ]
  },
  {
   "cell_type": "code",
   "execution_count": 23,
   "metadata": {},
   "outputs": [],
   "source": [
    "# estimate einstein radius\n",
    "M = zoo.STELLAR_MASS/(1 - zoo.f_dm) \n",
    "Z = zoo.Z\n",
    "#Z2 = spec.z2\n",
    "\n",
    "# mass term\n",
    "A = (M/(10**11.09))**(1/2)\n",
    "# distances term, h0*1000 gives km/Gpc*s\n",
    "# if Zsource = 2*Zlens... Zsource*Zlens/(Zsource-Zlens) becomes 2*Zlens\n",
    "B = ((c/(h0*1000))*(2*Z))**(-1/2)\n",
    "zoo['theta_e_auger'] = A*B #gives arcsecs"
   ]
  },
  {
   "cell_type": "code",
   "execution_count": 24,
   "metadata": {},
   "outputs": [
    {
     "name": "stdout",
     "output_type": "stream",
     "text": [
      "count    36.000000\n",
      "mean      1.111961\n",
      "std       0.512332\n",
      "min       0.539449\n",
      "25%       0.741549\n",
      "50%       0.957538\n",
      "75%       1.291523\n",
      "max       2.598708\n",
      "Name: theta_e_auger, dtype: float64 count    36.000000\n",
      "mean      1.235352\n",
      "std       0.510513\n",
      "min       0.655049\n",
      "25%       0.857438\n",
      "50%       1.088444\n",
      "75%       1.430692\n",
      "max       2.633636\n",
      "Name: theta_e, dtype: float64 7\n"
     ]
    }
   ],
   "source": [
    "print(zoo.theta_e_auger.describe(),\n",
    "     zoo.theta_e.describe(),\n",
    "      len(zoo[zoo.theta_e_auger < 0.65]))"
   ]
  },
  {
   "cell_type": "code",
   "execution_count": 30,
   "metadata": {},
   "outputs": [
    {
     "name": "stderr",
     "output_type": "stream",
     "text": [
      "/home/shawn/miniconda3/envs/astroconda/lib/python3.6/site-packages/numpy/lib/histograms.py:839: RuntimeWarning: invalid value encountered in greater_equal\n",
      "  keep = (tmp_a >= first_edge)\n",
      "/home/shawn/miniconda3/envs/astroconda/lib/python3.6/site-packages/numpy/lib/histograms.py:840: RuntimeWarning: invalid value encountered in less_equal\n",
      "  keep &= (tmp_a <= last_edge)\n",
      "/home/shawn/miniconda3/envs/astroconda/lib/python3.6/site-packages/numpy/lib/histograms.py:839: RuntimeWarning: invalid value encountered in greater_equal\n",
      "  keep = (tmp_a >= first_edge)\n",
      "/home/shawn/miniconda3/envs/astroconda/lib/python3.6/site-packages/numpy/lib/histograms.py:840: RuntimeWarning: invalid value encountered in less_equal\n",
      "  keep &= (tmp_a <= last_edge)\n"
     ]
    },
    {
     "data": {
      "image/png": "[encoded data removed]",
      "text/plain": [
       "<Figure size 432x288 with 1 Axes>"
      ]
     },
     "metadata": {
      "needs_background": "light"
     },
     "output_type": "display_data"
    }
   ],
   "source": [
    "# Histogram of Einstein Radii\n",
    "plt.xlabel(\"Einstein Radius (arcsec)\")\n",
    "plt.ylabel(\"Count\")\n",
    "plt.title(\"Einstein Radii\")\n",
    "plt.hist(zoo.theta_e_auger,bins=10,color='y',label='GZ', histtype = 'step', linewidth=3)\n",
    "plt.hist(spec.theta_e_auger,bins=10,color='b',label='Spec', histtype = 'step', linewidth=3)\n",
    "plt.hist(mac.theta_e_auger,bins=10,color='g',label='Mac', histtype = 'step', linewidth=3)\n",
    "#plt.hist(spec_121519.theta_e_chabrier,bins=10,color='b',label='GAMA', histtype = 'step', linewidth=3)\n",
    "plt.legend(loc='upper right')\n",
    "plt.axvline(0.65, color='k', linestyle='dashed', linewidth=1)\n",
    "plt.axvline(1.3, color='k', linestyle='dashed', linewidth=1)\n",
    "plt.axvline(1.95, color='k', linestyle='dashed', linewidth=1)\n",
    "plt.axvline(0.1, color='k', linestyle='solid', linewidth=1)\n",
    "#plt.axvline(1, color='g', linestyle='dashed', linewidth=1)\n",
    "plt.text(0.7, 11, '1 PSF')\n",
    "plt.text(1.35, 11, '2 PSF')\n",
    "plt.text(2, 11, '3 PSF')\n",
    "#plt.text(1.05, 12, 'GAMA aperture', color='b', fontsize=8)\n",
    "#plt.text(1.05, 13, 'minimum from training set Petrillo-2019', color = 'g', fontsize=8)\n",
    "#plt.savefig('/home/shawn/Desktop/gravitational_lensing_research/Lens_Project_Visuals/PNGs/allmethods_theta_e.png')\n",
    "plt.hist(zoo.theta_e,bins=10,color='y',label='GZ', histtype = 'step', linewidth=3, alpha = 0.2)\n",
    "plt.hist(spec.theta_e2,bins=10,color='b',label='Spec', histtype = 'step', linewidth=3,  alpha = 0.2)\n",
    "plt.hist(mac.theta_e,bins=10,color='g',label='Mac', histtype = 'step', linewidth=3,  alpha = 0.2)\n",
    "\n",
    "plt.savefig('/home/shawn/Desktop/gravitational_lensing_research/Lens_Project_Visuals/PNGs/revised_theta_e_060320.png')"
   ]
  },
  {
   "cell_type": "markdown",
   "metadata": {},
   "source": [
    "## Same calculations taking 32% of stellar mass to be what contributes to lensing."
   ]
  },
  {
   "cell_type": "code",
   "execution_count": 156,
   "metadata": {},
   "outputs": [],
   "source": [
    "M = 0.32*spec.STELLAR_MASS/(1 - spec.f_dm) \n",
    "Z1 = spec.z1\n",
    "Z2 = spec.z2\n",
    "\n",
    "# mass term\n",
    "A = (M/(10**11.09))**(1/2)\n",
    "# distances term, h0*1000 gives km/Gpc*s\n",
    "# if Zsource = 2*Zlens... Zsource*Zlens/(Zsource-Zlens) becomes 2*Zlens\n",
    "B = ((c/(h0*1000))*((Z1 * Z2 / abs(Z1 - Z2))))**(-1.2)#(2*Z))**(-1/2)\n",
    "spec['theta_e_auger'] = A*B #gives arcsecs"
   ]
  },
  {
   "cell_type": "code",
   "execution_count": 157,
   "metadata": {},
   "outputs": [
    {
     "name": "stdout",
     "output_type": "stream",
     "text": [
      "count    31.000000\n",
      "mean      0.275232\n",
      "std       0.174322\n",
      "min       0.078602\n",
      "25%       0.171994\n",
      "50%       0.227889\n",
      "75%       0.357746\n",
      "max       0.890748\n",
      "Name: theta_e_auger, dtype: float64 count    31.000000\n",
      "mean      0.552863\n",
      "std       0.349082\n",
      "min       0.141461\n",
      "25%       0.321726\n",
      "50%       0.469898\n",
      "75%       0.676612\n",
      "max       1.674666\n",
      "Name: theta_e2, dtype: float64\n"
     ]
    }
   ],
   "source": [
    "print(spec.theta_e_auger.describe(),\n",
    "     spec.theta_e2.describe())\n",
    "# small differences worth checking out, but they're still close. This is better."
   ]
  },
  {
   "cell_type": "code",
   "execution_count": 158,
   "metadata": {},
   "outputs": [],
   "source": [
    "# estimate einstein radius\n",
    "M = 0.32*mac.STELLAR_MASS / (1 - mac.f_dm) \n",
    "Z = mac.Z\n",
    "#Z2 = spec.z2\n",
    "\n",
    "# mass term\n",
    "A = (M/(10**11.09))**(1/2)\n",
    "# distances term, h0*1000 gives km/Gpc*s\n",
    "# if Zsource = 2*Zlens... Zsource*Zlens/(Zsource-Zlens) becomes 2*Zlens\n",
    "B = ((c/(h0*1000))*(2*Z))**(-1/2)\n",
    "mac['theta_e_auger'] = A*B #gives arcsecs"
   ]
  },
  {
   "cell_type": "code",
   "execution_count": 159,
   "metadata": {},
   "outputs": [
    {
     "name": "stdout",
     "output_type": "stream",
     "text": [
      "count    47.000000\n",
      "mean      0.775732\n",
      "std       0.190257\n",
      "min       0.465634\n",
      "25%       0.634053\n",
      "50%       0.775058\n",
      "75%       0.888210\n",
      "max       1.470051\n",
      "Name: theta_e_auger, dtype: float64 count    47.000000\n",
      "mean      1.408854\n",
      "std       0.314145\n",
      "min       0.907575\n",
      "25%       1.185279\n",
      "50%       1.387197\n",
      "75%       1.560006\n",
      "max       2.633636\n",
      "Name: theta_e, dtype: float64\n"
     ]
    }
   ],
   "source": [
    "print(mac.theta_e_auger.describe(),\n",
    "     mac.theta_e.describe())"
   ]
  },
  {
   "cell_type": "code",
   "execution_count": 160,
   "metadata": {},
   "outputs": [],
   "source": [
    "# estimate einstein radius\n",
    "M = 0.32*zoo.STELLAR_MASS/(1 - zoo.f_dm) \n",
    "Z = zoo.Z\n",
    "#Z2 = spec.z2\n",
    "\n",
    "# mass term\n",
    "A = (M/(10**11.09))**(1/2)\n",
    "# distances term, h0*1000 gives km/Gpc*s\n",
    "# if Zsource = 2*Zlens... Zsource*Zlens/(Zsource-Zlens) becomes 2*Zlens\n",
    "B = ((c/(h0*1000))*(2*Z))**(-1/2)\n",
    "zoo['theta_e_auger'] = A*B #gives arcsecs"
   ]
  },
  {
   "cell_type": "code",
   "execution_count": 161,
   "metadata": {},
   "outputs": [
    {
     "name": "stdout",
     "output_type": "stream",
     "text": [
      "count    36.000000\n",
      "mean      0.629020\n",
      "std       0.289819\n",
      "min       0.305159\n",
      "25%       0.419484\n",
      "50%       0.541665\n",
      "75%       0.730596\n",
      "max       1.470051\n",
      "Name: theta_e_auger, dtype: float64 count    36.000000\n",
      "mean      1.235352\n",
      "std       0.510513\n",
      "min       0.655049\n",
      "25%       0.857438\n",
      "50%       1.088444\n",
      "75%       1.430692\n",
      "max       2.633636\n",
      "Name: theta_e, dtype: float64\n"
     ]
    }
   ],
   "source": [
    "print(zoo.theta_e_auger.describe(),\n",
    "     zoo.theta_e.describe())"
   ]
  },
  {
   "cell_type": "code",
   "execution_count": 162,
   "metadata": {},
   "outputs": [
    {
     "name": "stderr",
     "output_type": "stream",
     "text": [
      "/home/shawn/miniconda3/envs/astroconda/lib/python3.6/site-packages/numpy/lib/histograms.py:839: RuntimeWarning: invalid value encountered in greater_equal\n",
      "  keep = (tmp_a >= first_edge)\n",
      "/home/shawn/miniconda3/envs/astroconda/lib/python3.6/site-packages/numpy/lib/histograms.py:840: RuntimeWarning: invalid value encountered in less_equal\n",
      "  keep &= (tmp_a <= last_edge)\n",
      "/home/shawn/miniconda3/envs/astroconda/lib/python3.6/site-packages/numpy/lib/histograms.py:839: RuntimeWarning: invalid value encountered in greater_equal\n",
      "  keep = (tmp_a >= first_edge)\n",
      "/home/shawn/miniconda3/envs/astroconda/lib/python3.6/site-packages/numpy/lib/histograms.py:840: RuntimeWarning: invalid value encountered in less_equal\n",
      "  keep &= (tmp_a <= last_edge)\n"
     ]
    },
    {
     "data": {
      "text/plain": [
       "(array([ 7.,  9.,  8., 13.,  6.,  3.,  0.,  0.,  0.,  1.]),\n",
       " array([0.90757458, 1.08018069, 1.2527868 , 1.42539291, 1.59799901,\n",
       "        1.77060512, 1.94321123, 2.11581734, 2.28842344, 2.46102955,\n",
       "        2.63363566]),\n",
       " <a list of 1 Patch objects>)"
      ]
     },
     "execution_count": 162,
     "metadata": {},
     "output_type": "execute_result"
    },
    {
     "data": {
      "image/png": "[encoded data removed]",
      "text/plain": [
       "<Figure size 432x288 with 1 Axes>"
      ]
     },
     "metadata": {
      "needs_background": "light"
     },
     "output_type": "display_data"
    }
   ],
   "source": [
    "# Histogram of Einstein Radii\n",
    "plt.xlabel(\"Einstein Radius (arcsec)\")\n",
    "plt.ylabel(\"Count\")\n",
    "plt.title(\"Einstein Radii\")\n",
    "plt.hist(zoo.theta_e_auger,bins=10,color='y',label='GZ', histtype = 'step', linewidth=3)\n",
    "plt.hist(spec.theta_e_auger,bins=10,color='b',label='Spec', histtype = 'step', linewidth=3)\n",
    "plt.hist(mac.theta_e_auger,bins=10,color='g',label='Mac', histtype = 'step', linewidth=3)\n",
    "#plt.hist(spec_121519.theta_e_chabrier,bins=10,color='b',label='GAMA', histtype = 'step', linewidth=3)\n",
    "plt.legend(loc='upper right')\n",
    "plt.axvline(0.65, color='k', linestyle='dashed', linewidth=1)\n",
    "plt.axvline(1.3, color='k', linestyle='dashed', linewidth=1)\n",
    "plt.axvline(1.95, color='k', linestyle='dashed', linewidth=1)\n",
    "plt.axvline(0.1, color='k', linestyle='solid', linewidth=1)\n",
    "#plt.axvline(1, color='g', linestyle='dashed', linewidth=1)\n",
    "plt.text(0.7, 11, '1 PSF')\n",
    "plt.text(1.35, 11, '2 PSF')\n",
    "plt.text(2, 11, '3 PSF')\n",
    "#plt.text(1.05, 12, 'GAMA aperture', color='b', fontsize=8)\n",
    "#plt.text(1.05, 13, 'minimum from training set Petrillo-2019', color = 'g', fontsize=8)\n",
    "#plt.savefig('/home/shawn/Desktop/gravitational_lensing_research/Lens_Project_Visuals/PNGs/allmethods_theta_e.png')\n",
    "plt.hist(zoo.theta_e,bins=10,color='y',label='GZ', histtype = 'step', linewidth=3, alpha = 0.2)\n",
    "plt.hist(spec.theta_e2,bins=10,color='b',label='Spec', histtype = 'step', linewidth=3,  alpha = 0.2)\n",
    "plt.hist(mac.theta_e,bins=10,color='g',label='Mac', histtype = 'step', linewidth=3,  alpha = 0.2)\n",
    "\n",
    "#plt.savefig('/home/shawn/Desktop/gravitational_lensing_research/Lens_Project_Visuals/PNGs/revised_theta_e_060320.png')"
   ]
  },
  {
   "cell_type": "code",
   "execution_count": null,
   "metadata": {},
   "outputs": [],
   "source": []
  }
 ],
 "metadata": {
  "kernelspec": {
   "display_name": "Python 3",
   "language": "python",
   "name": "python3"
  },
  "language_info": {
   "codemirror_mode": {
    "name": "ipython",
    "version": 3
   },
   "file_extension": ".py",
   "mimetype": "text/x-python",
   "name": "python",
   "nbconvert_exporter": "python",
   "pygments_lexer": "ipython3",
   "version": "3.6.10"
  }
 },
 "nbformat": 4,
 "nbformat_minor": 4
}
