{
 "cells": [
  {
   "cell_type": "markdown",
   "metadata": {},
   "source": [
    "# This notebook creates a table for the GalaxyZoo candidates for the Knabel20 Paper."
   ]
  },
  {
   "cell_type": "code",
   "execution_count": 3,
   "metadata": {},
   "outputs": [],
   "source": [
    "%matplotlib inline\n",
    "import matplotlib.pyplot as plt\n",
    "import numpy as np\n",
    "from numpy.polynomial.polynomial import polyfit\n",
    "import pandas as pd\n",
    "#from matplotlib_venn import venn3, venn3_circles\n",
    "import matplotlib.lines as lines\n",
    "from astropy import constants as const\n",
    "from astropy.io import fits\n",
    "import astropy.coordinates as coord\n",
    "import astropy.units as u\n",
    "from astropy.table import Table\n",
    "# import ephem\n",
    "from astropy.cosmology import FlatLambdaCDM"
   ]
  },
  {
   "cell_type": "code",
   "execution_count": 4,
   "metadata": {},
   "outputs": [],
   "source": [
    "# Read in latest zoo cut and original zoo hard cut.\n",
    "zoo = pd.read_csv(\n",
    "    '/home/shawn/Desktop/gravitational_lensing_research/Lens_Project_Files/zoo_latest.csv')\n"
   ]
  },
  {
   "cell_type": "code",
   "execution_count": 13,
   "metadata": {},
   "outputs": [],
   "source": [
    "# save to new candidate selection\n",
    "#zoo.to_csv('/home/shawn/Desktop/gravitational_lensing_research/Lens_Project_Files/zoo_candidates_032020.csv')"
   ]
  },
  {
   "cell_type": "code",
   "execution_count": 6,
   "metadata": {},
   "outputs": [
    {
     "data": {
      "text/plain": [
       "0     11.043426\n",
       "1     11.056287\n",
       "2     11.350592\n",
       "3     10.978367\n",
       "4     11.192692\n",
       "5     11.169208\n",
       "6     11.554501\n",
       "7     10.989346\n",
       "8     11.663817\n",
       "9     10.758240\n",
       "10    11.045467\n",
       "11    11.063084\n",
       "12    10.787631\n",
       "Name: lambdar_log_mstar, dtype: float64"
      ]
     },
     "execution_count": 6,
     "metadata": {},
     "output_type": "execute_result"
    }
   ],
   "source": [
    "zoo.lambdar_log_mstar"
   ]
  },
  {
   "cell_type": "code",
   "execution_count": null,
   "metadata": {},
   "outputs": [],
   "source": []
  }
 ],
 "metadata": {
  "kernelspec": {
   "display_name": "Python 3",
   "language": "python",
   "name": "python3"
  },
  "language_info": {
   "codemirror_mode": {
    "name": "ipython",
    "version": 3
   },
   "file_extension": ".py",
   "mimetype": "text/x-python",
   "name": "python",
   "nbconvert_exporter": "python",
   "pygments_lexer": "ipython3",
   "version": "3.6.10"
  }
 },
 "nbformat": 4,
 "nbformat_minor": 2
}
