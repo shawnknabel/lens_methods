{
 "cells": [
  {
   "cell_type": "markdown",
   "metadata": {},
   "source": [
    "# This notebook shows revised candidate selection for GalaxyZoo to include features from the original cut in addition to the 30% score threshold and Einstein radius greater than 1 PSF. This is done by comparing to original zoo hard cut."
   ]
  },
  {
   "cell_type": "code",
   "execution_count": 2,
   "metadata": {},
   "outputs": [],
   "source": [
    "%matplotlib inline\n",
    "import matplotlib.pyplot as plt\n",
    "import numpy as np\n",
    "from numpy.polynomial.polynomial import polyfit\n",
    "import pandas as pd\n",
    "from matplotlib_venn import venn3, venn3_circles\n",
    "import matplotlib.lines as lines\n",
    "from astropy import constants as const\n",
    "from astropy.io import fits\n",
    "import astropy.coordinates as coord\n",
    "import astropy.units as u\n",
    "from astropy.table import Table\n",
    "# import ephem\n",
    "from astropy.cosmology import FlatLambdaCDM"
   ]
  },
  {
   "cell_type": "code",
   "execution_count": 8,
   "metadata": {},
   "outputs": [],
   "source": [
    "# Read in latest zoo cut and original zoo hard cut.\n",
    "zoo = pd.read_csv(\n",
    "    '/home/shawn/Desktop/gravitational_lensing_research/Lens_Project_Files/zoo_candidates_022120.csv')\n",
    "zoo_original_cut = pd.read_csv(\n",
    "    '/home/shawn/Desktop/gravitational_lensing_research/Lens_Project_Files/zoo_hard_cut.csv')"
   ]
  },
  {
   "cell_type": "code",
   "execution_count": 9,
   "metadata": {},
   "outputs": [
    {
     "data": {
      "text/html": [
       "<div>\n",
       "<style scoped>\n",
       "    .dataframe tbody tr th:only-of-type {\n",
       "        vertical-align: middle;\n",
       "    }\n",
       "\n",
       "    .dataframe tbody tr th {\n",
       "        vertical-align: top;\n",
       "    }\n",
       "\n",
       "    .dataframe thead th {\n",
       "        text-align: right;\n",
       "    }\n",
       "</style>\n",
       "<table border=\"1\" class=\"dataframe\">\n",
       "  <thead>\n",
       "    <tr style=\"text-align: right;\">\n",
       "      <th></th>\n",
       "      <th>Unnamed: 0</th>\n",
       "      <th>GAMA_ID</th>\n",
       "      <th>RA</th>\n",
       "      <th>DEC</th>\n",
       "      <th>LENS_SCORE</th>\n",
       "      <th>STELLAR_MASS</th>\n",
       "      <th>Z</th>\n",
       "      <th>TOTAL_MASS</th>\n",
       "      <th>theta_e</th>\n",
       "    </tr>\n",
       "  </thead>\n",
       "  <tbody>\n",
       "    <tr>\n",
       "      <th>1</th>\n",
       "      <td>322</td>\n",
       "      <td>511865</td>\n",
       "      <td>216.31907</td>\n",
       "      <td>-1.13127</td>\n",
       "      <td>0.315974</td>\n",
       "      <td>2.066000e+10</td>\n",
       "      <td>0.0845</td>\n",
       "      <td>5.297436e+10</td>\n",
       "      <td>0.791967</td>\n",
       "    </tr>\n",
       "    <tr>\n",
       "      <th>3</th>\n",
       "      <td>605</td>\n",
       "      <td>505441</td>\n",
       "      <td>219.86678</td>\n",
       "      <td>-1.91433</td>\n",
       "      <td>0.300620</td>\n",
       "      <td>1.733000e+11</td>\n",
       "      <td>0.1335</td>\n",
       "      <td>4.443590e+11</td>\n",
       "      <td>1.824858</td>\n",
       "    </tr>\n",
       "    <tr>\n",
       "      <th>9</th>\n",
       "      <td>3071</td>\n",
       "      <td>271537</td>\n",
       "      <td>174.59803</td>\n",
       "      <td>1.35433</td>\n",
       "      <td>0.306734</td>\n",
       "      <td>5.822000e+10</td>\n",
       "      <td>0.1117</td>\n",
       "      <td>1.492820e+11</td>\n",
       "      <td>1.156325</td>\n",
       "    </tr>\n",
       "    <tr>\n",
       "      <th>21</th>\n",
       "      <td>10908</td>\n",
       "      <td>49252</td>\n",
       "      <td>220.38711</td>\n",
       "      <td>-0.71215</td>\n",
       "      <td>0.316247</td>\n",
       "      <td>7.752000e+10</td>\n",
       "      <td>0.1475</td>\n",
       "      <td>1.987692e+11</td>\n",
       "      <td>1.161132</td>\n",
       "    </tr>\n",
       "    <tr>\n",
       "      <th>30</th>\n",
       "      <td>14556</td>\n",
       "      <td>522103</td>\n",
       "      <td>132.47988</td>\n",
       "      <td>2.89815</td>\n",
       "      <td>0.338036</td>\n",
       "      <td>5.891000e+10</td>\n",
       "      <td>0.0603</td>\n",
       "      <td>1.510513e+11</td>\n",
       "      <td>1.583093</td>\n",
       "    </tr>\n",
       "    <tr>\n",
       "      <th>41</th>\n",
       "      <td>27307</td>\n",
       "      <td>492150</td>\n",
       "      <td>215.09129</td>\n",
       "      <td>-1.47211</td>\n",
       "      <td>0.331169</td>\n",
       "      <td>5.618000e+10</td>\n",
       "      <td>0.1380</td>\n",
       "      <td>1.440513e+11</td>\n",
       "      <td>1.021932</td>\n",
       "    </tr>\n",
       "  </tbody>\n",
       "</table>\n",
       "</div>"
      ],
      "text/plain": [
       "    Unnamed: 0  GAMA_ID         RA      DEC  LENS_SCORE  STELLAR_MASS       Z  \\\n",
       "1          322   511865  216.31907 -1.13127    0.315974  2.066000e+10  0.0845   \n",
       "3          605   505441  219.86678 -1.91433    0.300620  1.733000e+11  0.1335   \n",
       "9         3071   271537  174.59803  1.35433    0.306734  5.822000e+10  0.1117   \n",
       "21       10908    49252  220.38711 -0.71215    0.316247  7.752000e+10  0.1475   \n",
       "30       14556   522103  132.47988  2.89815    0.338036  5.891000e+10  0.0603   \n",
       "41       27307   492150  215.09129 -1.47211    0.331169  5.618000e+10  0.1380   \n",
       "\n",
       "      TOTAL_MASS   theta_e  \n",
       "1   5.297436e+10  0.791967  \n",
       "3   4.443590e+11  1.824858  \n",
       "9   1.492820e+11  1.156325  \n",
       "21  1.987692e+11  1.161132  \n",
       "30  1.510513e+11  1.583093  \n",
       "41  1.440513e+11  1.021932  "
      ]
     },
     "execution_count": 9,
     "metadata": {},
     "output_type": "execute_result"
    }
   ],
   "source": [
    "# merge zoo and zoo_original_cut to see how many are lost\n",
    "zoo[~zoo.GAMA_ID.isin(zoo_original_cut.GAMA_ID)]"
   ]
  },
  {
   "cell_type": "code",
   "execution_count": 10,
   "metadata": {},
   "outputs": [],
   "source": [
    "# remove six from zoo that were not in zoo_original_cut\n",
    "zoo = zoo[zoo.GAMA_ID.isin(zoo_original_cut.GAMA_ID)]"
   ]
  },
  {
   "cell_type": "code",
   "execution_count": 12,
   "metadata": {},
   "outputs": [
    {
     "data": {
      "text/plain": [
       "36"
      ]
     },
     "execution_count": 12,
     "metadata": {},
     "output_type": "execute_result"
    }
   ],
   "source": [
    "# zoo now has 36 candidates\n",
    "len(zoo)"
   ]
  },
  {
   "cell_type": "code",
   "execution_count": 13,
   "metadata": {},
   "outputs": [],
   "source": [
    "# save to new candidate selection\n",
    "#zoo.to_csv('/home/shawn/Desktop/gravitational_lensing_research/Lens_Project_Files/zoo_candidates_032020.csv')"
   ]
  },
  {
   "cell_type": "code",
   "execution_count": null,
   "metadata": {},
   "outputs": [],
   "source": []
  }
 ],
 "metadata": {
  "kernelspec": {
   "display_name": "Python 3",
   "language": "python",
   "name": "python3"
  },
  "language_info": {
   "codemirror_mode": {
    "name": "ipython",
    "version": 3
   },
   "file_extension": ".py",
   "mimetype": "text/x-python",
   "name": "python",
   "nbconvert_exporter": "python",
   "pygments_lexer": "ipython3",
   "version": "3.6.10"
  }
 },
 "nbformat": 4,
 "nbformat_minor": 2
}
