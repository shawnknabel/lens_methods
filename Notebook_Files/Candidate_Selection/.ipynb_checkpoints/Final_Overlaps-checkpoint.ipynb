{
 "cells": [
  {
   "cell_type": "markdown",
   "metadata": {},
   "source": [
    "# This notebook is a final look at overlap between the three methods."
   ]
  },
  {
   "cell_type": "code",
   "execution_count": 1,
   "metadata": {},
   "outputs": [],
   "source": [
    "%matplotlib inline\n",
    "import matplotlib.pyplot as plt\n",
    "import numpy as np\n",
    "from numpy.polynomial.polynomial import polyfit\n",
    "import pandas as pd\n",
    "from matplotlib_venn import venn3, venn3_circles\n",
    "import matplotlib.lines as lines\n",
    "from astropy import constants as const\n",
    "from astropy.io import fits\n",
    "import astropy.coordinates as coord\n",
    "import astropy.units as u\n",
    "from astropy.table import Table\n",
    "# import ephem\n",
    "from astropy.cosmology import FlatLambdaCDM"
   ]
  },
  {
   "cell_type": "code",
   "execution_count": 3,
   "metadata": {},
   "outputs": [
    {
     "name": "stdout",
     "output_type": "stream",
     "text": [
      "47 47 36\n"
     ]
    }
   ],
   "source": [
    "# load three most recent samples\n",
    "zoo = pd.read_csv('/home/shawn/Desktop/gravitational_lensing_research/Lens_Project_Files/zoo_candidates_032020.csv')\n",
    "spec = pd.read_csv('/home/shawn/Desktop/gravitational_lensing_research/Lens_Project_Files/spec_041220.csv')\n",
    "mac = pd.read_csv('/home/shawn/Desktop/gravitational_lensing_research/Lens_Project_Files/mac_candidates_021820.csv')\n",
    "print(len(spec), len(mac), len(zoo))"
   ]
  },
  {
   "cell_type": "code",
   "execution_count": 4,
   "metadata": {},
   "outputs": [
    {
     "name": "stdout",
     "output_type": "stream",
     "text": [
      "Empty DataFrame\n",
      "Columns: [Unnamed: 0_x, Unnamed: 0.1, RA_x, DEC_x, z1, z2, spec_type, GAMA_ID, STELLAR_MASS_x, max_total_mass, theta_e_x, Z_x, max_stellar_mass_salpeter, max_stellar_mass_chabrier, Dz, theta_e2, z_lens, Unnamed: 0_y, ID, RA_y, DEC_y, SCORE, STELLAR_MASS_y, Z_y, theta_e_y]\n",
      "Index: []\n",
      "\n",
      "[0 rows x 25 columns] Empty DataFrame\n",
      "Columns: [Unnamed: 0_x, Unnamed: 0.1_x, RA_x, DEC_x, z1, z2, spec_type, GAMA_ID, STELLAR_MASS_x, max_total_mass, theta_e_x, Z_x, max_stellar_mass_salpeter, max_stellar_mass_chabrier, Dz, theta_e2, z_lens, Unnamed: 0_y, Unnamed: 0.1_y, RA_y, DEC_y, LENS_SCORE, STELLAR_MASS_y, Z_y, TOTAL_MASS, theta_e_y]\n",
      "Index: []\n",
      "\n",
      "[0 rows x 26 columns]    Unnamed: 0_x   GAMA_ID      ID       RA_x    DEC_x  SCORE  STELLAR_MASS_x  \\\n",
      "0            24  124486.0  2553.0  179.73003 -2.51895   28.0    8.541000e+10   \n",
      "1            32  136604.0  1642.0  175.87355 -1.74164   58.0    2.866000e+11   \n",
      "\n",
      "      Z_x  theta_e_x  Unnamed: 0_y  Unnamed: 0.1       RA_y    DEC_y  \\\n",
      "0  0.1435   0.740108            13          5772  179.72998 -2.51919   \n",
      "1  0.1060   1.811693            22         11076  175.87349 -1.74167   \n",
      "\n",
      "   LENS_SCORE  STELLAR_MASS_y     Z_y    TOTAL_MASS  theta_e_y  \n",
      "0    0.426190    8.541000e+10  0.1435  2.190000e+11   1.235660  \n",
      "1    0.316451    2.866000e+11  0.1060  7.348718e+11   2.633636  \n"
     ]
    }
   ],
   "source": [
    "# overlaps\n",
    "print(pd.merge(spec, mac, on = 'GAMA_ID'),\n",
    "     pd.merge(spec, zoo, on = 'GAMA_ID'),\n",
    "     pd.merge(mac, zoo, on = 'GAMA_ID'))"
   ]
  },
  {
   "cell_type": "markdown",
   "metadata": {},
   "source": [
    "Mac and Zoo still have two overlaps:\n",
    "124486\n",
    "136604"
   ]
  },
  {
   "cell_type": "code",
   "execution_count": null,
   "metadata": {},
   "outputs": [],
   "source": []
  }
 ],
 "metadata": {
  "kernelspec": {
   "display_name": "Python 3",
   "language": "python",
   "name": "python3"
  },
  "language_info": {
   "codemirror_mode": {
    "name": "ipython",
    "version": 3
   },
   "file_extension": ".py",
   "mimetype": "text/x-python",
   "name": "python",
   "nbconvert_exporter": "python",
   "pygments_lexer": "ipython3",
   "version": "3.7.5"
  }
 },
 "nbformat": 4,
 "nbformat_minor": 2
}
