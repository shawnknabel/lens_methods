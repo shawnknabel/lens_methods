{
 "cells": [
  {
   "cell_type": "markdown",
   "metadata": {},
   "source": [
    "# 06/12/20 - This notebook explores the estimation of velocity dispersion of candidates as a funciton of stellar mass, with a fit taken from Zihad(2016), where:\n",
    "# ---\n",
    "# $\\sigma(M_*) = \\sigma_b * (M_* / M_b)^{\\alpha}$\n",
    "#\n",
    "## For z < 0.2: (SDSS fit)\n",
    "### $\\sigma = 10^{2.073} (M_*/ 10^{10.26} M_{\\odot})^{\\alpha}$\n",
    "### where $\\alpha = 0.403$ if $M_* <= 10^{10.26}$, or $\\alpha = 0.293$ otherwise\n",
    "## For z > 0.2: (SHELS fit)\n",
    "### $\\sigma = 10^{2.071} (M_* / 10^{10.26} M_{\\odot})^{0.281}$"
   ]
  },
  {
   "cell_type": "code",
   "execution_count": 6,
   "metadata": {},
   "outputs": [],
   "source": [
    "#libraries\n",
    "\n",
    "%matplotlib inline\n",
    "import matplotlib.pyplot as plt\n",
    "#from matplotlib import colors as colors\n",
    "#import matplotlib.text as text\n",
    "#import matplotlib.lines as lines\n",
    "import numpy as np\n",
    "#from numpy.polynomial.polynomial import polyfit\n",
    "import pandas as pd\n",
    "#from matplotlib_venn import venn3, venn3_circles\n",
    "import matplotlib.lines as lines\n",
    "from astropy import constants as const\n",
    "#from astropy.io import fits\n",
    "#import astropy.coordinates as coord\n",
    "import astropy.units as u\n",
    "#from astropy.table import Table\n",
    "# import ephem\n",
    "from astropy.cosmology import FlatLambdaCDM, z_at_value\n",
    "\n",
    "c = const.c.to('km/s').value #c in km/s\n",
    "h0 = 73.8 #h0 in km/(Mpc*s) Riess2011\n",
    "cosmo = FlatLambdaCDM(h0, Om0=0.262)"
   ]
  },
  {
   "cell_type": "code",
   "execution_count": 7,
   "metadata": {},
   "outputs": [
    {
     "name": "stdout",
     "output_type": "stream",
     "text": [
      "0.6451677004521008\n"
     ]
    },
    {
     "data": {
      "text/plain": [
       "0.4194849115504682"
      ]
     },
     "execution_count": 7,
     "metadata": {},
     "output_type": "execute_result"
    }
   ],
   "source": [
    "# sanity check... slacs candidate 1525(etc.) has vel disp 150 km/s. theta_e 1.31\n",
    "# zlens = 0.15, source 0.73\n",
    "Dlens=cosmo.angular_diameter_distance(0.15).value\n",
    "Dsource=cosmo.angular_diameter_distance(0.73).value\n",
    "print(1-Dlens/Dsource)\n",
    "theta_e = (150/186)**2 * (0.645)\n",
    "theta_e # 0.419... slacs calculated 1.31!"
   ]
  },
  {
   "cell_type": "code",
   "execution_count": 8,
   "metadata": {},
   "outputs": [],
   "source": [
    "# try this again???\n",
    "\n",
    "# create velocity disperions estimator\n",
    "def calculate_sigma (z, mass):\n",
    "    mb = 10**(10.26)\n",
    "    if z < 0.2: # SDSS fit\n",
    "        sigma_b = 10**(2.073)\n",
    "        if mass < mb:\n",
    "            alpha = 0.403\n",
    "        else:\n",
    "            alpha = 0.293\n",
    "        sigma = sigma_b * ( mass / mb ) ** (alpha)\n",
    "    elif (z >= 0.2) & (z < 0.7): # SHELS fit\n",
    "        sigma_b = 10**(2.071)\n",
    "        alpha = 0.281\n",
    "        sigma = sigma_b * ( mass / mb ) ** (alpha)\n",
    "    else:\n",
    "        print(f'Redshift out of range. {z}')\n",
    "        sigma = 0\n",
    "    return sigma\n",
    "            "
   ]
  },
  {
   "cell_type": "code",
   "execution_count": 48,
   "metadata": {},
   "outputs": [],
   "source": [
    "z1 = np.linspace(0.1, 0.65, 10)\n",
    "mass1 = 10**(np.linspace(9.5, 12, 10))\n",
    "z =[]\n",
    "mass = []\n",
    "def calculate_sigmas (z, mass):\n",
    "    sigmas = []\n",
    "    for i in range(len(z)):\n",
    "        sigma = calculate_sigma(z[i], mass[i])\n",
    "        sigmas.append(sigma)\n",
    "    return sigmas\n",
    "    #print(sigmas)"
   ]
  },
  {
   "cell_type": "code",
   "execution_count": 49,
   "metadata": {},
   "outputs": [
    {
     "data": {
      "text/plain": [
       "[58.441317755738595,\n",
       " 75.62483575513482,\n",
       " 103.16944900287172,\n",
       " 123.48285630320615,\n",
       " 147.79584410084237,\n",
       " 176.89590431763747,\n",
       " 211.7255810183932,\n",
       " 253.412999190093,\n",
       " 303.308404443293,\n",
       " 363.0278971479567]"
      ]
     },
     "execution_count": 49,
     "metadata": {},
     "output_type": "execute_result"
    }
   ],
   "source": [
    "calculate_sigmas(z1, mass1)\n",
    "#sigmas"
   ]
  },
  {
   "cell_type": "code",
   "execution_count": 50,
   "metadata": {},
   "outputs": [
    {
     "data": {
      "text/plain": [
       "137.54347738119625"
      ]
     },
     "execution_count": 50,
     "metadata": {},
     "output_type": "execute_result"
    }
   ],
   "source": [
    "calculate_sigma(0.3, 10**(10.5))"
   ]
  },
  {
   "cell_type": "code",
   "execution_count": 9,
   "metadata": {},
   "outputs": [],
   "source": [
    "# load in data\n",
    "\n",
    "spec = pd.read_csv('/home/shawn/Desktop/gravitational_lensing_research/Lens_Project_Files/spec_latest.csv')\n",
    "mac = pd.read_csv('/home/shawn/Desktop/gravitational_lensing_research/Lens_Project_Files/mac_latest.csv')\n",
    "zoo = pd.read_csv('/home/shawn/Desktop/gravitational_lensing_research/Lens_Project_Files/zoo_latest.csv')"
   ]
  },
  {
   "cell_type": "code",
   "execution_count": 52,
   "metadata": {},
   "outputs": [
    {
     "name": "stdout",
     "output_type": "stream",
     "text": [
      "Redshift out of range. 0.7215999960899353\n"
     ]
    }
   ],
   "source": [
    "spec['sigma'] = calculate_sigmas(z= spec.z_lens, mass = spec.STELLAR_MASS)\n",
    "mac['sigma'] = calculate_sigmas(z = mac.Z, mass = mac.STELLAR_MASS)\n",
    "zoo['sigma'] = calculate_sigmas(z = zoo.Z, mass = zoo.STELLAR_MASS)"
   ]
  },
  {
   "cell_type": "code",
   "execution_count": 53,
   "metadata": {},
   "outputs": [
    {
     "name": "stdout",
     "output_type": "stream",
     "text": [
      "160.95495785637405 236.54117815766205 172.69879274193764\n"
     ]
    }
   ],
   "source": [
    "print(spec.sigma.mean(),\n",
    "      mac[mac.sigma > 0].sigma.mean(),\n",
    "      zoo.sigma.mean())"
   ]
  },
  {
   "cell_type": "code",
   "execution_count": 54,
   "metadata": {},
   "outputs": [
    {
     "data": {
      "text/plain": [
       "0     265.717604\n",
       "1     259.648833\n",
       "2       0.000000\n",
       "3     250.962957\n",
       "4     235.048435\n",
       "5     263.772729\n",
       "6     271.386687\n",
       "7     207.321227\n",
       "8     222.092727\n",
       "9     231.634974\n",
       "10    252.369551\n",
       "11    204.536204\n",
       "12    243.522847\n",
       "13    229.186553\n",
       "14    279.291311\n",
       "15    276.440713\n",
       "16    268.777693\n",
       "17    239.144431\n",
       "18    131.946582\n",
       "19    179.814964\n",
       "20    236.525638\n",
       "21    214.797345\n",
       "22    189.400102\n",
       "23    275.803793\n",
       "24    186.102433\n",
       "25    224.567899\n",
       "26    211.408846\n",
       "27    244.205827\n",
       "28    267.359316\n",
       "29    215.922716\n",
       "30    188.050452\n",
       "31    206.677069\n",
       "32    265.339511\n",
       "33    274.872488\n",
       "34    200.260846\n",
       "35    262.704719\n",
       "36    227.347571\n",
       "37    196.967165\n",
       "38    222.056856\n",
       "39    235.389055\n",
       "40    306.795305\n",
       "41    257.190365\n",
       "42    286.362571\n",
       "43    281.268779\n",
       "44    289.190486\n",
       "45    174.261157\n",
       "46    227.448867\n",
       "Name: sigma, dtype: float64"
      ]
     },
     "execution_count": 54,
     "metadata": {},
     "output_type": "execute_result"
    }
   ],
   "source": [
    "mac.sigma"
   ]
  },
  {
   "cell_type": "code",
   "execution_count": 55,
   "metadata": {},
   "outputs": [
    {
     "name": "stderr",
     "output_type": "stream",
     "text": [
      "/home/shawn/miniconda3/envs/astroconda/lib/python3.6/site-packages/pandas/core/series.py:679: RuntimeWarning: divide by zero encountered in log10\n",
      "  result = getattr(ufunc, method)(*inputs, **kwargs)\n",
      "/home/shawn/miniconda3/envs/astroconda/lib/python3.6/site-packages/numpy/lib/histograms.py:839: RuntimeWarning: invalid value encountered in greater_equal\n",
      "  keep = (tmp_a >= first_edge)\n",
      "/home/shawn/miniconda3/envs/astroconda/lib/python3.6/site-packages/numpy/lib/histograms.py:840: RuntimeWarning: invalid value encountered in less_equal\n",
      "  keep &= (tmp_a <= last_edge)\n",
      "/home/shawn/miniconda3/envs/astroconda/lib/python3.6/site-packages/pandas/core/series.py:679: RuntimeWarning: divide by zero encountered in log10\n",
      "  result = getattr(ufunc, method)(*inputs, **kwargs)\n",
      "/home/shawn/miniconda3/envs/astroconda/lib/python3.6/site-packages/numpy/lib/histograms.py:839: RuntimeWarning: invalid value encountered in greater_equal\n",
      "  keep = (tmp_a >= first_edge)\n",
      "/home/shawn/miniconda3/envs/astroconda/lib/python3.6/site-packages/numpy/lib/histograms.py:840: RuntimeWarning: invalid value encountered in less_equal\n",
      "  keep &= (tmp_a <= last_edge)\n"
     ]
    },
    {
     "data": {
      "text/plain": [
       "(1.5, 2.5)"
      ]
     },
     "execution_count": 55,
     "metadata": {},
     "output_type": "execute_result"
    },
    {
     "data": {
      "image/png": "[encoded data removed]",
      "text/plain": [
       "<Figure size 576x576 with 3 Axes>"
      ]
     },
     "metadata": {
      "needs_background": "light"
     },
     "output_type": "display_data"
    }
   ],
   "source": [
    "# Three-panel plot\n",
    "from matplotlib.ticker import NullFormatter\n",
    "nullfmt   = NullFormatter()         # no labels\n",
    "# definitions for the axes\n",
    "left, width = 0.1, 0.65\n",
    "lower, height = 0.1, 0.65\n",
    "lower_h = left_h = left+width+0.02\n",
    "    \n",
    "rect_scatter = [left, lower, width, height]\n",
    "rect_histx = [left, lower_h, width, 0.2]\n",
    "rect_histy = [left_h, lower, 0.2, height]\n",
    "    \n",
    "    # start with a rectangular Figure\n",
    "plt.figure(1, figsize=(8,8))\n",
    "    \n",
    "axScatter = plt.axes(rect_scatter)\n",
    "axHistx = plt.axes(rect_histx)\n",
    "axHisty = plt.axes(rect_histy)\n",
    "    \n",
    "    # no labels\n",
    "axHistx.xaxis.set_major_formatter(nullfmt)\n",
    "axHisty.yaxis.set_major_formatter(nullfmt)\n",
    "\n",
    "# the scatter plots\n",
    "axScatter.set_xlim(8.65,12.15)\n",
    "axScatter.set_ylim(1.5,2.5)\n",
    "axScatter.plot(np.log10(spec.STELLAR_MASS), np.log10(spec.sigma), \n",
    "               'bo',label='GAMA Spectroscopy - 47 candidates', alpha = 0.85)\n",
    "#axScatter.plot(np.log10(3.6425e+10), 0.1968, 'b*',label='Median GAMA', ms = 20, fillstyle = 'none')\n",
    "#axScatter.plot(np.log10(spec.max_stellar_mass_salpeter), spec.z1, 'b^',label='GAMA Spec 2-arcsec Aperture Max Mass', fillstyle='none')\n",
    "axScatter.plot(np.log10(mac.STELLAR_MASS), np.log10(mac.sigma), \n",
    "               'go',label='LinKS Machine Learning - 47 candidates', alpha = 0.85)\n",
    "#axScatter.plot(np.log10(2.00e+11),0.19, 'g*',label='Median SLACS', ms = 20, fillstyle = 'none')\n",
    "axScatter.plot(np.log10(zoo.STELLAR_MASS), np.log10(zoo.sigma), \n",
    "               'yo',label='GalaxyZoo Citizen Science - 29 candidates', alpha = 0.85)\n",
    "#axScatter.plot(np.log10(9.662e+09),0.1076, 'y*',label='Median GalaxyZoo Population', ms=20, fillstyle = 'none')\n",
    "#axScatter.plot(np.log10(decals.STELLAR_MASS), decals.Z, 'rs',label='DECALS - 2 candidates', fillstyle = 'none')\n",
    "#axScatter.plot(np.log10(slacs.STELLAR_MASS), slacs.Z, 'cs',label='SLACS - 2 candidates', fillstyle = 'none')\n",
    "#axScatter.plot(np.log10(s4tm.STELLAR_MASS), s4tm.Z, 'ms',label='S4TM - 1 candidate', fillstyle = 'none')\n",
    "\n",
    "# plot two overlaps\n",
    "G136604 = mac[mac.GAMA_ID == 136604]\n",
    "G124486 = mac[mac.GAMA_ID == 124486]\n",
    "axScatter.plot(np.log10(G136604.STELLAR_MASS), G136604.sigma, 'ks', label='Overlap ML/GZ - G136604', fillstyle = 'none')\n",
    "axScatter.plot(np.log10(G124486.STELLAR_MASS), G124486.sigma, 'kD', label='Overlap ML/GZ - G124486', fillstyle = 'none')\n",
    "\n",
    "#axScatter.plot(9.5,0.4, 'ko')\n",
    "axScatter.errorbar(11.0, 2.0,  \n",
    "                   xerr= 0.09,\n",
    "                  fmt = 'o',\n",
    "                   color = 'black',\n",
    "                   solid_capstyle = 'round',\n",
    "                  label = 'Stellar Mass Mean Error ~ 0.09 dex')\n",
    "\n",
    "#axScatter.legend(loc='best', numpoints=1, fontsize = 12)\n",
    "    \n",
    "    \n",
    "# now determine nice limits by hand:\n",
    "binwidth = 0.5\n",
    "bins=20\n",
    "#xbins = np.arange(min(zoo_hard_cut.STELLAR_MASS),max(zoo_hard_cut.STELLAR_MASS), (max(zoo_hard_cut.STELLAR_MASS)-min(zoo_hard_cut.STELLAR_MASS))/bins)\n",
    "#ybins = np.arange(min(zoo_hard_cut.Z),max(zoo_hard_cut.Z), (max(zoo_hard_cut.Z)-min(zoo_hard_cut.Z))/bins)\n",
    "\n",
    "#axScatter.set_xlim((min(zoo.STELLAR_MASS)-0.5, max(zoo.STELLAR_MASS)+0.5))\n",
    "#axScatter.set_ylim((min(zoo.Z)-0.05, max(zoo.Z)+0.05))\n",
    "axScatter.axis([8.65,12.15,1.5,2.5], prop={'size':25})\n",
    "\n",
    "axScatter.set_xlabel(r'Stellar Mass $log(M_*/M_\\odot)$', fontsize=20)\n",
    "axScatter.set_ylabel(r'Velocity Dispersion (\\sigma)', fontsize=20)\n",
    "    \n",
    "#xbins = np.arange(8.5, 12.5, xbinwidth)\n",
    "#ybins = np.arange(0., 0.6, ybinwidth)\n",
    "    \n",
    "axHisty.hist(np.log10(spec.sigma), orientation='horizontal', \n",
    "             range=[1.5,2.5], bins=bins,color='y', histtype = 'step', linewidth=3)\n",
    "axHisty.hist(np.log10(mac.sigma), orientation='horizontal', \n",
    "             range=[1.5,2.5], bins=bins,color='g', histtype = 'step', linewidth=3)\n",
    "axHisty.hist(np.log10(zoo.sigma), orientation='horizontal', \n",
    "             range=[1.5,2.5],  bins=bins,color='b',  histtype = 'step', linewidth=3)\n",
    "    \n",
    "axHistx.hist(np.log10(zoo.STELLAR_MASS), range=[7,12], \n",
    "             bins=bins,color='y', histtype = 'step', linewidth=3)\n",
    "axHistx.hist(np.log10(mac.STELLAR_MASS), range=[7,12], \n",
    "             bins=bins,color='g', histtype = 'step', linewidth=3)\n",
    "axHistx.hist(np.log10(spec.STELLAR_MASS), range=[7,12], \n",
    "             bins=bins,color='b', histtype = 'step', linewidth=3)\n",
    "    \n",
    "axHistx.set_xlim( axScatter.get_xlim() )\n",
    "axHisty.set_ylim( axScatter.get_ylim() )\n",
    "\n",
    "#plt.savefig('/home/shawn/Desktop/gravitational_lensing_research/Lens_Project_Visuals/121519_all_methods_medians_maxmasses_additional_surveys.pdf')\n",
    "#plt.savefig('/home/shawn/Desktop/gravitational_lensing_research/Lens_Project_Visuals/050420_bp_overlaps.png')\n",
    "#plt.savefig('/home/shawn/Desktop/gravitational_lensing_research/Lens_Project_Visuals/Final_PDFs_for_Paper/bp_overlaps_060920..pdf')\n",
    "#plt.savefig('/home/shawn/Desktop/gravitational_lensing_research/Lens_Project_Visuals/veldisp_stellar_mass.png')"
   ]
  },
  {
   "cell_type": "code",
   "execution_count": 56,
   "metadata": {},
   "outputs": [
    {
     "data": {
      "text/plain": [
       "2.1194308414873904"
      ]
     },
     "execution_count": 56,
     "metadata": {},
     "output_type": "execute_result"
    }
   ],
   "source": [
    "np.log10(zoo.sigma.min())"
   ]
  },
  {
   "cell_type": "markdown",
   "metadata": {},
   "source": [
    "# Einstein Radius of Isothermal Sphere:\n",
    "## $\\theta_E = 4\\pi\\sigma^2 D_{SL} / (D_S c^2$)"
   ]
  },
  {
   "cell_type": "code",
   "execution_count": 57,
   "metadata": {},
   "outputs": [
    {
     "name": "stderr",
     "output_type": "stream",
     "text": [
      "/home/shawn/miniconda3/envs/astroconda/lib/python3.6/site-packages/ipykernel_launcher.py:5: SettingWithCopyWarning: \n",
      "A value is trying to be set on a copy of a slice from a DataFrame\n",
      "\n",
      "See the caveats in the documentation: https://pandas.pydata.org/pandas-docs/stable/user_guide/indexing.html#returning-a-view-versus-a-copy\n",
      "  \"\"\"\n",
      "/home/shawn/miniconda3/envs/astroconda/lib/python3.6/site-packages/ipykernel_launcher.py:6: SettingWithCopyWarning: \n",
      "A value is trying to be set on a copy of a slice from a DataFrame\n",
      "\n",
      "See the caveats in the documentation: https://pandas.pydata.org/pandas-docs/stable/user_guide/indexing.html#returning-a-view-versus-a-copy\n",
      "  \n",
      "/home/shawn/miniconda3/envs/astroconda/lib/python3.6/site-packages/ipykernel_launcher.py:8: SettingWithCopyWarning: \n",
      "A value is trying to be set on a copy of a slice from a DataFrame\n",
      "\n",
      "See the caveats in the documentation: https://pandas.pydata.org/pandas-docs/stable/user_guide/indexing.html#returning-a-view-versus-a-copy\n",
      "  \n",
      "/home/shawn/miniconda3/envs/astroconda/lib/python3.6/site-packages/ipykernel_launcher.py:9: SettingWithCopyWarning: \n",
      "A value is trying to be set on a copy of a slice from a DataFrame\n",
      "\n",
      "See the caveats in the documentation: https://pandas.pydata.org/pandas-docs/stable/user_guide/indexing.html#returning-a-view-versus-a-copy\n",
      "  if __name__ == '__main__':\n"
     ]
    },
    {
     "data": {
      "text/plain": [
       "0     0.218652\n",
       "1          NaN\n",
       "2     0.250109\n",
       "3     0.219634\n",
       "4     0.306403\n",
       "5          NaN\n",
       "6     0.419019\n",
       "7     0.247211\n",
       "8     0.110471\n",
       "9          NaN\n",
       "10    0.227255\n",
       "11    0.218140\n",
       "12    0.144671\n",
       "13         NaN\n",
       "14    0.273981\n",
       "15    0.229014\n",
       "16    0.192943\n",
       "17         NaN\n",
       "18    0.251248\n",
       "19    0.212063\n",
       "20         NaN\n",
       "21         NaN\n",
       "22         NaN\n",
       "23    0.024189\n",
       "24         NaN\n",
       "25    0.381471\n",
       "26    0.750172\n",
       "27    0.376155\n",
       "28         NaN\n",
       "29         NaN\n",
       "30         NaN\n",
       "31         NaN\n",
       "32         NaN\n",
       "33    0.484068\n",
       "34         NaN\n",
       "35         NaN\n",
       "36    0.362361\n",
       "37    0.430439\n",
       "38    0.256526\n",
       "39    0.138860\n",
       "40    0.219301\n",
       "41    0.025995\n",
       "42    0.344412\n",
       "43    0.273347\n",
       "44    0.113693\n",
       "45    0.134028\n",
       "46    0.345686\n",
       "Name: theta_e_veldisp, dtype: float64"
      ]
     },
     "execution_count": 57,
     "metadata": {},
     "output_type": "execute_result"
    }
   ],
   "source": [
    "spec['D_source'] = 0\n",
    "spec['D_lens'] = 0\n",
    "for i in range(len(spec)):\n",
    "    if spec.D1[i] < spec.D2[i]:\n",
    "        spec.D_source[i] = spec.D2[i]\n",
    "        spec.D_lens[i] = spec.D1[i]\n",
    "    else:\n",
    "        spec.D_source[i] = spec.D1[i]\n",
    "        spec.D_lens[i] = spec.D2[i]\n",
    "    \n",
    "spec['theta_e_veldisp'] = 206265 * 4 * np.pi * (spec.sigma)**2 * (spec.D_source - spec.D_lens) / (spec.D_source * c**2)\n",
    "spec.theta_e_veldisp"
   ]
  },
  {
   "cell_type": "code",
   "execution_count": 58,
   "metadata": {},
   "outputs": [],
   "source": [
    "slacs = pd.read_csv('/home/shawn/Desktop/gravitational_lensing_research/Lens_Project_Files/slacs_Auger2009.csv')"
   ]
  },
  {
   "cell_type": "code",
   "execution_count": 59,
   "metadata": {},
   "outputs": [
    {
     "name": "stdout",
     "output_type": "stream",
     "text": [
      "0.5097487407058243 0.5128491883044617\n"
     ]
    }
   ],
   "source": [
    "print(np.mean(1-cosmo.angular_diameter_distance(slacs.zlens).value/cosmo.angular_diameter_distance(slacs.zsrc).value),\n",
    "np.median(1-cosmo.angular_diameter_distance(slacs.zlens).value/cosmo.angular_diameter_distance(slacs.zsrc).value))"
   ]
  },
  {
   "cell_type": "code",
   "execution_count": 60,
   "metadata": {},
   "outputs": [
    {
     "data": {
      "text/plain": [
       "0     1.018133\n",
       "1     0.972158\n",
       "2     0.000000\n",
       "3     0.908204\n",
       "4     0.796670\n",
       "5     1.003284\n",
       "6     1.062041\n",
       "7     0.619800\n",
       "8     0.711267\n",
       "9     0.773699\n",
       "10    0.918413\n",
       "11    0.603260\n",
       "12    0.855152\n",
       "13    0.757430\n",
       "14    1.124809\n",
       "15    1.101966\n",
       "16    1.041719\n",
       "17    0.824678\n",
       "18    0.251050\n",
       "19    0.466247\n",
       "20    0.806716\n",
       "21    0.665307\n",
       "22    0.517278\n",
       "23    1.096894\n",
       "24    0.499423\n",
       "25    0.727209\n",
       "26    0.644481\n",
       "27    0.859956\n",
       "28    1.030753\n",
       "29    0.672296\n",
       "30    0.509933\n",
       "31    0.615954\n",
       "32    1.015238\n",
       "33    1.089498\n",
       "34    0.578304\n",
       "35    0.995176\n",
       "36    0.745323\n",
       "37    0.559438\n",
       "38    0.711037\n",
       "39    0.798981\n",
       "40    1.357255\n",
       "41    0.953835\n",
       "42    1.182487\n",
       "43    1.140794\n",
       "44    1.205958\n",
       "45    0.437890\n",
       "46    0.745988\n",
       "Name: theta_e_veldisp, dtype: float64"
      ]
     },
     "execution_count": 60,
     "metadata": {},
     "output_type": "execute_result"
    }
   ],
   "source": [
    "# if D_L is halfway to D_S, then D_LS/D_S = 1/2... So it's a 2 instead of a 4.\n",
    "# if I use the mean D_LS/D_S from SLACS... it is also 1/2... :( \n",
    "mac['theta_e_veldisp'] = 206265 * 2 * np.pi * (mac.sigma)**2 / c**2\n",
    "mac.theta_e_veldisp"
   ]
  },
  {
   "cell_type": "code",
   "execution_count": 61,
   "metadata": {},
   "outputs": [
    {
     "data": {
      "text/plain": [
       "0     0.360972\n",
       "1     0.384690\n",
       "2     0.631296\n",
       "3     0.332047\n",
       "4     0.488406\n",
       "5     0.499423\n",
       "6     0.881244\n",
       "7     0.275454\n",
       "8     1.015238\n",
       "9     0.249934\n",
       "10    0.368290\n",
       "11    0.349597\n",
       "12    0.262238\n",
       "13    0.288236\n",
       "14    0.389081\n",
       "15    0.426988\n",
       "Name: theta_e_veldisp, dtype: float64"
      ]
     },
     "execution_count": 61,
     "metadata": {},
     "output_type": "execute_result"
    }
   ],
   "source": [
    "zoo['theta_e_veldisp'] = 206265 * 2 * np.pi * (zoo.sigma)**2 / c**2\n",
    "zoo.theta_e_veldisp"
   ]
  },
  {
   "cell_type": "code",
   "execution_count": 62,
   "metadata": {},
   "outputs": [
    {
     "name": "stderr",
     "output_type": "stream",
     "text": [
      "/home/shawn/miniconda3/envs/astroconda/lib/python3.6/site-packages/numpy/lib/histograms.py:839: RuntimeWarning: invalid value encountered in greater_equal\n",
      "  keep = (tmp_a >= first_edge)\n",
      "/home/shawn/miniconda3/envs/astroconda/lib/python3.6/site-packages/numpy/lib/histograms.py:840: RuntimeWarning: invalid value encountered in less_equal\n",
      "  keep &= (tmp_a <= last_edge)\n",
      "/home/shawn/miniconda3/envs/astroconda/lib/python3.6/site-packages/numpy/lib/histograms.py:839: RuntimeWarning: invalid value encountered in greater_equal\n",
      "  keep = (tmp_a >= first_edge)\n",
      "/home/shawn/miniconda3/envs/astroconda/lib/python3.6/site-packages/numpy/lib/histograms.py:840: RuntimeWarning: invalid value encountered in less_equal\n",
      "  keep &= (tmp_a <= last_edge)\n"
     ]
    },
    {
     "data": {
      "text/plain": [
       "Text(1.325, 12.4, '2 PSF')"
      ]
     },
     "execution_count": 62,
     "metadata": {},
     "output_type": "execute_result"
    },
    {
     "data": {
      "image/png": "[encoded data removed]",
      "text/plain": [
       "<Figure size 432x288 with 1 Axes>"
      ]
     },
     "metadata": {
      "needs_background": "light"
     },
     "output_type": "display_data"
    }
   ],
   "source": [
    "# Histogram of Einstein Radii\n",
    "plt.xlabel(\"Estimated Einstein Radius (arcsec)\")\n",
    "plt.ylabel(\"Count\")\n",
    "plt.title(\"Estimated Einstein Radii\")\n",
    "\n",
    "#plt.ylim(0,14.5)\n",
    "\n",
    "plt.hist(spec.theta_e_Ang_slide,bins=11,range=[0.0,2.75],\n",
    "         color='b',label='GAMA Spectroscopy', \n",
    "         histtype = 'step', linewidth=2.5, alpha = 0.3)\n",
    "plt.hist(mac.theta_e_Ang_slide,bins=11,range=[0.0,2.75],\n",
    "         color='g',label='LinKS Machine Learning', \n",
    "         histtype = 'step', linewidth=2.5, alpha = 0.3)\n",
    "plt.hist(zoo.theta_e_Ang_slide,bins=11,range=[0.0,2.75],\n",
    "         color='y',label='GalaxyZoo Citizen Science', \n",
    "         histtype = 'step', linewidth=2.5, alpha = 0.3)\n",
    "\n",
    "plt.hist(spec.theta_e_veldisp,bins=11,range=[0.0,2.75],\n",
    "         color='b',label='GAMA Spectroscopy', \n",
    "         histtype = 'step', linewidth=2.5)#, alpha = 0.4)\n",
    "plt.hist(mac.theta_e_veldisp,bins=11,range=[0.0,2.75],\n",
    "         color='g',label='LinKS Machine Learning', \n",
    "         histtype = 'step', linewidth=2.5)#, alpha = 0.4)\n",
    "plt.hist(zoo.theta_e_veldisp,bins=11,range=[0.0,2.75],\n",
    "         color='y',label='GalaxyZoo Citizen Science', \n",
    "         histtype = 'step', linewidth=2.5)#, alpha = 0.4)\n",
    "#plt.hist(slacs.theta_e_sie,bins=10,color='c',label='SLACS (Bolton-08)', histtype = 'step', linestyle='dashed', linewidth=1, alpha=0.5)\n",
    "#plt.hist(s4tm.theta_e_sie,bins=10,color='m',label='S4TM (Shu-17)', histtype = 'step', linestyle='dashed', linewidth=1, alpha=0.5)\n",
    "#plt.hist(bells.theta_e_sie,bins=10,color='k',label='BELLS (Brownstein-12)', histtype = 'step', linestyle='dashed', linewidth=1, alpha=0.5)\n",
    "#plt.fill_betweenx(x1=0.1, x2=0.2, y=(0,15),# Fill region for false candidates\n",
    " #                facecolor=\"purple\", # The fill color\n",
    "  #               color='purple',       # The outline color\n",
    "   #              alpha=0.15, # Transparency of the fill\n",
    "    #            label='NextGen Resolution')\n",
    "\n",
    "plt.legend(loc='upper right', fontsize=8)\n",
    "\n",
    "plt.axvline(0.65, color='k', linestyle='dotted', linewidth=0.75)\n",
    "plt.axvline(1.3, color='k', linestyle='dotted', linewidth=0.75)\n",
    "#plt.axvline(1.95, color='k', linestyle='dashed', linewidth=1)\n",
    "#plt.axvline(1, color='b', linestyle='solid', linewidth=1)\n",
    "#plt.axvline(1, color='g', linestyle='dashed', linewidth=1)\n",
    "#plt.axvline(0.1, color='k', linestyle='dashed', linewidth=0.75)\n",
    "#plt.axvline(0.2, color='k', linestyle='dashed', linewidth=0.75)\n",
    "\n",
    "\n",
    "plt.text(0.675, 12.4, '1 PSF')\n",
    "plt.text(0.675, 13.2, 'KiDS')\n",
    "plt.text(1.325, 12.4, '2 PSF')\n",
    "#plt.text(-0.06, 13.2, '0.1-0.2 arcsec')\n",
    "#plt.text(0.125, 13.2, 'JWST')\n",
    "#plt.text(0.125, 12.4, 'Euclid')\n",
    "#plt.text(2, 11, '3 PSF')\n",
    "#plt.text(1.05, 12, 'GAMA aperture', color='b', fontsize=8)\n",
    "#plt.text(1.05, 13, 'minimum from training set Petrillo-2019', color = 'g', fontsize=8)\n",
    "#plt.savefig('/home/shawn/Desktop/gravitational_lensing_research/Lens_Project_Visuals/PNGs/theta_e_veldisp_062620.png')\n",
    "#plt.savefig('/home/shawn/Desktop/gravitational_lensing_research/Lens_Project_Visuals/Final_PDFs_for_Paper/theta_e_060920..pdf')\n"
   ]
  },
  {
   "cell_type": "code",
   "execution_count": 63,
   "metadata": {},
   "outputs": [
    {
     "data": {
      "text/html": [
       "<div>\n",
       "<style scoped>\n",
       "    .dataframe tbody tr th:only-of-type {\n",
       "        vertical-align: middle;\n",
       "    }\n",
       "\n",
       "    .dataframe tbody tr th {\n",
       "        vertical-align: top;\n",
       "    }\n",
       "\n",
       "    .dataframe thead th {\n",
       "        text-align: right;\n",
       "    }\n",
       "</style>\n",
       "<table border=\"1\" class=\"dataframe\">\n",
       "  <thead>\n",
       "    <tr style=\"text-align: right;\">\n",
       "      <th></th>\n",
       "      <th>Unnamed: 0</th>\n",
       "      <th>Unnamed: 0.1</th>\n",
       "      <th>Unnamed: 0.1.1</th>\n",
       "      <th>Unnamed: 0.1.1.1</th>\n",
       "      <th>Unnamed: 0.1.1.1.1</th>\n",
       "      <th>GAMA_ID</th>\n",
       "      <th>RA</th>\n",
       "      <th>DEC</th>\n",
       "      <th>LENS_SCORE</th>\n",
       "      <th>STELLAR_MASS</th>\n",
       "      <th>...</th>\n",
       "      <th>theta_e_Ang</th>\n",
       "      <th>f_dm</th>\n",
       "      <th>theta_e_H0_slide</th>\n",
       "      <th>theta_e_Ang_slide</th>\n",
       "      <th>f_dm_half_re</th>\n",
       "      <th>theta_e_Ang_slide_half_re</th>\n",
       "      <th>lensing_mass_half_effective_radius</th>\n",
       "      <th>theta_e_half_radius</th>\n",
       "      <th>sigma</th>\n",
       "      <th>theta_e_veldisp</th>\n",
       "    </tr>\n",
       "  </thead>\n",
       "  <tbody>\n",
       "    <tr>\n",
       "      <th>0</th>\n",
       "      <td>0</td>\n",
       "      <td>1</td>\n",
       "      <td>1</td>\n",
       "      <td>1</td>\n",
       "      <td>1</td>\n",
       "      <td>485873</td>\n",
       "      <td>217.75015</td>\n",
       "      <td>-1.80042</td>\n",
       "      <td>0.349456</td>\n",
       "      <td>4.908000e+10</td>\n",
       "      <td>...</td>\n",
       "      <td>1.527035</td>\n",
       "      <td>0.499818</td>\n",
       "      <td>1.349573</td>\n",
       "      <td>1.348395</td>\n",
       "      <td>0.435487</td>\n",
       "      <td>0.762767</td>\n",
       "      <td>2.541110e+10</td>\n",
       "      <td>0.686184</td>\n",
       "      <td>158.217689</td>\n",
       "      <td>0.360972</td>\n",
       "    </tr>\n",
       "    <tr>\n",
       "      <th>1</th>\n",
       "      <td>1</td>\n",
       "      <td>5</td>\n",
       "      <td>5</td>\n",
       "      <td>5</td>\n",
       "      <td>5</td>\n",
       "      <td>84050</td>\n",
       "      <td>175.79849</td>\n",
       "      <td>0.47814</td>\n",
       "      <td>0.365758</td>\n",
       "      <td>5.471000e+10</td>\n",
       "      <td>...</td>\n",
       "      <td>1.081179</td>\n",
       "      <td>0.505949</td>\n",
       "      <td>0.964887</td>\n",
       "      <td>0.960603</td>\n",
       "      <td>0.441618</td>\n",
       "      <td>0.543399</td>\n",
       "      <td>2.910557e+10</td>\n",
       "      <td>0.492475</td>\n",
       "      <td>163.332854</td>\n",
       "      <td>0.384690</td>\n",
       "    </tr>\n",
       "    <tr>\n",
       "      <th>2</th>\n",
       "      <td>2</td>\n",
       "      <td>6</td>\n",
       "      <td>7</td>\n",
       "      <td>7</td>\n",
       "      <td>7</td>\n",
       "      <td>55245</td>\n",
       "      <td>181.07958</td>\n",
       "      <td>-0.31553</td>\n",
       "      <td>0.314054</td>\n",
       "      <td>1.274000e+11</td>\n",
       "      <td>...</td>\n",
       "      <td>1.863550</td>\n",
       "      <td>0.553672</td>\n",
       "      <td>1.746717</td>\n",
       "      <td>1.741993</td>\n",
       "      <td>0.489342</td>\n",
       "      <td>0.985420</td>\n",
       "      <td>8.372487e+10</td>\n",
       "      <td>0.943444</td>\n",
       "      <td>209.235150</td>\n",
       "      <td>0.631296</td>\n",
       "    </tr>\n",
       "    <tr>\n",
       "      <th>3</th>\n",
       "      <td>3</td>\n",
       "      <td>7</td>\n",
       "      <td>8</td>\n",
       "      <td>8</td>\n",
       "      <td>8</td>\n",
       "      <td>70282</td>\n",
       "      <td>179.40308</td>\n",
       "      <td>0.12562</td>\n",
       "      <td>0.655352</td>\n",
       "      <td>4.256000e+10</td>\n",
       "      <td>...</td>\n",
       "      <td>1.004631</td>\n",
       "      <td>0.491770</td>\n",
       "      <td>0.883225</td>\n",
       "      <td>0.880053</td>\n",
       "      <td>0.427440</td>\n",
       "      <td>0.497833</td>\n",
       "      <td>2.126399e+10</td>\n",
       "      <td>0.443466</td>\n",
       "      <td>151.746078</td>\n",
       "      <td>0.332047</td>\n",
       "    </tr>\n",
       "    <tr>\n",
       "      <th>4</th>\n",
       "      <td>4</td>\n",
       "      <td>8</td>\n",
       "      <td>9</td>\n",
       "      <td>9</td>\n",
       "      <td>9</td>\n",
       "      <td>185451</td>\n",
       "      <td>180.28326</td>\n",
       "      <td>-1.61006</td>\n",
       "      <td>0.302985</td>\n",
       "      <td>8.222000e+10</td>\n",
       "      <td>...</td>\n",
       "      <td>1.393063</td>\n",
       "      <td>0.528947</td>\n",
       "      <td>1.272172</td>\n",
       "      <td>1.267559</td>\n",
       "      <td>0.464617</td>\n",
       "      <td>0.717040</td>\n",
       "      <td>4.843001e+10</td>\n",
       "      <td>0.667685</td>\n",
       "      <td>184.038379</td>\n",
       "      <td>0.488406</td>\n",
       "    </tr>\n",
       "    <tr>\n",
       "      <th>5</th>\n",
       "      <td>5</td>\n",
       "      <td>9</td>\n",
       "      <td>10</td>\n",
       "      <td>10</td>\n",
       "      <td>10</td>\n",
       "      <td>124486</td>\n",
       "      <td>179.72998</td>\n",
       "      <td>-2.51919</td>\n",
       "      <td>0.426190</td>\n",
       "      <td>8.541000e+10</td>\n",
       "      <td>...</td>\n",
       "      <td>1.227565</td>\n",
       "      <td>0.531096</td>\n",
       "      <td>1.126910</td>\n",
       "      <td>1.119528</td>\n",
       "      <td>0.466766</td>\n",
       "      <td>0.633301</td>\n",
       "      <td>5.079004e+10</td>\n",
       "      <td>0.591169</td>\n",
       "      <td>186.102433</td>\n",
       "      <td>0.499423</td>\n",
       "    </tr>\n",
       "    <tr>\n",
       "      <th>7</th>\n",
       "      <td>7</td>\n",
       "      <td>15</td>\n",
       "      <td>17</td>\n",
       "      <td>17</td>\n",
       "      <td>17</td>\n",
       "      <td>93310</td>\n",
       "      <td>219.92276</td>\n",
       "      <td>0.50731</td>\n",
       "      <td>0.575139</td>\n",
       "      <td>3.094000e+10</td>\n",
       "      <td>...</td>\n",
       "      <td>0.754649</td>\n",
       "      <td>0.473768</td>\n",
       "      <td>0.653593</td>\n",
       "      <td>0.649663</td>\n",
       "      <td>0.409437</td>\n",
       "      <td>0.367505</td>\n",
       "      <td>1.427391e+10</td>\n",
       "      <td>0.320102</td>\n",
       "      <td>138.210950</td>\n",
       "      <td>0.275454</td>\n",
       "    </tr>\n",
       "    <tr>\n",
       "      <th>9</th>\n",
       "      <td>9</td>\n",
       "      <td>17</td>\n",
       "      <td>19</td>\n",
       "      <td>19</td>\n",
       "      <td>19</td>\n",
       "      <td>600421</td>\n",
       "      <td>135.49058</td>\n",
       "      <td>0.28417</td>\n",
       "      <td>0.420189</td>\n",
       "      <td>2.621000e+10</td>\n",
       "      <td>...</td>\n",
       "      <td>1.089838</td>\n",
       "      <td>0.464401</td>\n",
       "      <td>0.930877</td>\n",
       "      <td>0.929982</td>\n",
       "      <td>0.400070</td>\n",
       "      <td>0.526077</td>\n",
       "      <td>1.160049e+10</td>\n",
       "      <td>0.452792</td>\n",
       "      <td>131.653025</td>\n",
       "      <td>0.249934</td>\n",
       "    </tr>\n",
       "    <tr>\n",
       "      <th>10</th>\n",
       "      <td>10</td>\n",
       "      <td>18</td>\n",
       "      <td>20</td>\n",
       "      <td>20</td>\n",
       "      <td>20</td>\n",
       "      <td>574423</td>\n",
       "      <td>135.75994</td>\n",
       "      <td>-0.20038</td>\n",
       "      <td>0.464337</td>\n",
       "      <td>5.079000e+10</td>\n",
       "      <td>...</td>\n",
       "      <td>1.557765</td>\n",
       "      <td>0.501751</td>\n",
       "      <td>1.379388</td>\n",
       "      <td>1.378197</td>\n",
       "      <td>0.437421</td>\n",
       "      <td>0.779626</td>\n",
       "      <td>2.652256e+10</td>\n",
       "      <td>0.702996</td>\n",
       "      <td>159.813334</td>\n",
       "      <td>0.368290</td>\n",
       "    </tr>\n",
       "    <tr>\n",
       "      <th>11</th>\n",
       "      <td>11</td>\n",
       "      <td>19</td>\n",
       "      <td>21</td>\n",
       "      <td>21</td>\n",
       "      <td>21</td>\n",
       "      <td>324764</td>\n",
       "      <td>137.20387</td>\n",
       "      <td>1.72633</td>\n",
       "      <td>0.422757</td>\n",
       "      <td>4.647000e+10</td>\n",
       "      <td>...</td>\n",
       "      <td>1.064959</td>\n",
       "      <td>0.496732</td>\n",
       "      <td>0.940675</td>\n",
       "      <td>0.937488</td>\n",
       "      <td>0.432402</td>\n",
       "      <td>0.530323</td>\n",
       "      <td>2.373332e+10</td>\n",
       "      <td>0.475289</td>\n",
       "      <td>155.704654</td>\n",
       "      <td>0.349597</td>\n",
       "    </tr>\n",
       "    <tr>\n",
       "      <th>12</th>\n",
       "      <td>12</td>\n",
       "      <td>21</td>\n",
       "      <td>24</td>\n",
       "      <td>24</td>\n",
       "      <td>24</td>\n",
       "      <td>342699</td>\n",
       "      <td>216.90174</td>\n",
       "      <td>2.13250</td>\n",
       "      <td>0.457088</td>\n",
       "      <td>2.845000e+10</td>\n",
       "      <td>...</td>\n",
       "      <td>0.910612</td>\n",
       "      <td>0.469031</td>\n",
       "      <td>0.782271</td>\n",
       "      <td>0.780425</td>\n",
       "      <td>0.404700</td>\n",
       "      <td>0.441475</td>\n",
       "      <td>1.285273e+10</td>\n",
       "      <td>0.382228</td>\n",
       "      <td>134.854707</td>\n",
       "      <td>0.262238</td>\n",
       "    </tr>\n",
       "    <tr>\n",
       "      <th>13</th>\n",
       "      <td>13</td>\n",
       "      <td>22</td>\n",
       "      <td>25</td>\n",
       "      <td>25</td>\n",
       "      <td>25</td>\n",
       "      <td>363319</td>\n",
       "      <td>218.85395</td>\n",
       "      <td>2.56676</td>\n",
       "      <td>0.457532</td>\n",
       "      <td>3.343000e+10</td>\n",
       "      <td>...</td>\n",
       "      <td>0.930280</td>\n",
       "      <td>0.478138</td>\n",
       "      <td>0.806631</td>\n",
       "      <td>0.804208</td>\n",
       "      <td>0.413807</td>\n",
       "      <td>0.454928</td>\n",
       "      <td>1.572400e+10</td>\n",
       "      <td>0.398437</td>\n",
       "      <td>141.381296</td>\n",
       "      <td>0.288236</td>\n",
       "    </tr>\n",
       "    <tr>\n",
       "      <th>14</th>\n",
       "      <td>14</td>\n",
       "      <td>23</td>\n",
       "      <td>26</td>\n",
       "      <td>26</td>\n",
       "      <td>26</td>\n",
       "      <td>418788</td>\n",
       "      <td>137.69141</td>\n",
       "      <td>2.74717</td>\n",
       "      <td>0.343063</td>\n",
       "      <td>5.578000e+10</td>\n",
       "      <td>...</td>\n",
       "      <td>0.991686</td>\n",
       "      <td>0.507042</td>\n",
       "      <td>0.887892</td>\n",
       "      <td>0.882067</td>\n",
       "      <td>0.442712</td>\n",
       "      <td>0.498972</td>\n",
       "      <td>2.981885e+10</td>\n",
       "      <td>0.452806</td>\n",
       "      <td>164.262415</td>\n",
       "      <td>0.389081</td>\n",
       "    </tr>\n",
       "    <tr>\n",
       "      <th>15</th>\n",
       "      <td>15</td>\n",
       "      <td>27</td>\n",
       "      <td>32</td>\n",
       "      <td>32</td>\n",
       "      <td>32</td>\n",
       "      <td>3578853</td>\n",
       "      <td>130.98196</td>\n",
       "      <td>-1.62032</td>\n",
       "      <td>0.319461</td>\n",
       "      <td>6.537000e+10</td>\n",
       "      <td>...</td>\n",
       "      <td>1.166442</td>\n",
       "      <td>0.515999</td>\n",
       "      <td>1.051989</td>\n",
       "      <td>1.047062</td>\n",
       "      <td>0.451669</td>\n",
       "      <td>0.592307</td>\n",
       "      <td>3.635932e+10</td>\n",
       "      <td>0.543268</td>\n",
       "      <td>172.078218</td>\n",
       "      <td>0.426988</td>\n",
       "    </tr>\n",
       "  </tbody>\n",
       "</table>\n",
       "<p>14 rows × 24 columns</p>\n",
       "</div>"
      ],
      "text/plain": [
       "    Unnamed: 0  Unnamed: 0.1  Unnamed: 0.1.1  Unnamed: 0.1.1.1  \\\n",
       "0            0             1               1                 1   \n",
       "1            1             5               5                 5   \n",
       "2            2             6               7                 7   \n",
       "3            3             7               8                 8   \n",
       "4            4             8               9                 9   \n",
       "5            5             9              10                10   \n",
       "7            7            15              17                17   \n",
       "9            9            17              19                19   \n",
       "10          10            18              20                20   \n",
       "11          11            19              21                21   \n",
       "12          12            21              24                24   \n",
       "13          13            22              25                25   \n",
       "14          14            23              26                26   \n",
       "15          15            27              32                32   \n",
       "\n",
       "    Unnamed: 0.1.1.1.1  GAMA_ID         RA      DEC  LENS_SCORE  STELLAR_MASS  \\\n",
       "0                    1   485873  217.75015 -1.80042    0.349456  4.908000e+10   \n",
       "1                    5    84050  175.79849  0.47814    0.365758  5.471000e+10   \n",
       "2                    7    55245  181.07958 -0.31553    0.314054  1.274000e+11   \n",
       "3                    8    70282  179.40308  0.12562    0.655352  4.256000e+10   \n",
       "4                    9   185451  180.28326 -1.61006    0.302985  8.222000e+10   \n",
       "5                   10   124486  179.72998 -2.51919    0.426190  8.541000e+10   \n",
       "7                   17    93310  219.92276  0.50731    0.575139  3.094000e+10   \n",
       "9                   19   600421  135.49058  0.28417    0.420189  2.621000e+10   \n",
       "10                  20   574423  135.75994 -0.20038    0.464337  5.079000e+10   \n",
       "11                  21   324764  137.20387  1.72633    0.422757  4.647000e+10   \n",
       "12                  24   342699  216.90174  2.13250    0.457088  2.845000e+10   \n",
       "13                  25   363319  218.85395  2.56676    0.457532  3.343000e+10   \n",
       "14                  26   418788  137.69141  2.74717    0.343063  5.578000e+10   \n",
       "15                  32  3578853  130.98196 -1.62032    0.319461  6.537000e+10   \n",
       "\n",
       "    ...  theta_e_Ang      f_dm  theta_e_H0_slide  theta_e_Ang_slide  \\\n",
       "0   ...     1.527035  0.499818          1.349573           1.348395   \n",
       "1   ...     1.081179  0.505949          0.964887           0.960603   \n",
       "2   ...     1.863550  0.553672          1.746717           1.741993   \n",
       "3   ...     1.004631  0.491770          0.883225           0.880053   \n",
       "4   ...     1.393063  0.528947          1.272172           1.267559   \n",
       "5   ...     1.227565  0.531096          1.126910           1.119528   \n",
       "7   ...     0.754649  0.473768          0.653593           0.649663   \n",
       "9   ...     1.089838  0.464401          0.930877           0.929982   \n",
       "10  ...     1.557765  0.501751          1.379388           1.378197   \n",
       "11  ...     1.064959  0.496732          0.940675           0.937488   \n",
       "12  ...     0.910612  0.469031          0.782271           0.780425   \n",
       "13  ...     0.930280  0.478138          0.806631           0.804208   \n",
       "14  ...     0.991686  0.507042          0.887892           0.882067   \n",
       "15  ...     1.166442  0.515999          1.051989           1.047062   \n",
       "\n",
       "    f_dm_half_re  theta_e_Ang_slide_half_re  \\\n",
       "0       0.435487                   0.762767   \n",
       "1       0.441618                   0.543399   \n",
       "2       0.489342                   0.985420   \n",
       "3       0.427440                   0.497833   \n",
       "4       0.464617                   0.717040   \n",
       "5       0.466766                   0.633301   \n",
       "7       0.409437                   0.367505   \n",
       "9       0.400070                   0.526077   \n",
       "10      0.437421                   0.779626   \n",
       "11      0.432402                   0.530323   \n",
       "12      0.404700                   0.441475   \n",
       "13      0.413807                   0.454928   \n",
       "14      0.442712                   0.498972   \n",
       "15      0.451669                   0.592307   \n",
       "\n",
       "    lensing_mass_half_effective_radius  theta_e_half_radius       sigma  \\\n",
       "0                         2.541110e+10             0.686184  158.217689   \n",
       "1                         2.910557e+10             0.492475  163.332854   \n",
       "2                         8.372487e+10             0.943444  209.235150   \n",
       "3                         2.126399e+10             0.443466  151.746078   \n",
       "4                         4.843001e+10             0.667685  184.038379   \n",
       "5                         5.079004e+10             0.591169  186.102433   \n",
       "7                         1.427391e+10             0.320102  138.210950   \n",
       "9                         1.160049e+10             0.452792  131.653025   \n",
       "10                        2.652256e+10             0.702996  159.813334   \n",
       "11                        2.373332e+10             0.475289  155.704654   \n",
       "12                        1.285273e+10             0.382228  134.854707   \n",
       "13                        1.572400e+10             0.398437  141.381296   \n",
       "14                        2.981885e+10             0.452806  164.262415   \n",
       "15                        3.635932e+10             0.543268  172.078218   \n",
       "\n",
       "    theta_e_veldisp  \n",
       "0          0.360972  \n",
       "1          0.384690  \n",
       "2          0.631296  \n",
       "3          0.332047  \n",
       "4          0.488406  \n",
       "5          0.499423  \n",
       "7          0.275454  \n",
       "9          0.249934  \n",
       "10         0.368290  \n",
       "11         0.349597  \n",
       "12         0.262238  \n",
       "13         0.288236  \n",
       "14         0.389081  \n",
       "15         0.426988  \n",
       "\n",
       "[14 rows x 24 columns]"
      ]
     },
     "execution_count": 63,
     "metadata": {},
     "output_type": "execute_result"
    }
   ],
   "source": [
    "zoo[zoo.theta_e_veldisp < 0.65]"
   ]
  },
  {
   "cell_type": "code",
   "execution_count": 285,
   "metadata": {},
   "outputs": [
    {
     "data": {
      "text/html": [
       "<div>\n",
       "<style scoped>\n",
       "    .dataframe tbody tr th:only-of-type {\n",
       "        vertical-align: middle;\n",
       "    }\n",
       "\n",
       "    .dataframe tbody tr th {\n",
       "        vertical-align: top;\n",
       "    }\n",
       "\n",
       "    .dataframe thead th {\n",
       "        text-align: right;\n",
       "    }\n",
       "</style>\n",
       "<table border=\"1\" class=\"dataframe\">\n",
       "  <thead>\n",
       "    <tr style=\"text-align: right;\">\n",
       "      <th></th>\n",
       "      <th>Unnamed: 0</th>\n",
       "      <th>Unnamed: 0.1</th>\n",
       "      <th>GAMA_ID</th>\n",
       "      <th>ID</th>\n",
       "      <th>RA</th>\n",
       "      <th>DEC</th>\n",
       "      <th>SCORE</th>\n",
       "      <th>STELLAR_MASS</th>\n",
       "      <th>Z</th>\n",
       "      <th>theta_e</th>\n",
       "      <th>theta_e_H0</th>\n",
       "      <th>theta_e_Ang</th>\n",
       "      <th>f_dm</th>\n",
       "      <th>theta_e_H0_slide</th>\n",
       "      <th>theta_e_Ang_slide</th>\n",
       "      <th>sigma</th>\n",
       "      <th>theta_e_veldisp</th>\n",
       "    </tr>\n",
       "  </thead>\n",
       "  <tbody>\n",
       "    <tr>\n",
       "      <th>2</th>\n",
       "      <td>2</td>\n",
       "      <td>2</td>\n",
       "      <td>323152.0</td>\n",
       "      <td>2967.0</td>\n",
       "      <td>130.54643</td>\n",
       "      <td>1.64325</td>\n",
       "      <td>30.0</td>\n",
       "      <td>8.277000e+11</td>\n",
       "      <td>0.7216</td>\n",
       "      <td>1.715374</td>\n",
       "      <td>1.715374</td>\n",
       "      <td>1.354724</td>\n",
       "      <td>0.659323</td>\n",
       "      <td>1.835354</td>\n",
       "      <td>1.449480</td>\n",
       "      <td>0.000000</td>\n",
       "      <td>0.0000</td>\n",
       "    </tr>\n",
       "    <tr>\n",
       "      <th>18</th>\n",
       "      <td>18</td>\n",
       "      <td>18</td>\n",
       "      <td>165409.0</td>\n",
       "      <td>3098.0</td>\n",
       "      <td>181.19672</td>\n",
       "      <td>-2.72009</td>\n",
       "      <td>38.0</td>\n",
       "      <td>2.641000e+10</td>\n",
       "      <td>0.0196</td>\n",
       "      <td>1.859202</td>\n",
       "      <td>1.859202</td>\n",
       "      <td>1.858993</td>\n",
       "      <td>0.464830</td>\n",
       "      <td>1.587132</td>\n",
       "      <td>1.586953</td>\n",
       "      <td>131.946582</td>\n",
       "      <td>0.5021</td>\n",
       "    </tr>\n",
       "  </tbody>\n",
       "</table>\n",
       "</div>"
      ],
      "text/plain": [
       "    Unnamed: 0  Unnamed: 0.1   GAMA_ID      ID         RA      DEC  SCORE  \\\n",
       "2            2             2  323152.0  2967.0  130.54643  1.64325   30.0   \n",
       "18          18            18  165409.0  3098.0  181.19672 -2.72009   38.0   \n",
       "\n",
       "    STELLAR_MASS       Z   theta_e  theta_e_H0  theta_e_Ang      f_dm  \\\n",
       "2   8.277000e+11  0.7216  1.715374    1.715374     1.354724  0.659323   \n",
       "18  2.641000e+10  0.0196  1.859202    1.859202     1.858993  0.464830   \n",
       "\n",
       "    theta_e_H0_slide  theta_e_Ang_slide       sigma  theta_e_veldisp  \n",
       "2           1.835354           1.449480    0.000000           0.0000  \n",
       "18          1.587132           1.586953  131.946582           0.5021  "
      ]
     },
     "execution_count": 285,
     "metadata": {},
     "output_type": "execute_result"
    }
   ],
   "source": [
    "mac[mac.theta_e_veldisp < 0.65]"
   ]
  },
  {
   "cell_type": "markdown",
   "metadata": {},
   "source": [
    "# NOTE! A LinKS candidate has theta-e = 0 because it is beyond the applicable redshift range. I should probably have just taken it anyway and made note of it. That is what I will do if I put this in the paper."
   ]
  },
  {
   "cell_type": "code",
   "execution_count": 64,
   "metadata": {},
   "outputs": [],
   "source": [
    "#spec.to_csv('/home/shawn/Desktop/gravitational_lensing_research/Lens_Project_Files/spec_latest.csv')\n",
    "#mac.to_csv('/home/shawn/Desktop/gravitational_lensing_research/Lens_Project_Files/mac_latest.csv')\n",
    "#zoo.to_csv('/home/shawn/Desktop/gravitational_lensing_research/Lens_Project_Files/zoo_latest.csv')"
   ]
  },
  {
   "cell_type": "code",
   "execution_count": 65,
   "metadata": {},
   "outputs": [
    {
     "data": {
      "text/plain": [
       "Index(['Unnamed: 0', 'Unnamed: 0.1', 'Unnamed: 0.1.1', 'Unnamed: 0.1.1.1',\n",
       "       'Unnamed: 0.1.1.1.1', 'RA', 'DEC', 'z1', 'z2', 'spec_type', 'GAMA_ID',\n",
       "       'STELLAR_MASS', 'max_total_mass', 'theta_e', 'Z',\n",
       "       'max_stellar_mass_salpeter', 'max_stellar_mass_chabrier', 'Dz',\n",
       "       'theta_e2', 'z_lens', 'theta_e_reckoning', 'theta_e_Ang', 'theta_e_H0',\n",
       "       'f_dm', 'theta_e_H0_slide', 'theta_e_Ang_slide', 'D1', 'D2',\n",
       "       'fiber_radius_mass', 'fiber_radius_stellar_mass', 'f_dm_half_re',\n",
       "       'theta_e_Ang_slide_half_re', 'mass_half_effective_radius',\n",
       "       'lensing_mass_half_effective_radius', 'theta_e_half_radius', 'sigma',\n",
       "       'D_source', 'D_lens', 'theta_e_veldisp'],\n",
       "      dtype='object')"
      ]
     },
     "execution_count": 65,
     "metadata": {},
     "output_type": "execute_result"
    }
   ],
   "source": [
    "spec.columns"
   ]
  },
  {
   "cell_type": "code",
   "execution_count": 66,
   "metadata": {},
   "outputs": [
    {
     "name": "stderr",
     "output_type": "stream",
     "text": [
      "/home/shawn/miniconda3/envs/astroconda/lib/python3.6/site-packages/numpy/lib/histograms.py:839: RuntimeWarning: invalid value encountered in greater_equal\n",
      "  keep = (tmp_a >= first_edge)\n",
      "/home/shawn/miniconda3/envs/astroconda/lib/python3.6/site-packages/numpy/lib/histograms.py:840: RuntimeWarning: invalid value encountered in less_equal\n",
      "  keep &= (tmp_a <= last_edge)\n"
     ]
    },
    {
     "data": {
      "text/plain": [
       "(array([2., 5., 8., 7., 5., 2., 1., 0., 0., 1.]),\n",
       " array([0.02418893, 0.09678727, 0.16938562, 0.24198396, 0.3145823 ,\n",
       "        0.38718065, 0.45977899, 0.53237734, 0.60497568, 0.67757402,\n",
       "        0.75017237]),\n",
       " <a list of 10 Patch objects>)"
      ]
     },
     "execution_count": 66,
     "metadata": {},
     "output_type": "execute_result"
    },
    {
     "data": {
      "image/png": "[encoded data removed]",
      "text/plain": [
       "<Figure size 432x288 with 1 Axes>"
      ]
     },
     "metadata": {
      "needs_background": "light"
     },
     "output_type": "display_data"
    }
   ],
   "source": [
    "plt.hist(spec.theta_e_Ang)\n",
    "plt.hist(spec.theta_e_Ang_slide)\n",
    "plt.hist(spec.theta_e_Ang_slide_half_re)\n",
    "plt.hist(spec.theta_e_half_radius)\n",
    "plt.hist(spec.theta_e_veldisp)"
   ]
  },
  {
   "cell_type": "code",
   "execution_count": 67,
   "metadata": {},
   "outputs": [
    {
     "data": {
      "text/plain": [
       "(array([ 1.,  1.,  0.,  5.,  8., 10.,  5.,  9.,  7.,  1.]),\n",
       " array([0.        , 0.13572549, 0.27145098, 0.40717647, 0.54290196,\n",
       "        0.67862746, 0.81435295, 0.95007844, 1.08580393, 1.22152942,\n",
       "        1.35725491]),\n",
       " <a list of 10 Patch objects>)"
      ]
     },
     "execution_count": 67,
     "metadata": {},
     "output_type": "execute_result"
    },
    {
     "data": {
      "image/png": "[encoded data removed]",
      "text/plain": [
       "<Figure size 432x288 with 1 Axes>"
      ]
     },
     "metadata": {
      "needs_background": "light"
     },
     "output_type": "display_data"
    }
   ],
   "source": [
    "plt.hist(mac.theta_e_Ang)\n",
    "plt.hist(mac.theta_e_Ang_slide)\n",
    "plt.hist(mac.theta_e_Ang_slide_half_re)\n",
    "plt.hist(mac.theta_e_half_radius)\n",
    "plt.hist(mac.theta_e_veldisp)"
   ]
  },
  {
   "cell_type": "markdown",
   "metadata": {},
   "source": [
    "# Calculate velocity dispersion from Petrillo.\n",
    "$ \\sigma_* = 10^{0.22\\log{M_*-0.1}} $"
   ]
  },
  {
   "cell_type": "code",
   "execution_count": 14,
   "metadata": {},
   "outputs": [
    {
     "data": {
      "text/plain": [
       "0     0.299852\n",
       "1          NaN\n",
       "2     0.308572\n",
       "3     0.354767\n",
       "4     0.378686\n",
       "5          NaN\n",
       "6     0.495468\n",
       "7     0.285503\n",
       "8     0.265496\n",
       "9          NaN\n",
       "10    0.296303\n",
       "11    0.291093\n",
       "12    0.282621\n",
       "13         NaN\n",
       "14    0.320620\n",
       "15    0.284112\n",
       "16    0.207100\n",
       "17         NaN\n",
       "18    0.290944\n",
       "19    0.264536\n",
       "20         NaN\n",
       "21         NaN\n",
       "22         NaN\n",
       "23    0.089196\n",
       "24         NaN\n",
       "25    0.500723\n",
       "26    0.822816\n",
       "27    0.463530\n",
       "28         NaN\n",
       "29         NaN\n",
       "30         NaN\n",
       "31         NaN\n",
       "32         NaN\n",
       "33    0.560738\n",
       "34         NaN\n",
       "35         NaN\n",
       "36    0.436937\n",
       "37    0.527283\n",
       "38    0.329857\n",
       "39    0.248669\n",
       "40    0.258440\n",
       "41    0.116545\n",
       "42    0.470034\n",
       "43    0.309646\n",
       "44    0.163285\n",
       "45    0.189632\n",
       "46    0.423038\n",
       "dtype: float64"
      ]
     },
     "execution_count": 14,
     "metadata": {},
     "output_type": "execute_result"
    }
   ],
   "source": [
    "spec['sigma_petrillo'] = 10 ** (0.22 * np.log10(spec.STELLAR_MASS)-0.1)\n",
    "(spec.sigma_petrillo/186) ** 2 * (1-spec.D_lens/spec.D_source)"
   ]
  },
  {
   "cell_type": "code",
   "execution_count": 12,
   "metadata": {},
   "outputs": [
    {
     "data": {
      "text/plain": [
       "Index(['Unnamed: 0', 'Unnamed: 0.1', 'Unnamed: 0.1.1', 'Unnamed: 0.1.1.1',\n",
       "       'Unnamed: 0.1.1.1.1', 'Unnamed: 0.1.1.1.1.1', 'RA', 'DEC', 'z1', 'z2',\n",
       "       'spec_type', 'GAMA_ID', 'STELLAR_MASS', 'max_total_mass', 'theta_e',\n",
       "       'Z', 'max_stellar_mass_salpeter', 'max_stellar_mass_chabrier', 'Dz',\n",
       "       'theta_e2', 'z_lens', 'theta_e_reckoning', 'theta_e_Ang', 'theta_e_H0',\n",
       "       'f_dm', 'theta_e_H0_slide', 'theta_e_Ang_slide', 'D1', 'D2',\n",
       "       'fiber_radius_mass', 'fiber_radius_stellar_mass', 'f_dm_half_re',\n",
       "       'theta_e_Ang_slide_half_re', 'mass_half_effective_radius',\n",
       "       'lensing_mass_half_effective_radius', 'theta_e_half_radius', 'sigma',\n",
       "       'D_source', 'D_lens', 'theta_e_veldisp', 'sigma_petrillo'],\n",
       "      dtype='object')"
      ]
     },
     "execution_count": 12,
     "metadata": {},
     "output_type": "execute_result"
    }
   ],
   "source": [
    "spec.columns"
   ]
  },
  {
   "cell_type": "code",
   "execution_count": null,
   "metadata": {},
   "outputs": [],
   "source": []
  }
 ],
 "metadata": {
  "kernelspec": {
   "display_name": "Python 3",
   "language": "python",
   "name": "python3"
  },
  "language_info": {
   "codemirror_mode": {
    "name": "ipython",
    "version": 3
   },
   "file_extension": ".py",
   "mimetype": "text/x-python",
   "name": "python",
   "nbconvert_exporter": "python",
   "pygments_lexer": "ipython3",
   "version": "3.6.10"
  }
 },
 "nbformat": 4,
 "nbformat_minor": 4
}
