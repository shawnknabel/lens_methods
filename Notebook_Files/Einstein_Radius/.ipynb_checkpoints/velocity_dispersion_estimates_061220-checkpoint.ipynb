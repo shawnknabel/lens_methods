{
 "cells": [
  {
   "cell_type": "markdown",
   "metadata": {},
   "source": [
    "# 06/12/20 - This notebook explores the estimation of velocity dispersion of candidates as a funciton of stellar mass, with a fit taken from Zihad(2016), where:\n",
    "# ---\n",
    "# $\\sigma(M_*) = \\sigma_b * (M_* / M_b)^{\\alpha}$\n",
    "#\n",
    "## For z < 0.2: (SDSS fit)\n",
    "### $\\sigma = 10^{2.073} (M_*/ 10^{10.26} M_{\\odot})^{\\alpha}$\n",
    "### where $\\alpha = 0.403$ if $M_* <= 10^{10.26}$, or $\\alpha = 0.293$ otherwise\n",
    "## For z > 0.2: (SHELS fit)\n",
    "### $\\sigma = 10^{2.071} (M_* / 10^{10.26} M_{\\odot})^{0.281}$"
   ]
  },
  {
   "cell_type": "code",
   "execution_count": 108,
   "metadata": {},
   "outputs": [],
   "source": [
    "#libraries\n",
    "\n",
    "%matplotlib inline\n",
    "import matplotlib.pyplot as plt\n",
    "#from matplotlib import colors as colors\n",
    "#import matplotlib.text as text\n",
    "#import matplotlib.lines as lines\n",
    "import numpy as np\n",
    "#from numpy.polynomial.polynomial import polyfit\n",
    "import pandas as pd\n",
    "#from matplotlib_venn import venn3, venn3_circles\n",
    "import matplotlib.lines as lines\n",
    "from astropy import constants as const\n",
    "#from astropy.io import fits\n",
    "#import astropy.coordinates as coord\n",
    "import astropy.units as u\n",
    "#from astropy.table import Table\n",
    "# import ephem\n",
    "from astropy.cosmology import FlatLambdaCDM, z_at_value\n",
    "\n",
    "c = const.c.to('km/s').value #c in km/s\n",
    "h0 = 73.8 #h0 in km/(Mpc*s) Riess2011\n",
    "cosmo = FlatLambdaCDM(h0, Om0=0.262)"
   ]
  },
  {
   "cell_type": "code",
   "execution_count": 109,
   "metadata": {},
   "outputs": [],
   "source": [
    "# try this again???\n",
    "\n",
    "# create velocity disperions estimator\n",
    "def calculate_sigma (z, mass):\n",
    "    mb = 10**(10.26)\n",
    "    if z < 0.2: # SDSS fit\n",
    "        sigma_b = 10**(2.073)\n",
    "        if mass < mb:\n",
    "            alpha = 0.403\n",
    "        else:\n",
    "            alpha = 0.293\n",
    "        sigma = sigma_b * ( mass / mb ) ** (alpha)\n",
    "    elif (z >= 0.2) & (z < 0.7): # SHELS fit\n",
    "        sigma_b = 10**(2.071)\n",
    "        alpha = 0.281\n",
    "        sigma = sigma_b * ( mass / mb ) ** (alpha)\n",
    "    else:\n",
    "        print(f'Redshift out of range. {z}')\n",
    "        sigma = 0\n",
    "    return sigma\n",
    "            "
   ]
  },
  {
   "cell_type": "code",
   "execution_count": 169,
   "metadata": {},
   "outputs": [],
   "source": [
    "z1 = np.linspace(0.1, 0.65, 10)\n",
    "mass1 = 10**(np.linspace(9.5, 12, 10))\n",
    "z =[]\n",
    "mass = []\n",
    "def calculate_sigmas (z, mass):\n",
    "    sigmas = []\n",
    "    for i in range(len(z)):\n",
    "        sigma = calculate_sigma(z[i], mass[i])\n",
    "        sigmas.append(sigma)\n",
    "    return sigmas\n",
    "    #print(sigmas)"
   ]
  },
  {
   "cell_type": "code",
   "execution_count": 170,
   "metadata": {},
   "outputs": [
    {
     "data": {
      "text/plain": [
       "[58.441317755738595,\n",
       " 75.62483575513482,\n",
       " 103.16944900287172,\n",
       " 123.48285630320615,\n",
       " 147.79584410084237,\n",
       " 176.89590431763747,\n",
       " 211.7255810183932,\n",
       " 253.412999190093,\n",
       " 303.308404443293,\n",
       " 363.0278971479567]"
      ]
     },
     "execution_count": 170,
     "metadata": {},
     "output_type": "execute_result"
    }
   ],
   "source": [
    "calculate_sigmas(z1, mass1)\n",
    "#sigmas"
   ]
  },
  {
   "cell_type": "code",
   "execution_count": 164,
   "metadata": {},
   "outputs": [
    {
     "data": {
      "text/plain": [
       "137.54347738119625"
      ]
     },
     "execution_count": 164,
     "metadata": {},
     "output_type": "execute_result"
    }
   ],
   "source": [
    "calculate_sigma(0.3, 10**(10.5))"
   ]
  },
  {
   "cell_type": "code",
   "execution_count": 191,
   "metadata": {},
   "outputs": [],
   "source": [
    "# load in data\n",
    "\n",
    "spec = pd.read_csv('/home/shawn/Desktop/gravitational_lensing_research/Lens_Project_Files/spec_latest.csv')\n",
    "mac = pd.read_csv('/home/shawn/Desktop/gravitational_lensing_research/Lens_Project_Files/mac_latest.csv')\n",
    "zoo = pd.read_csv('/home/shawn/Desktop/gravitational_lensing_research/Lens_Project_Files/zoo_latest.csv')"
   ]
  },
  {
   "cell_type": "code",
   "execution_count": 192,
   "metadata": {},
   "outputs": [
    {
     "name": "stdout",
     "output_type": "stream",
     "text": [
      "Redshift out of range. 0.7215999960899353\n"
     ]
    }
   ],
   "source": [
    "spec['sigma'] = calculate_sigmas(z= spec.z_lens, mass = spec.STELLAR_MASS)\n",
    "mac['sigma'] = calculate_sigmas(z = mac.Z, mass = mac.STELLAR_MASS)\n",
    "zoo['sigma'] = calculate_sigmas(z = zoo.Z, mass = zoo.STELLAR_MASS)"
   ]
  },
  {
   "cell_type": "code",
   "execution_count": 197,
   "metadata": {},
   "outputs": [
    {
     "name": "stdout",
     "output_type": "stream",
     "text": [
      "160.95495785637405 236.54117815766205 172.69879274193764\n"
     ]
    }
   ],
   "source": [
    "print(spec.sigma.mean(),\n",
    "      mac[mac.sigma > 0].sigma.mean(),\n",
    "      zoo.sigma.mean())"
   ]
  },
  {
   "cell_type": "code",
   "execution_count": 196,
   "metadata": {},
   "outputs": [
    {
     "data": {
      "text/plain": [
       "0     265.717604\n",
       "1     259.648833\n",
       "2       0.000000\n",
       "3     250.962957\n",
       "4     235.048435\n",
       "5     263.772729\n",
       "6     271.386687\n",
       "7     207.321227\n",
       "8     222.092727\n",
       "9     231.634974\n",
       "10    252.369551\n",
       "11    204.536204\n",
       "12    243.522847\n",
       "13    229.186553\n",
       "14    279.291311\n",
       "15    276.440713\n",
       "16    268.777693\n",
       "17    239.144431\n",
       "18    131.946582\n",
       "19    179.814964\n",
       "20    236.525638\n",
       "21    214.797345\n",
       "22    189.400102\n",
       "23    275.803793\n",
       "24    186.102433\n",
       "25    224.567899\n",
       "26    211.408846\n",
       "27    244.205827\n",
       "28    267.359316\n",
       "29    215.922716\n",
       "30    188.050452\n",
       "31    206.677069\n",
       "32    265.339511\n",
       "33    274.872488\n",
       "34    200.260846\n",
       "35    262.704719\n",
       "36    227.347571\n",
       "37    196.967165\n",
       "38    222.056856\n",
       "39    235.389055\n",
       "40    306.795305\n",
       "41    257.190365\n",
       "42    286.362571\n",
       "43    281.268779\n",
       "44    289.190486\n",
       "45    174.261157\n",
       "46    227.448867\n",
       "Name: sigma, dtype: float64"
      ]
     },
     "execution_count": 196,
     "metadata": {},
     "output_type": "execute_result"
    }
   ],
   "source": [
    "mac.sigma"
   ]
  },
  {
   "cell_type": "code",
   "execution_count": 220,
   "metadata": {},
   "outputs": [
    {
     "name": "stderr",
     "output_type": "stream",
     "text": [
      "/home/shawn/miniconda3/envs/astroconda/lib/python3.6/site-packages/pandas/core/series.py:679: RuntimeWarning: divide by zero encountered in log10\n",
      "  result = getattr(ufunc, method)(*inputs, **kwargs)\n",
      "/home/shawn/miniconda3/envs/astroconda/lib/python3.6/site-packages/numpy/lib/histograms.py:839: RuntimeWarning: invalid value encountered in greater_equal\n",
      "  keep = (tmp_a >= first_edge)\n",
      "/home/shawn/miniconda3/envs/astroconda/lib/python3.6/site-packages/numpy/lib/histograms.py:840: RuntimeWarning: invalid value encountered in less_equal\n",
      "  keep &= (tmp_a <= last_edge)\n",
      "/home/shawn/miniconda3/envs/astroconda/lib/python3.6/site-packages/pandas/core/series.py:679: RuntimeWarning: divide by zero encountered in log10\n",
      "  result = getattr(ufunc, method)(*inputs, **kwargs)\n",
      "/home/shawn/miniconda3/envs/astroconda/lib/python3.6/site-packages/numpy/lib/histograms.py:839: RuntimeWarning: invalid value encountered in greater_equal\n",
      "  keep = (tmp_a >= first_edge)\n",
      "/home/shawn/miniconda3/envs/astroconda/lib/python3.6/site-packages/numpy/lib/histograms.py:840: RuntimeWarning: invalid value encountered in less_equal\n",
      "  keep &= (tmp_a <= last_edge)\n"
     ]
    },
    {
     "data": {
      "text/plain": [
       "(1.5, 2.5)"
      ]
     },
     "execution_count": 220,
     "metadata": {},
     "output_type": "execute_result"
    },
    {
     "data": {
      "image/png": "[encoded data removed]",
      "text/plain": [
       "<Figure size 576x576 with 3 Axes>"
      ]
     },
     "metadata": {
      "needs_background": "light"
     },
     "output_type": "display_data"
    }
   ],
   "source": [
    "# Three-panel plot\n",
    "from matplotlib.ticker import NullFormatter\n",
    "nullfmt   = NullFormatter()         # no labels\n",
    "# definitions for the axes\n",
    "left, width = 0.1, 0.65\n",
    "lower, height = 0.1, 0.65\n",
    "lower_h = left_h = left+width+0.02\n",
    "    \n",
    "rect_scatter = [left, lower, width, height]\n",
    "rect_histx = [left, lower_h, width, 0.2]\n",
    "rect_histy = [left_h, lower, 0.2, height]\n",
    "    \n",
    "    # start with a rectangular Figure\n",
    "plt.figure(1, figsize=(8,8))\n",
    "    \n",
    "axScatter = plt.axes(rect_scatter)\n",
    "axHistx = plt.axes(rect_histx)\n",
    "axHisty = plt.axes(rect_histy)\n",
    "    \n",
    "    # no labels\n",
    "axHistx.xaxis.set_major_formatter(nullfmt)\n",
    "axHisty.yaxis.set_major_formatter(nullfmt)\n",
    "\n",
    "# the scatter plots\n",
    "axScatter.set_xlim(8.65,12.15)\n",
    "axScatter.set_ylim(1.5,2.5)\n",
    "axScatter.plot(np.log10(spec.STELLAR_MASS), np.log10(spec.sigma), \n",
    "               'bo',label='GAMA Spectroscopy - 47 candidates', alpha = 0.85)\n",
    "#axScatter.plot(np.log10(3.6425e+10), 0.1968, 'b*',label='Median GAMA', ms = 20, fillstyle = 'none')\n",
    "#axScatter.plot(np.log10(spec.max_stellar_mass_salpeter), spec.z1, 'b^',label='GAMA Spec 2-arcsec Aperture Max Mass', fillstyle='none')\n",
    "axScatter.plot(np.log10(mac.STELLAR_MASS), np.log10(mac.sigma), \n",
    "               'go',label='LinKS Machine Learning - 47 candidates', alpha = 0.85)\n",
    "#axScatter.plot(np.log10(2.00e+11),0.19, 'g*',label='Median SLACS', ms = 20, fillstyle = 'none')\n",
    "axScatter.plot(np.log10(zoo.STELLAR_MASS), np.log10(zoo.sigma), \n",
    "               'yo',label='GalaxyZoo Citizen Science - 29 candidates', alpha = 0.85)\n",
    "#axScatter.plot(np.log10(9.662e+09),0.1076, 'y*',label='Median GalaxyZoo Population', ms=20, fillstyle = 'none')\n",
    "#axScatter.plot(np.log10(decals.STELLAR_MASS), decals.Z, 'rs',label='DECALS - 2 candidates', fillstyle = 'none')\n",
    "#axScatter.plot(np.log10(slacs.STELLAR_MASS), slacs.Z, 'cs',label='SLACS - 2 candidates', fillstyle = 'none')\n",
    "#axScatter.plot(np.log10(s4tm.STELLAR_MASS), s4tm.Z, 'ms',label='S4TM - 1 candidate', fillstyle = 'none')\n",
    "\n",
    "# plot two overlaps\n",
    "G136604 = mac[mac.GAMA_ID == 136604]\n",
    "G124486 = mac[mac.GAMA_ID == 124486]\n",
    "axScatter.plot(np.log10(G136604.STELLAR_MASS), G136604.sigma, 'ks', label='Overlap ML/GZ - G136604', fillstyle = 'none')\n",
    "axScatter.plot(np.log10(G124486.STELLAR_MASS), G124486.sigma, 'kD', label='Overlap ML/GZ - G124486', fillstyle = 'none')\n",
    "\n",
    "#axScatter.plot(9.5,0.4, 'ko')\n",
    "axScatter.errorbar(11.0, 2.0,  \n",
    "                   xerr= 0.09,\n",
    "                  fmt = 'o',\n",
    "                   color = 'black',\n",
    "                   solid_capstyle = 'round',\n",
    "                  label = 'Stellar Mass Mean Error ~ 0.09 dex')\n",
    "\n",
    "#axScatter.legend(loc='best', numpoints=1, fontsize = 12)\n",
    "    \n",
    "    \n",
    "# now determine nice limits by hand:\n",
    "binwidth = 0.5\n",
    "bins=20\n",
    "#xbins = np.arange(min(zoo_hard_cut.STELLAR_MASS),max(zoo_hard_cut.STELLAR_MASS), (max(zoo_hard_cut.STELLAR_MASS)-min(zoo_hard_cut.STELLAR_MASS))/bins)\n",
    "#ybins = np.arange(min(zoo_hard_cut.Z),max(zoo_hard_cut.Z), (max(zoo_hard_cut.Z)-min(zoo_hard_cut.Z))/bins)\n",
    "\n",
    "#axScatter.set_xlim((min(zoo.STELLAR_MASS)-0.5, max(zoo.STELLAR_MASS)+0.5))\n",
    "#axScatter.set_ylim((min(zoo.Z)-0.05, max(zoo.Z)+0.05))\n",
    "axScatter.axis([8.65,12.15,1.5,2.5], prop={'size':25})\n",
    "\n",
    "axScatter.set_xlabel(r'Stellar Mass $log(M_*/M_\\odot)$', fontsize=20)\n",
    "axScatter.set_ylabel(r'Velocity Dispersion (\\sigma)', fontsize=20)\n",
    "    \n",
    "#xbins = np.arange(8.5, 12.5, xbinwidth)\n",
    "#ybins = np.arange(0., 0.6, ybinwidth)\n",
    "    \n",
    "axHisty.hist(np.log10(spec.sigma), orientation='horizontal', \n",
    "             range=[1.5,2.5], bins=bins,color='y', histtype = 'step', linewidth=3)\n",
    "axHisty.hist(np.log10(mac.sigma), orientation='horizontal', \n",
    "             range=[1.5,2.5], bins=bins,color='g', histtype = 'step', linewidth=3)\n",
    "axHisty.hist(np.log10(zoo.sigma), orientation='horizontal', \n",
    "             range=[1.5,2.5],  bins=bins,color='b',  histtype = 'step', linewidth=3)\n",
    "    \n",
    "axHistx.hist(np.log10(zoo.STELLAR_MASS), range=[7,12], \n",
    "             bins=bins,color='y', histtype = 'step', linewidth=3)\n",
    "axHistx.hist(np.log10(mac.STELLAR_MASS), range=[7,12], \n",
    "             bins=bins,color='g', histtype = 'step', linewidth=3)\n",
    "axHistx.hist(np.log10(spec.STELLAR_MASS), range=[7,12], \n",
    "             bins=bins,color='b', histtype = 'step', linewidth=3)\n",
    "    \n",
    "axHistx.set_xlim( axScatter.get_xlim() )\n",
    "axHisty.set_ylim( axScatter.get_ylim() )\n",
    "\n",
    "#plt.savefig('/home/shawn/Desktop/gravitational_lensing_research/Lens_Project_Visuals/121519_all_methods_medians_maxmasses_additional_surveys.pdf')\n",
    "#plt.savefig('/home/shawn/Desktop/gravitational_lensing_research/Lens_Project_Visuals/050420_bp_overlaps.png')\n",
    "#plt.savefig('/home/shawn/Desktop/gravitational_lensing_research/Lens_Project_Visuals/Final_PDFs_for_Paper/bp_overlaps_060920..pdf')\n",
    "#plt.savefig('/home/shawn/Desktop/gravitational_lensing_research/Lens_Project_Visuals/050420_bp_overlaps.png')"
   ]
  },
  {
   "cell_type": "code",
   "execution_count": 221,
   "metadata": {},
   "outputs": [
    {
     "data": {
      "text/plain": [
       "2.1194308414873904"
      ]
     },
     "execution_count": 221,
     "metadata": {},
     "output_type": "execute_result"
    }
   ],
   "source": [
    "np.log10(zoo.sigma.min())"
   ]
  },
  {
   "cell_type": "markdown",
   "metadata": {},
   "source": [
    "# Einstein Radius of Isothermal Sphere:\n",
    "## $\\theta_E = 4\\pi\\sigma^2 D_{SL} / (D_S c^2$)"
   ]
  },
  {
   "cell_type": "code",
   "execution_count": 265,
   "metadata": {},
   "outputs": [
    {
     "name": "stderr",
     "output_type": "stream",
     "text": [
      "/home/shawn/miniconda3/envs/astroconda/lib/python3.6/site-packages/ipykernel_launcher.py:5: SettingWithCopyWarning: \n",
      "A value is trying to be set on a copy of a slice from a DataFrame\n",
      "\n",
      "See the caveats in the documentation: https://pandas.pydata.org/pandas-docs/stable/user_guide/indexing.html#returning-a-view-versus-a-copy\n",
      "  \"\"\"\n",
      "/home/shawn/miniconda3/envs/astroconda/lib/python3.6/site-packages/ipykernel_launcher.py:6: SettingWithCopyWarning: \n",
      "A value is trying to be set on a copy of a slice from a DataFrame\n",
      "\n",
      "See the caveats in the documentation: https://pandas.pydata.org/pandas-docs/stable/user_guide/indexing.html#returning-a-view-versus-a-copy\n",
      "  \n",
      "/home/shawn/miniconda3/envs/astroconda/lib/python3.6/site-packages/ipykernel_launcher.py:8: SettingWithCopyWarning: \n",
      "A value is trying to be set on a copy of a slice from a DataFrame\n",
      "\n",
      "See the caveats in the documentation: https://pandas.pydata.org/pandas-docs/stable/user_guide/indexing.html#returning-a-view-versus-a-copy\n",
      "  \n",
      "/home/shawn/miniconda3/envs/astroconda/lib/python3.6/site-packages/ipykernel_launcher.py:9: SettingWithCopyWarning: \n",
      "A value is trying to be set on a copy of a slice from a DataFrame\n",
      "\n",
      "See the caveats in the documentation: https://pandas.pydata.org/pandas-docs/stable/user_guide/indexing.html#returning-a-view-versus-a-copy\n",
      "  if __name__ == '__main__':\n"
     ]
    },
    {
     "data": {
      "text/plain": [
       "0     0.218652\n",
       "1          NaN\n",
       "2     0.250109\n",
       "3     0.219634\n",
       "4     0.306403\n",
       "5          NaN\n",
       "6     0.419019\n",
       "7     0.247211\n",
       "8     0.110471\n",
       "9          NaN\n",
       "10    0.227255\n",
       "11    0.218140\n",
       "12    0.144671\n",
       "13         NaN\n",
       "14    0.273981\n",
       "15    0.229014\n",
       "16    0.192943\n",
       "17         NaN\n",
       "18    0.251248\n",
       "19    0.212063\n",
       "20         NaN\n",
       "21         NaN\n",
       "22         NaN\n",
       "23    0.024189\n",
       "24         NaN\n",
       "25    0.381471\n",
       "26    0.750172\n",
       "27    0.376155\n",
       "28         NaN\n",
       "29         NaN\n",
       "30         NaN\n",
       "31         NaN\n",
       "32         NaN\n",
       "33    0.484068\n",
       "34         NaN\n",
       "35         NaN\n",
       "36    0.362361\n",
       "37    0.430439\n",
       "38    0.256526\n",
       "39    0.138860\n",
       "40    0.219301\n",
       "41    0.025995\n",
       "42    0.344412\n",
       "43    0.273347\n",
       "44    0.113693\n",
       "45    0.134028\n",
       "46    0.345686\n",
       "Name: theta_e_veldisp, dtype: float64"
      ]
     },
     "execution_count": 265,
     "metadata": {},
     "output_type": "execute_result"
    }
   ],
   "source": [
    "spec['D_source'] = 0\n",
    "spec['D_lens'] = 0\n",
    "for i in range(len(spec)):\n",
    "    if spec.D1[i] < spec.D2[i]:\n",
    "        spec.D_source[i] = spec.D2[i]\n",
    "        spec.D_lens[i] = spec.D1[i]\n",
    "    else:\n",
    "        spec.D_source[i] = spec.D1[i]\n",
    "        spec.D_lens[i] = spec.D2[i]\n",
    "    \n",
    "spec['theta_e_veldisp'] = 206265 * 4 * np.pi * (spec.sigma)**2 * (spec.D_source - spec.D_lens) / (spec.D_source * c**2)\n",
    "spec.theta_e_veldisp"
   ]
  },
  {
   "cell_type": "code",
   "execution_count": 266,
   "metadata": {},
   "outputs": [
    {
     "data": {
      "text/plain": [
       "0     2.036267\n",
       "1     1.944316\n",
       "2     0.000000\n",
       "3     1.816407\n",
       "4     1.593341\n",
       "5     2.006568\n",
       "6     2.124081\n",
       "7     1.239600\n",
       "8     1.422534\n",
       "9     1.547399\n",
       "10    1.836826\n",
       "11    1.206520\n",
       "12    1.710304\n",
       "13    1.514859\n",
       "14    2.249618\n",
       "15    2.203931\n",
       "16    2.083437\n",
       "17    1.649357\n",
       "18    0.502100\n",
       "19    0.932493\n",
       "20    1.613431\n",
       "21    1.330613\n",
       "22    1.034557\n",
       "23    2.193787\n",
       "24    0.998845\n",
       "25    1.454418\n",
       "26    1.288963\n",
       "27    1.719911\n",
       "28    2.061506\n",
       "29    1.344592\n",
       "30    1.019865\n",
       "31    1.231909\n",
       "32    2.030476\n",
       "33    2.178997\n",
       "34    1.156608\n",
       "35    1.990351\n",
       "36    1.490646\n",
       "37    1.118875\n",
       "38    1.422075\n",
       "39    1.597962\n",
       "40    2.714510\n",
       "41    1.907671\n",
       "42    2.364975\n",
       "43    2.281587\n",
       "44    2.411915\n",
       "45    0.875780\n",
       "46    1.491975\n",
       "Name: theta_e_veldisp, dtype: float64"
      ]
     },
     "execution_count": 266,
     "metadata": {},
     "output_type": "execute_result"
    }
   ],
   "source": [
    "mac['theta_e_veldisp'] = 206265 * 4 * np.pi * (mac.sigma)**2 / c**2\n",
    "mac.theta_e_veldisp"
   ]
  },
  {
   "cell_type": "code",
   "execution_count": 267,
   "metadata": {},
   "outputs": [
    {
     "data": {
      "text/plain": [
       "0     0.721945\n",
       "1     0.769380\n",
       "2     1.262593\n",
       "3     0.664093\n",
       "4     0.976812\n",
       "5     0.998845\n",
       "6     1.762487\n",
       "7     0.550908\n",
       "8     2.030476\n",
       "9     0.499868\n",
       "10    0.736580\n",
       "11    0.699193\n",
       "12    0.524477\n",
       "13    0.576472\n",
       "14    0.778163\n",
       "15    0.853976\n",
       "Name: theta_e_veldisp, dtype: float64"
      ]
     },
     "execution_count": 267,
     "metadata": {},
     "output_type": "execute_result"
    }
   ],
   "source": [
    "zoo['theta_e_veldisp'] = 206265 * 4 * np.pi * (zoo.sigma)**2 / c**2\n",
    "zoo.theta_e_veldisp"
   ]
  },
  {
   "cell_type": "code",
   "execution_count": 282,
   "metadata": {},
   "outputs": [
    {
     "name": "stderr",
     "output_type": "stream",
     "text": [
      "/home/shawn/miniconda3/envs/astroconda/lib/python3.6/site-packages/numpy/lib/histograms.py:839: RuntimeWarning: invalid value encountered in greater_equal\n",
      "  keep = (tmp_a >= first_edge)\n",
      "/home/shawn/miniconda3/envs/astroconda/lib/python3.6/site-packages/numpy/lib/histograms.py:840: RuntimeWarning: invalid value encountered in less_equal\n",
      "  keep &= (tmp_a <= last_edge)\n",
      "/home/shawn/miniconda3/envs/astroconda/lib/python3.6/site-packages/numpy/lib/histograms.py:839: RuntimeWarning: invalid value encountered in greater_equal\n",
      "  keep = (tmp_a >= first_edge)\n",
      "/home/shawn/miniconda3/envs/astroconda/lib/python3.6/site-packages/numpy/lib/histograms.py:840: RuntimeWarning: invalid value encountered in less_equal\n",
      "  keep &= (tmp_a <= last_edge)\n"
     ]
    },
    {
     "data": {
      "image/png": "[encoded data removed]",
      "text/plain": [
       "<Figure size 432x288 with 1 Axes>"
      ]
     },
     "metadata": {
      "needs_background": "light"
     },
     "output_type": "display_data"
    }
   ],
   "source": [
    "# Histogram of Einstein Radii\n",
    "plt.xlabel(\"Estimated Einstein Radius (arcsec)\")\n",
    "plt.ylabel(\"Count\")\n",
    "plt.title(\"Estimated Einstein Radii\")\n",
    "\n",
    "#plt.ylim(0,14.5)\n",
    "\n",
    "plt.hist(spec.theta_e_Ang_slide,bins=11,range=[0.0,2.75],\n",
    "         color='b',label='GAMA Spectroscopy', \n",
    "         histtype = 'step', linewidth=2.5, alpha = 0.3)\n",
    "plt.hist(mac.theta_e_Ang_slide,bins=11,range=[0.0,2.75],\n",
    "         color='g',label='LinKS Machine Learning', \n",
    "         histtype = 'step', linewidth=2.5, alpha = 0.3)\n",
    "plt.hist(zoo.theta_e_Ang_slide,bins=11,range=[0.0,2.75],\n",
    "         color='y',label='GalaxyZoo Citizen Science', \n",
    "         histtype = 'step', linewidth=2.5, alpha = 0.3)\n",
    "\n",
    "plt.hist(spec.theta_e_veldisp,bins=11,range=[0.0,2.75],\n",
    "         color='b',label='GAMA Spectroscopy', \n",
    "         histtype = 'step', linewidth=2.5)#, alpha = 0.4)\n",
    "plt.hist(mac.theta_e_veldisp,bins=11,range=[0.0,2.75],\n",
    "         color='g',label='LinKS Machine Learning', \n",
    "         histtype = 'step', linewidth=2.5)#, alpha = 0.4)\n",
    "plt.hist(zoo.theta_e_veldisp,bins=11,range=[0.0,2.75],\n",
    "         color='y',label='GalaxyZoo Citizen Science', \n",
    "         histtype = 'step', linewidth=2.5)#, alpha = 0.4)\n",
    "#plt.hist(slacs.theta_e_sie,bins=10,color='c',label='SLACS (Bolton-08)', histtype = 'step', linestyle='dashed', linewidth=1, alpha=0.5)\n",
    "#plt.hist(s4tm.theta_e_sie,bins=10,color='m',label='S4TM (Shu-17)', histtype = 'step', linestyle='dashed', linewidth=1, alpha=0.5)\n",
    "#plt.hist(bells.theta_e_sie,bins=10,color='k',label='BELLS (Brownstein-12)', histtype = 'step', linestyle='dashed', linewidth=1, alpha=0.5)\n",
    "#plt.fill_betweenx(x1=0.1, x2=0.2, y=(0,15),# Fill region for false candidates\n",
    " #                facecolor=\"purple\", # The fill color\n",
    "  #               color='purple',       # The outline color\n",
    "   #              alpha=0.15, # Transparency of the fill\n",
    "    #            label='NextGen Resolution')\n",
    "\n",
    "plt.legend(loc='upper right', fontsize=8)\n",
    "\n",
    "plt.axvline(0.65, color='k', linestyle='dotted', linewidth=0.75)\n",
    "plt.axvline(1.3, color='k', linestyle='dotted', linewidth=0.75)\n",
    "#plt.axvline(1.95, color='k', linestyle='dashed', linewidth=1)\n",
    "#plt.axvline(1, color='b', linestyle='solid', linewidth=1)\n",
    "#plt.axvline(1, color='g', linestyle='dashed', linewidth=1)\n",
    "#plt.axvline(0.1, color='k', linestyle='dashed', linewidth=0.75)\n",
    "#plt.axvline(0.2, color='k', linestyle='dashed', linewidth=0.75)\n",
    "\n",
    "\n",
    "plt.text(0.675, 12.4, '1 PSF')\n",
    "plt.text(0.675, 13.2, 'KiDS')\n",
    "plt.text(1.325, 12.4, '2 PSF')\n",
    "#plt.text(-0.06, 13.2, '0.1-0.2 arcsec')\n",
    "#plt.text(0.125, 13.2, 'JWST')\n",
    "#plt.text(0.125, 12.4, 'Euclid')\n",
    "#plt.text(2, 11, '3 PSF')\n",
    "#plt.text(1.05, 12, 'GAMA aperture', color='b', fontsize=8)\n",
    "#plt.text(1.05, 13, 'minimum from training set Petrillo-2019', color = 'g', fontsize=8)\n",
    "#plt.savefig('/home/shawn/Desktop/gravitational_lensing_research/Lens_Project_Visuals/PNGs/theta_e_veldisp_061220.png')\n",
    "#plt.savefig('/home/shawn/Desktop/gravitational_lensing_research/Lens_Project_Visuals/Final_PDFs_for_Paper/theta_e_060920..pdf')\n"
   ]
  },
  {
   "cell_type": "code",
   "execution_count": 279,
   "metadata": {},
   "outputs": [
    {
     "data": {
      "text/plain": [
       "2.7145098213284373"
      ]
     },
     "execution_count": 279,
     "metadata": {},
     "output_type": "execute_result"
    }
   ],
   "source": []
  },
  {
   "cell_type": "code",
   "execution_count": null,
   "metadata": {},
   "outputs": [],
   "source": []
  }
 ],
 "metadata": {
  "kernelspec": {
   "display_name": "Python 3",
   "language": "python",
   "name": "python3"
  },
  "language_info": {
   "codemirror_mode": {
    "name": "ipython",
    "version": 3
   },
   "file_extension": ".py",
   "mimetype": "text/x-python",
   "name": "python",
   "nbconvert_exporter": "python",
   "pygments_lexer": "ipython3",
   "version": "3.6.10"
  }
 },
 "nbformat": 4,
 "nbformat_minor": 4
}
